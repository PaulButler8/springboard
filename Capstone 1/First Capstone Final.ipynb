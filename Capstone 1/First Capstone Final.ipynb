{
 "cells": [
  {
   "cell_type": "code",
   "execution_count": 1,
   "metadata": {},
   "outputs": [],
   "source": [
    "import pandas as pd\n",
    "import numpy as np\n",
    "import matplotlib.pyplot as plt\n",
    "import seaborn as sns"
   ]
  },
  {
   "cell_type": "code",
   "execution_count": 2,
   "metadata": {},
   "outputs": [],
   "source": [
    "leads = pd.read_csv(\"C:/Users/PaulB/OneDrive/Desktop/First Capstone/leads.csv\")"
   ]
  },
  {
   "cell_type": "code",
   "execution_count": 3,
   "metadata": {},
   "outputs": [
    {
     "data": {
      "text/html": [
       "<div>\n",
       "<style scoped>\n",
       "    .dataframe tbody tr th:only-of-type {\n",
       "        vertical-align: middle;\n",
       "    }\n",
       "\n",
       "    .dataframe tbody tr th {\n",
       "        vertical-align: top;\n",
       "    }\n",
       "\n",
       "    .dataframe thead th {\n",
       "        text-align: right;\n",
       "    }\n",
       "</style>\n",
       "<table border=\"1\" class=\"dataframe\">\n",
       "  <thead>\n",
       "    <tr style=\"text-align: right;\">\n",
       "      <th></th>\n",
       "      <th>Prospect ID</th>\n",
       "      <th>Lead Number</th>\n",
       "      <th>Lead Origin</th>\n",
       "      <th>Lead Source</th>\n",
       "      <th>Do Not Email</th>\n",
       "      <th>Do Not Call</th>\n",
       "      <th>Converted</th>\n",
       "      <th>TotalVisits</th>\n",
       "      <th>Total Time Spent on Website</th>\n",
       "      <th>Page Views Per Visit</th>\n",
       "      <th>...</th>\n",
       "      <th>Get updates on DM Content</th>\n",
       "      <th>Lead Profile</th>\n",
       "      <th>City</th>\n",
       "      <th>Asymmetrique Activity Index</th>\n",
       "      <th>Asymmetrique Profile Index</th>\n",
       "      <th>Asymmetrique Activity Score</th>\n",
       "      <th>Asymmetrique Profile Score</th>\n",
       "      <th>I agree to pay the amount through cheque</th>\n",
       "      <th>A free copy of Mastering The Interview</th>\n",
       "      <th>Last Notable Activity</th>\n",
       "    </tr>\n",
       "  </thead>\n",
       "  <tbody>\n",
       "    <tr>\n",
       "      <td>0</td>\n",
       "      <td>7927b2df-8bba-4d29-b9a2-b6e0beafe620</td>\n",
       "      <td>660737</td>\n",
       "      <td>API</td>\n",
       "      <td>Olark Chat</td>\n",
       "      <td>No</td>\n",
       "      <td>No</td>\n",
       "      <td>0</td>\n",
       "      <td>0.0</td>\n",
       "      <td>0</td>\n",
       "      <td>0.0</td>\n",
       "      <td>...</td>\n",
       "      <td>No</td>\n",
       "      <td>Select</td>\n",
       "      <td>Select</td>\n",
       "      <td>02.Medium</td>\n",
       "      <td>02.Medium</td>\n",
       "      <td>15.0</td>\n",
       "      <td>15.0</td>\n",
       "      <td>No</td>\n",
       "      <td>No</td>\n",
       "      <td>Modified</td>\n",
       "    </tr>\n",
       "    <tr>\n",
       "      <td>1</td>\n",
       "      <td>2a272436-5132-4136-86fa-dcc88c88f482</td>\n",
       "      <td>660728</td>\n",
       "      <td>API</td>\n",
       "      <td>Organic Search</td>\n",
       "      <td>No</td>\n",
       "      <td>No</td>\n",
       "      <td>0</td>\n",
       "      <td>5.0</td>\n",
       "      <td>674</td>\n",
       "      <td>2.5</td>\n",
       "      <td>...</td>\n",
       "      <td>No</td>\n",
       "      <td>Select</td>\n",
       "      <td>Select</td>\n",
       "      <td>02.Medium</td>\n",
       "      <td>02.Medium</td>\n",
       "      <td>15.0</td>\n",
       "      <td>15.0</td>\n",
       "      <td>No</td>\n",
       "      <td>No</td>\n",
       "      <td>Email Opened</td>\n",
       "    </tr>\n",
       "    <tr>\n",
       "      <td>2</td>\n",
       "      <td>8cc8c611-a219-4f35-ad23-fdfd2656bd8a</td>\n",
       "      <td>660727</td>\n",
       "      <td>Landing Page Submission</td>\n",
       "      <td>Direct Traffic</td>\n",
       "      <td>No</td>\n",
       "      <td>No</td>\n",
       "      <td>1</td>\n",
       "      <td>2.0</td>\n",
       "      <td>1532</td>\n",
       "      <td>2.0</td>\n",
       "      <td>...</td>\n",
       "      <td>No</td>\n",
       "      <td>Potential Lead</td>\n",
       "      <td>Mumbai</td>\n",
       "      <td>02.Medium</td>\n",
       "      <td>01.High</td>\n",
       "      <td>14.0</td>\n",
       "      <td>20.0</td>\n",
       "      <td>No</td>\n",
       "      <td>Yes</td>\n",
       "      <td>Email Opened</td>\n",
       "    </tr>\n",
       "    <tr>\n",
       "      <td>3</td>\n",
       "      <td>0cc2df48-7cf4-4e39-9de9-19797f9b38cc</td>\n",
       "      <td>660719</td>\n",
       "      <td>Landing Page Submission</td>\n",
       "      <td>Direct Traffic</td>\n",
       "      <td>No</td>\n",
       "      <td>No</td>\n",
       "      <td>0</td>\n",
       "      <td>1.0</td>\n",
       "      <td>305</td>\n",
       "      <td>1.0</td>\n",
       "      <td>...</td>\n",
       "      <td>No</td>\n",
       "      <td>Select</td>\n",
       "      <td>Mumbai</td>\n",
       "      <td>02.Medium</td>\n",
       "      <td>01.High</td>\n",
       "      <td>13.0</td>\n",
       "      <td>17.0</td>\n",
       "      <td>No</td>\n",
       "      <td>No</td>\n",
       "      <td>Modified</td>\n",
       "    </tr>\n",
       "    <tr>\n",
       "      <td>4</td>\n",
       "      <td>3256f628-e534-4826-9d63-4a8b88782852</td>\n",
       "      <td>660681</td>\n",
       "      <td>Landing Page Submission</td>\n",
       "      <td>Google</td>\n",
       "      <td>No</td>\n",
       "      <td>No</td>\n",
       "      <td>1</td>\n",
       "      <td>2.0</td>\n",
       "      <td>1428</td>\n",
       "      <td>1.0</td>\n",
       "      <td>...</td>\n",
       "      <td>No</td>\n",
       "      <td>Select</td>\n",
       "      <td>Mumbai</td>\n",
       "      <td>02.Medium</td>\n",
       "      <td>01.High</td>\n",
       "      <td>15.0</td>\n",
       "      <td>18.0</td>\n",
       "      <td>No</td>\n",
       "      <td>No</td>\n",
       "      <td>Modified</td>\n",
       "    </tr>\n",
       "  </tbody>\n",
       "</table>\n",
       "<p>5 rows × 37 columns</p>\n",
       "</div>"
      ],
      "text/plain": [
       "                            Prospect ID  Lead Number              Lead Origin  \\\n",
       "0  7927b2df-8bba-4d29-b9a2-b6e0beafe620       660737                      API   \n",
       "1  2a272436-5132-4136-86fa-dcc88c88f482       660728                      API   \n",
       "2  8cc8c611-a219-4f35-ad23-fdfd2656bd8a       660727  Landing Page Submission   \n",
       "3  0cc2df48-7cf4-4e39-9de9-19797f9b38cc       660719  Landing Page Submission   \n",
       "4  3256f628-e534-4826-9d63-4a8b88782852       660681  Landing Page Submission   \n",
       "\n",
       "      Lead Source Do Not Email Do Not Call  Converted  TotalVisits  \\\n",
       "0      Olark Chat           No          No          0          0.0   \n",
       "1  Organic Search           No          No          0          5.0   \n",
       "2  Direct Traffic           No          No          1          2.0   \n",
       "3  Direct Traffic           No          No          0          1.0   \n",
       "4          Google           No          No          1          2.0   \n",
       "\n",
       "   Total Time Spent on Website  Page Views Per Visit  ...  \\\n",
       "0                            0                   0.0  ...   \n",
       "1                          674                   2.5  ...   \n",
       "2                         1532                   2.0  ...   \n",
       "3                          305                   1.0  ...   \n",
       "4                         1428                   1.0  ...   \n",
       "\n",
       "  Get updates on DM Content    Lead Profile    City  \\\n",
       "0                        No          Select  Select   \n",
       "1                        No          Select  Select   \n",
       "2                        No  Potential Lead  Mumbai   \n",
       "3                        No          Select  Mumbai   \n",
       "4                        No          Select  Mumbai   \n",
       "\n",
       "  Asymmetrique Activity Index Asymmetrique Profile Index  \\\n",
       "0                   02.Medium                  02.Medium   \n",
       "1                   02.Medium                  02.Medium   \n",
       "2                   02.Medium                    01.High   \n",
       "3                   02.Medium                    01.High   \n",
       "4                   02.Medium                    01.High   \n",
       "\n",
       "  Asymmetrique Activity Score Asymmetrique Profile Score  \\\n",
       "0                        15.0                       15.0   \n",
       "1                        15.0                       15.0   \n",
       "2                        14.0                       20.0   \n",
       "3                        13.0                       17.0   \n",
       "4                        15.0                       18.0   \n",
       "\n",
       "  I agree to pay the amount through cheque  \\\n",
       "0                                       No   \n",
       "1                                       No   \n",
       "2                                       No   \n",
       "3                                       No   \n",
       "4                                       No   \n",
       "\n",
       "  A free copy of Mastering The Interview Last Notable Activity  \n",
       "0                                     No              Modified  \n",
       "1                                     No          Email Opened  \n",
       "2                                    Yes          Email Opened  \n",
       "3                                     No              Modified  \n",
       "4                                     No              Modified  \n",
       "\n",
       "[5 rows x 37 columns]"
      ]
     },
     "execution_count": 3,
     "metadata": {},
     "output_type": "execute_result"
    }
   ],
   "source": [
    "leads.head()"
   ]
  },
  {
   "cell_type": "code",
   "execution_count": 4,
   "metadata": {},
   "outputs": [
    {
     "data": {
      "text/plain": [
       "Index(['Prospect ID', 'Lead Number', 'Lead Origin', 'Lead Source',\n",
       "       'Do Not Email', 'Do Not Call', 'Converted', 'TotalVisits',\n",
       "       'Total Time Spent on Website', 'Page Views Per Visit', 'Last Activity',\n",
       "       'Country', 'Specialization', 'How did you hear about X Education',\n",
       "       'What is your current occupation',\n",
       "       'What matters most to you in choosing a course', 'Search', 'Magazine',\n",
       "       'Newspaper Article', 'X Education Forums', 'Newspaper',\n",
       "       'Digital Advertisement', 'Through Recommendations',\n",
       "       'Receive More Updates About Our Courses', 'Tags', 'Lead Quality',\n",
       "       'Update me on Supply Chain Content', 'Get updates on DM Content',\n",
       "       'Lead Profile', 'City', 'Asymmetrique Activity Index',\n",
       "       'Asymmetrique Profile Index', 'Asymmetrique Activity Score',\n",
       "       'Asymmetrique Profile Score',\n",
       "       'I agree to pay the amount through cheque',\n",
       "       'A free copy of Mastering The Interview', 'Last Notable Activity'],\n",
       "      dtype='object')"
      ]
     },
     "execution_count": 4,
     "metadata": {},
     "output_type": "execute_result"
    }
   ],
   "source": [
    "leads.columns"
   ]
  },
  {
   "cell_type": "code",
   "execution_count": 5,
   "metadata": {},
   "outputs": [
    {
     "name": "stdout",
     "output_type": "stream",
     "text": [
      "<class 'pandas.core.frame.DataFrame'>\n",
      "RangeIndex: 9240 entries, 0 to 9239\n",
      "Data columns (total 37 columns):\n",
      "Prospect ID                                      9240 non-null object\n",
      "Lead Number                                      9240 non-null int64\n",
      "Lead Origin                                      9240 non-null object\n",
      "Lead Source                                      9204 non-null object\n",
      "Do Not Email                                     9240 non-null object\n",
      "Do Not Call                                      9240 non-null object\n",
      "Converted                                        9240 non-null int64\n",
      "TotalVisits                                      9103 non-null float64\n",
      "Total Time Spent on Website                      9240 non-null int64\n",
      "Page Views Per Visit                             9103 non-null float64\n",
      "Last Activity                                    9137 non-null object\n",
      "Country                                          6779 non-null object\n",
      "Specialization                                   7802 non-null object\n",
      "How did you hear about X Education               7033 non-null object\n",
      "What is your current occupation                  6550 non-null object\n",
      "What matters most to you in choosing a course    6531 non-null object\n",
      "Search                                           9240 non-null object\n",
      "Magazine                                         9240 non-null object\n",
      "Newspaper Article                                9240 non-null object\n",
      "X Education Forums                               9240 non-null object\n",
      "Newspaper                                        9240 non-null object\n",
      "Digital Advertisement                            9240 non-null object\n",
      "Through Recommendations                          9240 non-null object\n",
      "Receive More Updates About Our Courses           9240 non-null object\n",
      "Tags                                             5887 non-null object\n",
      "Lead Quality                                     4473 non-null object\n",
      "Update me on Supply Chain Content                9240 non-null object\n",
      "Get updates on DM Content                        9240 non-null object\n",
      "Lead Profile                                     6531 non-null object\n",
      "City                                             7820 non-null object\n",
      "Asymmetrique Activity Index                      5022 non-null object\n",
      "Asymmetrique Profile Index                       5022 non-null object\n",
      "Asymmetrique Activity Score                      5022 non-null float64\n",
      "Asymmetrique Profile Score                       5022 non-null float64\n",
      "I agree to pay the amount through cheque         9240 non-null object\n",
      "A free copy of Mastering The Interview           9240 non-null object\n",
      "Last Notable Activity                            9240 non-null object\n",
      "dtypes: float64(4), int64(3), object(30)\n",
      "memory usage: 2.6+ MB\n"
     ]
    }
   ],
   "source": [
    "leads.info()"
   ]
  },
  {
   "cell_type": "code",
   "execution_count": 6,
   "metadata": {},
   "outputs": [
    {
     "data": {
      "text/plain": [
       "<bound method NDFrame.describe of                                Prospect ID  Lead Number  \\\n",
       "0     7927b2df-8bba-4d29-b9a2-b6e0beafe620       660737   \n",
       "1     2a272436-5132-4136-86fa-dcc88c88f482       660728   \n",
       "2     8cc8c611-a219-4f35-ad23-fdfd2656bd8a       660727   \n",
       "3     0cc2df48-7cf4-4e39-9de9-19797f9b38cc       660719   \n",
       "4     3256f628-e534-4826-9d63-4a8b88782852       660681   \n",
       "...                                    ...          ...   \n",
       "9235  19d6451e-fcd6-407c-b83b-48e1af805ea9       579564   \n",
       "9236  82a7005b-7196-4d56-95ce-a79f937a158d       579546   \n",
       "9237  aac550fe-a586-452d-8d3c-f1b62c94e02c       579545   \n",
       "9238  5330a7d1-2f2b-4df4-85d6-64ca2f6b95b9       579538   \n",
       "9239  571b5c8e-a5b2-4d57-8574-f2ffb06fdeff       579533   \n",
       "\n",
       "                  Lead Origin     Lead Source Do Not Email Do Not Call  \\\n",
       "0                         API      Olark Chat           No          No   \n",
       "1                         API  Organic Search           No          No   \n",
       "2     Landing Page Submission  Direct Traffic           No          No   \n",
       "3     Landing Page Submission  Direct Traffic           No          No   \n",
       "4     Landing Page Submission          Google           No          No   \n",
       "...                       ...             ...          ...         ...   \n",
       "9235  Landing Page Submission  Direct Traffic          Yes          No   \n",
       "9236  Landing Page Submission  Direct Traffic           No          No   \n",
       "9237  Landing Page Submission  Direct Traffic          Yes          No   \n",
       "9238  Landing Page Submission          Google           No          No   \n",
       "9239  Landing Page Submission  Direct Traffic           No          No   \n",
       "\n",
       "      Converted  TotalVisits  Total Time Spent on Website  \\\n",
       "0             0          0.0                            0   \n",
       "1             0          5.0                          674   \n",
       "2             1          2.0                         1532   \n",
       "3             0          1.0                          305   \n",
       "4             1          2.0                         1428   \n",
       "...         ...          ...                          ...   \n",
       "9235          1          8.0                         1845   \n",
       "9236          0          2.0                          238   \n",
       "9237          0          2.0                          199   \n",
       "9238          1          3.0                          499   \n",
       "9239          1          6.0                         1279   \n",
       "\n",
       "      Page Views Per Visit  ... Get updates on DM Content    Lead Profile  \\\n",
       "0                     0.00  ...                        No          Select   \n",
       "1                     2.50  ...                        No          Select   \n",
       "2                     2.00  ...                        No  Potential Lead   \n",
       "3                     1.00  ...                        No          Select   \n",
       "4                     1.00  ...                        No          Select   \n",
       "...                    ...  ...                       ...             ...   \n",
       "9235                  2.67  ...                        No  Potential Lead   \n",
       "9236                  2.00  ...                        No  Potential Lead   \n",
       "9237                  2.00  ...                        No  Potential Lead   \n",
       "9238                  3.00  ...                        No             NaN   \n",
       "9239                  3.00  ...                        No  Potential Lead   \n",
       "\n",
       "                    City Asymmetrique Activity Index  \\\n",
       "0                 Select                   02.Medium   \n",
       "1                 Select                   02.Medium   \n",
       "2                 Mumbai                   02.Medium   \n",
       "3                 Mumbai                   02.Medium   \n",
       "4                 Mumbai                   02.Medium   \n",
       "...                  ...                         ...   \n",
       "9235              Mumbai                   02.Medium   \n",
       "9236              Mumbai                   02.Medium   \n",
       "9237              Mumbai                   02.Medium   \n",
       "9238  Other Metro Cities                   02.Medium   \n",
       "9239        Other Cities                   02.Medium   \n",
       "\n",
       "     Asymmetrique Profile Index Asymmetrique Activity Score  \\\n",
       "0                     02.Medium                        15.0   \n",
       "1                     02.Medium                        15.0   \n",
       "2                       01.High                        14.0   \n",
       "3                       01.High                        13.0   \n",
       "4                       01.High                        15.0   \n",
       "...                         ...                         ...   \n",
       "9235                    01.High                        15.0   \n",
       "9236                    01.High                        14.0   \n",
       "9237                    01.High                        13.0   \n",
       "9238                  02.Medium                        15.0   \n",
       "9239                    01.High                        15.0   \n",
       "\n",
       "     Asymmetrique Profile Score I agree to pay the amount through cheque  \\\n",
       "0                          15.0                                       No   \n",
       "1                          15.0                                       No   \n",
       "2                          20.0                                       No   \n",
       "3                          17.0                                       No   \n",
       "4                          18.0                                       No   \n",
       "...                         ...                                      ...   \n",
       "9235                       17.0                                       No   \n",
       "9236                       19.0                                       No   \n",
       "9237                       20.0                                       No   \n",
       "9238                       16.0                                       No   \n",
       "9239                       18.0                                       No   \n",
       "\n",
       "     A free copy of Mastering The Interview Last Notable Activity  \n",
       "0                                        No              Modified  \n",
       "1                                        No          Email Opened  \n",
       "2                                       Yes          Email Opened  \n",
       "3                                        No              Modified  \n",
       "4                                        No              Modified  \n",
       "...                                     ...                   ...  \n",
       "9235                                     No     Email Marked Spam  \n",
       "9236                                    Yes              SMS Sent  \n",
       "9237                                    Yes              SMS Sent  \n",
       "9238                                     No              SMS Sent  \n",
       "9239                                    Yes              Modified  \n",
       "\n",
       "[9240 rows x 37 columns]>"
      ]
     },
     "execution_count": 6,
     "metadata": {},
     "output_type": "execute_result"
    }
   ],
   "source": [
    "leads.describe"
   ]
  },
  {
   "cell_type": "code",
   "execution_count": 7,
   "metadata": {},
   "outputs": [
    {
     "data": {
      "text/plain": [
       "Prospect ID                                         0\n",
       "Lead Number                                         0\n",
       "Lead Origin                                         0\n",
       "Lead Source                                        36\n",
       "Do Not Email                                        0\n",
       "Do Not Call                                         0\n",
       "Converted                                           0\n",
       "TotalVisits                                       137\n",
       "Total Time Spent on Website                         0\n",
       "Page Views Per Visit                              137\n",
       "Last Activity                                     103\n",
       "Country                                          2461\n",
       "Specialization                                   1438\n",
       "How did you hear about X Education               2207\n",
       "What is your current occupation                  2690\n",
       "What matters most to you in choosing a course    2709\n",
       "Search                                              0\n",
       "Magazine                                            0\n",
       "Newspaper Article                                   0\n",
       "X Education Forums                                  0\n",
       "Newspaper                                           0\n",
       "Digital Advertisement                               0\n",
       "Through Recommendations                             0\n",
       "Receive More Updates About Our Courses              0\n",
       "Tags                                             3353\n",
       "Lead Quality                                     4767\n",
       "Update me on Supply Chain Content                   0\n",
       "Get updates on DM Content                           0\n",
       "Lead Profile                                     2709\n",
       "City                                             1420\n",
       "Asymmetrique Activity Index                      4218\n",
       "Asymmetrique Profile Index                       4218\n",
       "Asymmetrique Activity Score                      4218\n",
       "Asymmetrique Profile Score                       4218\n",
       "I agree to pay the amount through cheque            0\n",
       "A free copy of Mastering The Interview              0\n",
       "Last Notable Activity                               0\n",
       "dtype: int64"
      ]
     },
     "execution_count": 7,
     "metadata": {},
     "output_type": "execute_result"
    }
   ],
   "source": [
    "leads.isnull().sum()\n",
    "#number of missing null values for each category"
   ]
  },
  {
   "cell_type": "code",
   "execution_count": 8,
   "metadata": {},
   "outputs": [
    {
     "data": {
      "text/plain": [
       "Prospect ID                                      0.000000\n",
       "Lead Number                                      0.000000\n",
       "Lead Origin                                      0.000000\n",
       "Lead Source                                      0.003896\n",
       "Do Not Email                                     0.000000\n",
       "Do Not Call                                      0.000000\n",
       "Converted                                        0.000000\n",
       "TotalVisits                                      0.014827\n",
       "Total Time Spent on Website                      0.000000\n",
       "Page Views Per Visit                             0.014827\n",
       "Last Activity                                    0.011147\n",
       "Country                                          0.266342\n",
       "Specialization                                   0.155628\n",
       "How did you hear about X Education               0.238853\n",
       "What is your current occupation                  0.291126\n",
       "What matters most to you in choosing a course    0.293182\n",
       "Search                                           0.000000\n",
       "Magazine                                         0.000000\n",
       "Newspaper Article                                0.000000\n",
       "X Education Forums                               0.000000\n",
       "Newspaper                                        0.000000\n",
       "Digital Advertisement                            0.000000\n",
       "Through Recommendations                          0.000000\n",
       "Receive More Updates About Our Courses           0.000000\n",
       "Tags                                             0.362879\n",
       "Lead Quality                                     0.515909\n",
       "Update me on Supply Chain Content                0.000000\n",
       "Get updates on DM Content                        0.000000\n",
       "Lead Profile                                     0.293182\n",
       "City                                             0.153680\n",
       "Asymmetrique Activity Index                      0.456494\n",
       "Asymmetrique Profile Index                       0.456494\n",
       "Asymmetrique Activity Score                      0.456494\n",
       "Asymmetrique Profile Score                       0.456494\n",
       "I agree to pay the amount through cheque         0.000000\n",
       "A free copy of Mastering The Interview           0.000000\n",
       "Last Notable Activity                            0.000000\n",
       "dtype: float64"
      ]
     },
     "execution_count": 8,
     "metadata": {},
     "output_type": "execute_result"
    }
   ],
   "source": [
    "leads.isnull().sum() / len(leads.index)\n",
    "#Percentage of missing values per column"
   ]
  },
  {
   "cell_type": "code",
   "execution_count": 9,
   "metadata": {},
   "outputs": [],
   "source": [
    "#this dataset has two custom indexes, we will drop one and use the other as an index\n",
    "leads = leads.drop(['Prospect ID'], axis =1)\n",
    "leads = leads.set_index('Lead Number')"
   ]
  },
  {
   "cell_type": "code",
   "execution_count": 10,
   "metadata": {},
   "outputs": [],
   "source": [
    "#drop'Asymmetrique Activity Index','Asymmetrique Profile Index' since they represent the same idea as\n",
    "#'Asymmetrique Activity Score','Asymmetrique Profile Score'\n",
    "leads = leads.drop(['Asymmetrique Activity Index','Asymmetrique Profile Index'], axis = 1)"
   ]
  },
  {
   "cell_type": "code",
   "execution_count": 11,
   "metadata": {},
   "outputs": [
    {
     "data": {
      "text/plain": [
       "0"
      ]
     },
     "execution_count": 11,
     "metadata": {},
     "output_type": "execute_result"
    }
   ],
   "source": [
    "leads['Asymmetrique Activity Score'].fillna('NaN', inplace=True)\n",
    "sum(leads['Asymmetrique Activity Score'].isnull())\n",
    "#replace missing values with NaN and check for any remaining missing values"
   ]
  },
  {
   "cell_type": "code",
   "execution_count": 12,
   "metadata": {},
   "outputs": [
    {
     "data": {
      "text/plain": [
       "0"
      ]
     },
     "execution_count": 12,
     "metadata": {},
     "output_type": "execute_result"
    }
   ],
   "source": [
    "leads['Asymmetrique Profile Score'].fillna('NaN', inplace=True)\n",
    "sum(leads['Asymmetrique Profile Score'].isnull())\n",
    "#replace missing values with NaN and check for any remaining missing values"
   ]
  },
  {
   "cell_type": "code",
   "execution_count": 13,
   "metadata": {},
   "outputs": [
    {
     "data": {
      "text/plain": [
       "Select                   5043\n",
       "Online Search             808\n",
       "Word Of Mouth             348\n",
       "Student of SomeSchool     310\n",
       "Other                     186\n",
       "Multiple Sources          152\n",
       "Advertisements             70\n",
       "Social Media               67\n",
       "Email                      26\n",
       "SMS                        23\n",
       "Name: How did you hear about X Education, dtype: int64"
      ]
     },
     "execution_count": 13,
     "metadata": {},
     "output_type": "execute_result"
    }
   ],
   "source": [
    "#this column has mostly missing values, so we will drop it alltogether\n",
    "leads['How did you hear about X Education'].value_counts()"
   ]
  },
  {
   "cell_type": "code",
   "execution_count": 14,
   "metadata": {},
   "outputs": [],
   "source": [
    "leads = leads.drop(['How did you hear about X Education'], axis =1)"
   ]
  },
  {
   "cell_type": "code",
   "execution_count": 15,
   "metadata": {},
   "outputs": [
    {
     "data": {
      "text/plain": [
       "Better Career Prospects      6528\n",
       "Flexibility & Convenience       2\n",
       "Other                           1\n",
       "Name: What matters most to you in choosing a course, dtype: int64"
      ]
     },
     "execution_count": 15,
     "metadata": {},
     "output_type": "execute_result"
    }
   ],
   "source": [
    "#this column is almost entirely the same value, we will drop it altogether\n",
    "leads['What matters most to you in choosing a course'].value_counts() "
   ]
  },
  {
   "cell_type": "code",
   "execution_count": 16,
   "metadata": {},
   "outputs": [],
   "source": [
    "leads = leads.drop(['What matters most to you in choosing a course'], axis =1)"
   ]
  },
  {
   "cell_type": "code",
   "execution_count": 17,
   "metadata": {},
   "outputs": [
    {
     "data": {
      "text/plain": [
       "Might be             1560\n",
       "Not Sure             1092\n",
       "High in Relevance     637\n",
       "Worst                 601\n",
       "Low in Relevance      583\n",
       "Name: Lead Quality, dtype: int64"
      ]
     },
     "execution_count": 17,
     "metadata": {},
     "output_type": "execute_result"
    }
   ],
   "source": [
    "leads['Lead Quality'].value_counts()"
   ]
  },
  {
   "cell_type": "code",
   "execution_count": 18,
   "metadata": {},
   "outputs": [
    {
     "data": {
      "text/plain": [
       "0"
      ]
     },
     "execution_count": 18,
     "metadata": {},
     "output_type": "execute_result"
    }
   ],
   "source": [
    "leads['Lead Quality'].fillna('NaN', inplace=True)\n",
    "sum(leads['Lead Quality'].isnull())"
   ]
  },
  {
   "cell_type": "code",
   "execution_count": 19,
   "metadata": {},
   "outputs": [
    {
     "data": {
      "text/plain": [
       "Select                               1942\n",
       "Finance Management                    976\n",
       "Human Resource Management             848\n",
       "Marketing Management                  838\n",
       "Operations Management                 503\n",
       "Business Administration               403\n",
       "IT Projects Management                366\n",
       "Supply Chain Management               349\n",
       "Banking, Investment And Insurance     338\n",
       "Travel and Tourism                    203\n",
       "Media and Advertising                 203\n",
       "International Business                178\n",
       "Healthcare Management                 159\n",
       "Hospitality Management                114\n",
       "E-COMMERCE                            112\n",
       "Retail Management                     100\n",
       "Rural and Agribusiness                 73\n",
       "E-Business                             57\n",
       "Services Excellence                    40\n",
       "Name: Specialization, dtype: int64"
      ]
     },
     "execution_count": 19,
     "metadata": {},
     "output_type": "execute_result"
    }
   ],
   "source": [
    "leads['Specialization'].value_counts()"
   ]
  },
  {
   "cell_type": "code",
   "execution_count": 20,
   "metadata": {},
   "outputs": [
    {
     "data": {
      "text/plain": [
       "NaN                                  1942\n",
       "Finance Management                    976\n",
       "Human Resource Management             848\n",
       "Marketing Management                  838\n",
       "Operations Management                 503\n",
       "Business Administration               403\n",
       "IT Projects Management                366\n",
       "Supply Chain Management               349\n",
       "Banking, Investment And Insurance     338\n",
       "Travel and Tourism                    203\n",
       "Media and Advertising                 203\n",
       "International Business                178\n",
       "Healthcare Management                 159\n",
       "Hospitality Management                114\n",
       "E-COMMERCE                            112\n",
       "Retail Management                     100\n",
       "Rural and Agribusiness                 73\n",
       "E-Business                             57\n",
       "Services Excellence                    40\n",
       "Name: Specialization, dtype: int64"
      ]
     },
     "execution_count": 20,
     "metadata": {},
     "output_type": "execute_result"
    }
   ],
   "source": [
    "leads['Specialization'].replace('Select','NaN', inplace=True)\n",
    "leads['Specialization'].value_counts()"
   ]
  },
  {
   "cell_type": "code",
   "execution_count": 21,
   "metadata": {},
   "outputs": [
    {
     "data": {
      "text/plain": [
       "0"
      ]
     },
     "execution_count": 21,
     "metadata": {},
     "output_type": "execute_result"
    }
   ],
   "source": [
    "leads['Specialization'].fillna('NaN', inplace=True)\n",
    "sum(leads['Specialization'].isnull())"
   ]
  },
  {
   "cell_type": "code",
   "execution_count": 22,
   "metadata": {},
   "outputs": [
    {
     "data": {
      "text/plain": [
       "0"
      ]
     },
     "execution_count": 22,
     "metadata": {},
     "output_type": "execute_result"
    }
   ],
   "source": [
    "leads['What is your current occupation'].fillna('NaN', inplace=True)\n",
    "sum(leads['What is your current occupation'].isnull())"
   ]
  },
  {
   "cell_type": "code",
   "execution_count": 23,
   "metadata": {},
   "outputs": [
    {
     "data": {
      "text/plain": [
       "Will revert after reading the email                  2072\n",
       "Ringing                                              1203\n",
       "Interested in other courses                           513\n",
       "Already a student                                     465\n",
       "Closed by Horizzon                                    358\n",
       "switched off                                          240\n",
       "Busy                                                  186\n",
       "Lost to EINS                                          175\n",
       "Not doing further education                           145\n",
       "Interested  in full time MBA                          117\n",
       "Graduation in progress                                111\n",
       "invalid number                                         83\n",
       "Diploma holder (Not Eligible)                          63\n",
       "wrong number given                                     47\n",
       "opp hangup                                             33\n",
       "number not provided                                    27\n",
       "in touch with EINS                                     12\n",
       "Lost to Others                                          7\n",
       "Want to take admission but has financial problems       6\n",
       "Still Thinking                                          6\n",
       "Interested in Next batch                                5\n",
       "In confusion whether part time or DLP                   5\n",
       "Lateral student                                         3\n",
       "Shall take in the next coming month                     2\n",
       "University not recognized                               2\n",
       "Recognition issue (DEC approval)                        1\n",
       "Name: Tags, dtype: int64"
      ]
     },
     "execution_count": 23,
     "metadata": {},
     "output_type": "execute_result"
    }
   ],
   "source": [
    "leads['Tags'].value_counts()"
   ]
  },
  {
   "cell_type": "code",
   "execution_count": 24,
   "metadata": {},
   "outputs": [
    {
     "data": {
      "text/plain": [
       "0"
      ]
     },
     "execution_count": 24,
     "metadata": {},
     "output_type": "execute_result"
    }
   ],
   "source": [
    "leads['Tags'].fillna('NaN', inplace=True)\n",
    "sum(leads['Tags'].isnull())"
   ]
  },
  {
   "cell_type": "code",
   "execution_count": 25,
   "metadata": {
    "scrolled": true
   },
   "outputs": [
    {
     "data": {
      "text/plain": [
       "Select                         4146\n",
       "Potential Lead                 1613\n",
       "Other Leads                     487\n",
       "Student of SomeSchool           241\n",
       "Lateral Student                  24\n",
       "Dual Specialization Student      20\n",
       "Name: Lead Profile, dtype: int64"
      ]
     },
     "execution_count": 25,
     "metadata": {},
     "output_type": "execute_result"
    }
   ],
   "source": [
    "leads['Lead Profile'].value_counts()"
   ]
  },
  {
   "cell_type": "code",
   "execution_count": 26,
   "metadata": {},
   "outputs": [
    {
     "data": {
      "text/plain": [
       "0"
      ]
     },
     "execution_count": 26,
     "metadata": {},
     "output_type": "execute_result"
    }
   ],
   "source": [
    "leads['Lead Profile'].fillna('NaN', inplace=True)\n",
    "leads['Lead Profile'].replace('Select','NaN', inplace=True)\n",
    "sum(leads['Lead Profile'].isnull())"
   ]
  },
  {
   "cell_type": "code",
   "execution_count": 27,
   "metadata": {
    "scrolled": true
   },
   "outputs": [
    {
     "data": {
      "text/plain": [
       "NaN                            6855\n",
       "Potential Lead                 1613\n",
       "Other Leads                     487\n",
       "Student of SomeSchool           241\n",
       "Lateral Student                  24\n",
       "Dual Specialization Student      20\n",
       "Name: Lead Profile, dtype: int64"
      ]
     },
     "execution_count": 27,
     "metadata": {},
     "output_type": "execute_result"
    }
   ],
   "source": [
    "leads['Lead Profile'].value_counts()"
   ]
  },
  {
   "cell_type": "code",
   "execution_count": 28,
   "metadata": {},
   "outputs": [
    {
     "data": {
      "text/plain": [
       "Mumbai                         3222\n",
       "Select                         2249\n",
       "Thane & Outskirts               752\n",
       "Other Cities                    686\n",
       "Other Cities of Maharashtra     457\n",
       "Other Metro Cities              380\n",
       "Tier II Cities                   74\n",
       "Name: City, dtype: int64"
      ]
     },
     "execution_count": 28,
     "metadata": {},
     "output_type": "execute_result"
    }
   ],
   "source": [
    "leads['City'].value_counts()"
   ]
  },
  {
   "cell_type": "code",
   "execution_count": 29,
   "metadata": {},
   "outputs": [
    {
     "data": {
      "text/plain": [
       "0"
      ]
     },
     "execution_count": 29,
     "metadata": {},
     "output_type": "execute_result"
    }
   ],
   "source": [
    "leads['City'].fillna('NaN', inplace=True)\n",
    "leads['City'].replace('Select','NaN', inplace=True)\n",
    "sum(leads['City'].isnull())"
   ]
  },
  {
   "cell_type": "code",
   "execution_count": 30,
   "metadata": {},
   "outputs": [
    {
     "data": {
      "text/plain": [
       "India                   6492\n",
       "United States             69\n",
       "United Arab Emirates      53\n",
       "Singapore                 24\n",
       "Saudi Arabia              21\n",
       "United Kingdom            15\n",
       "Australia                 13\n",
       "Qatar                     10\n",
       "Bahrain                    7\n",
       "Hong Kong                  7\n",
       "Oman                       6\n",
       "France                     6\n",
       "unknown                    5\n",
       "Germany                    4\n",
       "South Africa               4\n",
       "Canada                     4\n",
       "Kuwait                     4\n",
       "Nigeria                    4\n",
       "Sweden                     3\n",
       "Bangladesh                 2\n",
       "China                      2\n",
       "Asia/Pacific Region        2\n",
       "Italy                      2\n",
       "Belgium                    2\n",
       "Uganda                     2\n",
       "Netherlands                2\n",
       "Philippines                2\n",
       "Ghana                      2\n",
       "Liberia                    1\n",
       "Vietnam                    1\n",
       "Russia                     1\n",
       "Malaysia                   1\n",
       "Tanzania                   1\n",
       "Switzerland                1\n",
       "Denmark                    1\n",
       "Indonesia                  1\n",
       "Kenya                      1\n",
       "Sri Lanka                  1\n",
       "Name: Country, dtype: int64"
      ]
     },
     "execution_count": 30,
     "metadata": {},
     "output_type": "execute_result"
    }
   ],
   "source": [
    "leads['Country'].value_counts()"
   ]
  },
  {
   "cell_type": "code",
   "execution_count": 31,
   "metadata": {},
   "outputs": [
    {
     "data": {
      "text/plain": [
       "India    6492\n",
       "Other    2748\n",
       "Name: Country, dtype: int64"
      ]
     },
     "execution_count": 31,
     "metadata": {},
     "output_type": "execute_result"
    }
   ],
   "source": [
    "leads['Country'] = leads['Country'].apply(lambda x: 'India' if x=='India' else 'Other')\n",
    "#Convert countries other than india to other\n",
    "leads['Country'].value_counts()"
   ]
  },
  {
   "cell_type": "code",
   "execution_count": 32,
   "metadata": {},
   "outputs": [
    {
     "data": {
      "text/plain": [
       "Landing Page Submission    4886\n",
       "API                        3580\n",
       "Lead Add Form               718\n",
       "Lead Import                  55\n",
       "Quick Add Form                1\n",
       "Name: Lead Origin, dtype: int64"
      ]
     },
     "execution_count": 32,
     "metadata": {},
     "output_type": "execute_result"
    }
   ],
   "source": [
    "leads['Lead Origin'].value_counts()"
   ]
  },
  {
   "cell_type": "code",
   "execution_count": 33,
   "metadata": {},
   "outputs": [
    {
     "data": {
      "text/plain": [
       "Google               2868\n",
       "Direct Traffic       2543\n",
       "Olark Chat           1755\n",
       "Organic Search       1154\n",
       "Reference             534\n",
       "Welingak Website      142\n",
       "Referral Sites        125\n",
       "Facebook               55\n",
       "bing                    6\n",
       "google                  5\n",
       "Click2call              4\n",
       "Social Media            2\n",
       "Press_Release           2\n",
       "Live Chat               2\n",
       "testone                 1\n",
       "NC_EDM                  1\n",
       "blog                    1\n",
       "youtubechannel          1\n",
       "WeLearn                 1\n",
       "Pay per Click Ads       1\n",
       "welearnblog_Home        1\n",
       "Name: Lead Source, dtype: int64"
      ]
     },
     "execution_count": 33,
     "metadata": {},
     "output_type": "execute_result"
    }
   ],
   "source": [
    "leads['Lead Source'].value_counts()"
   ]
  },
  {
   "cell_type": "code",
   "execution_count": 34,
   "metadata": {},
   "outputs": [],
   "source": [
    "leads['Lead Source'].fillna('NaN', inplace=True)"
   ]
  },
  {
   "cell_type": "code",
   "execution_count": 35,
   "metadata": {},
   "outputs": [
    {
     "data": {
      "text/plain": [
       "Modified                        3407\n",
       "Email Opened                    2827\n",
       "SMS Sent                        2172\n",
       "Page Visited on Website          318\n",
       "Olark Chat Conversation          183\n",
       "Email Link Clicked               173\n",
       "Email Bounced                     60\n",
       "Unsubscribed                      47\n",
       "Unreachable                       32\n",
       "Had a Phone Conversation          14\n",
       "Email Marked Spam                  2\n",
       "Form Submitted on Website          1\n",
       "Email Received                     1\n",
       "Approached upfront                 1\n",
       "View in browser link Clicked       1\n",
       "Resubscribed to emails             1\n",
       "Name: Last Notable Activity, dtype: int64"
      ]
     },
     "execution_count": 35,
     "metadata": {},
     "output_type": "execute_result"
    }
   ],
   "source": [
    "leads['Last Notable Activity'].value_counts()"
   ]
  },
  {
   "cell_type": "code",
   "execution_count": 36,
   "metadata": {},
   "outputs": [
    {
     "data": {
      "text/plain": [
       "Email Opened                    3437\n",
       "SMS Sent                        2745\n",
       "Olark Chat Conversation          973\n",
       "Page Visited on Website          640\n",
       "Converted to Lead                428\n",
       "Email Bounced                    326\n",
       "Email Link Clicked               267\n",
       "Form Submitted on Website        116\n",
       "Unreachable                       93\n",
       "Unsubscribed                      61\n",
       "Had a Phone Conversation          30\n",
       "Approached upfront                 9\n",
       "View in browser link Clicked       6\n",
       "Email Received                     2\n",
       "Email Marked Spam                  2\n",
       "Visited Booth in Tradeshow         1\n",
       "Resubscribed to emails             1\n",
       "Name: Last Activity, dtype: int64"
      ]
     },
     "execution_count": 36,
     "metadata": {},
     "output_type": "execute_result"
    }
   ],
   "source": [
    "leads['Last Activity'].value_counts()"
   ]
  },
  {
   "cell_type": "code",
   "execution_count": 37,
   "metadata": {},
   "outputs": [],
   "source": [
    "#Last activity and last notable activity are too similair, we will drop one of them\n",
    "leads = leads.drop(['Last Activity'],axis = 1)"
   ]
  },
  {
   "cell_type": "code",
   "execution_count": 38,
   "metadata": {},
   "outputs": [
    {
     "data": {
      "text/plain": [
       "0"
      ]
     },
     "execution_count": 38,
     "metadata": {},
     "output_type": "execute_result"
    }
   ],
   "source": [
    "leads['TotalVisits'].replace(np.NaN, leads['TotalVisits'].median(), inplace =True)\n",
    "sum(leads['TotalVisits'].isnull())"
   ]
  },
  {
   "cell_type": "code",
   "execution_count": 39,
   "metadata": {},
   "outputs": [
    {
     "data": {
      "text/plain": [
       "0"
      ]
     },
     "execution_count": 39,
     "metadata": {},
     "output_type": "execute_result"
    }
   ],
   "source": [
    "leads['Page Views Per Visit'].replace(np.NaN, leads['Page Views Per Visit'].median(), inplace = True)\n",
    "sum(leads['Page Views Per Visit'].isnull())"
   ]
  },
  {
   "cell_type": "code",
   "execution_count": 40,
   "metadata": {},
   "outputs": [],
   "source": [
    "#dropping columns which have only one value\n",
    "leads = leads.drop(['Magazine', 'Receive More Updates About Our Courses','Update me on Supply Chain Content',\n",
    "                   'Get updates on DM Content','I agree to pay the amount through cheque'], axis =1)"
   ]
  },
  {
   "cell_type": "code",
   "execution_count": 41,
   "metadata": {
    "scrolled": true
   },
   "outputs": [
    {
     "data": {
      "text/plain": [
       "Index(['Lead Origin', 'Lead Source', 'Do Not Email', 'Do Not Call',\n",
       "       'Converted', 'TotalVisits', 'Total Time Spent on Website',\n",
       "       'Page Views Per Visit', 'Country', 'Specialization',\n",
       "       'What is your current occupation', 'Search', 'Newspaper Article',\n",
       "       'X Education Forums', 'Newspaper', 'Digital Advertisement',\n",
       "       'Through Recommendations', 'Tags', 'Lead Quality', 'Lead Profile',\n",
       "       'City', 'Asymmetrique Activity Score', 'Asymmetrique Profile Score',\n",
       "       'A free copy of Mastering The Interview', 'Last Notable Activity'],\n",
       "      dtype='object')"
      ]
     },
     "execution_count": 41,
     "metadata": {},
     "output_type": "execute_result"
    }
   ],
   "source": [
    "leads.columns"
   ]
  },
  {
   "cell_type": "code",
   "execution_count": 42,
   "metadata": {
    "scrolled": true
   },
   "outputs": [
    {
     "data": {
      "text/plain": [
       "Lead Origin                               0\n",
       "Lead Source                               0\n",
       "Do Not Email                              0\n",
       "Do Not Call                               0\n",
       "Converted                                 0\n",
       "TotalVisits                               0\n",
       "Total Time Spent on Website               0\n",
       "Page Views Per Visit                      0\n",
       "Country                                   0\n",
       "Specialization                            0\n",
       "What is your current occupation           0\n",
       "Search                                    0\n",
       "Newspaper Article                         0\n",
       "X Education Forums                        0\n",
       "Newspaper                                 0\n",
       "Digital Advertisement                     0\n",
       "Through Recommendations                   0\n",
       "Tags                                      0\n",
       "Lead Quality                              0\n",
       "Lead Profile                              0\n",
       "City                                      0\n",
       "Asymmetrique Activity Score               0\n",
       "Asymmetrique Profile Score                0\n",
       "A free copy of Mastering The Interview    0\n",
       "Last Notable Activity                     0\n",
       "dtype: int64"
      ]
     },
     "execution_count": 42,
     "metadata": {},
     "output_type": "execute_result"
    }
   ],
   "source": [
    "leads.isnull().sum()\n",
    "#number of missing null values for each category"
   ]
  },
  {
   "cell_type": "markdown",
   "metadata": {},
   "source": [
    "# Statistical Analysis"
   ]
  },
  {
   "cell_type": "code",
   "execution_count": 43,
   "metadata": {
    "scrolled": true
   },
   "outputs": [
    {
     "name": "stdout",
     "output_type": "stream",
     "text": [
      "dof=1\n",
      "[[8.50415887e+03 1.84112554e+00]\n",
      " [7.33841126e+02 1.58874459e-01]]\n",
      "probability=0.950, critical=3.841, stat=0.796\n",
      "Independent (fail to reject H0)\n",
      "significance=0.050, p=0.372\n",
      "Independent (fail to reject H0)\n"
     ]
    }
   ],
   "source": [
    "#Chi Square analysis to see if there is a signficant difference between do not call and do not email\n",
    "from scipy.stats import chi2_contingency\n",
    "from scipy.stats import chi2\n",
    "# contingency table\n",
    "\n",
    "leads_chi = pd.crosstab(leads['Do Not Email'], leads['Do Not Call'])\n",
    "\n",
    "stat, p, dof, expected = chi2_contingency(leads_chi)\n",
    "print('dof=%d' % dof)\n",
    "print(expected)\n",
    "# interpret test-statistic\n",
    "prob = 0.95\n",
    "critical = chi2.ppf(prob, dof)\n",
    "print('probability=%.3f, critical=%.3f, stat=%.3f' % (prob, critical, stat))\n",
    "if abs(stat) >= critical:\n",
    "    print('Dependent (reject H0)')\n",
    "else:\n",
    "    print('Independent (fail to reject H0)')\n",
    "# interpret p-value\n",
    "alpha = 1.0 - prob\n",
    "print('significance=%.3f, p=%.3f' % (alpha, p))\n",
    "if p <= alpha:\n",
    "    print('Dependent (reject H0)')\n",
    "else:\n",
    "    print('Independent (fail to reject H0)')"
   ]
  },
  {
   "cell_type": "markdown",
   "metadata": {},
   "source": [
    "Looks like there isn't a signficant difference between these two columns, people are ok with being contacted or not."
   ]
  },
  {
   "cell_type": "code",
   "execution_count": 44,
   "metadata": {},
   "outputs": [
    {
     "name": "stdout",
     "output_type": "stream",
     "text": [
      "dof=6\n",
      "[[2263.76883117 2577.82987013  481.98181818  321.08701299  266.98701299\n",
      "   528.35324675   51.99220779]\n",
      " [ 958.23116883 1091.17012987  204.01818182  135.91298701  113.01298701\n",
      "   223.64675325   22.00779221]]\n",
      "probability=0.950, critical=12.592, stat=2292.225\n",
      "Dependent (reject H0)\n",
      "significance=0.050, p=0.000\n",
      "Dependent (reject H0)\n"
     ]
    }
   ],
   "source": [
    "#Chi Square to See if city and country are signicantly different. \n",
    "\n",
    "# contingency table\n",
    "\n",
    "leads_chi = pd.crosstab(leads['Country'], leads['City'])\n",
    "\n",
    "stat, p, dof, expected = chi2_contingency(leads_chi)\n",
    "print('dof=%d' % dof)\n",
    "print(expected)\n",
    "# interpret test-statistic\n",
    "prob = 0.95\n",
    "critical = chi2.ppf(prob, dof)\n",
    "print('probability=%.3f, critical=%.3f, stat=%.3f' % (prob, critical, stat))\n",
    "if abs(stat) >= critical:\n",
    "    print('Dependent (reject H0)')\n",
    "else:\n",
    "    print('Independent (fail to reject H0)')\n",
    "# interpret p-value\n",
    "alpha = 1.0 - prob\n",
    "print('significance=%.3f, p=%.3f' % (alpha, p))\n",
    "if p <= alpha:\n",
    "    print('Dependent (reject H0)')\n",
    "else:\n",
    "    print('Independent (fail to reject H0)')"
   ]
  },
  {
   "cell_type": "markdown",
   "metadata": {},
   "source": [
    "There is a difference between cities and country, despite their predominance in two cities"
   ]
  },
  {
   "cell_type": "code",
   "execution_count": 45,
   "metadata": {
    "scrolled": true
   },
   "outputs": [
    {
     "name": "stdout",
     "output_type": "stream",
     "text": [
      "dof=120\n",
      "[[9.74025974e-04 2.38095238e-03 2.20779221e-02 2.44588745e-02\n",
      "  1.90367965e-01 6.48268398e-02 6.26623377e-02 1.15909091e-01\n",
      "  2.65151515e-02 3.33333333e-02 4.56493506e-01]\n",
      " [3.89610390e-03 9.52380952e-03 8.83116883e-02 9.78354978e-02\n",
      "  7.61471861e-01 2.59307359e-01 2.50649351e-01 4.63636364e-01\n",
      "  1.06060606e-01 1.33333333e-01 1.82597403e+00]\n",
      " [8.76623377e-03 2.14285714e-02 1.98701299e-01 2.20129870e-01\n",
      "  1.71331169e+00 5.83441558e-01 5.63961039e-01 1.04318182e+00\n",
      "  2.38636364e-01 3.00000000e-01 4.10844156e+00]\n",
      " [5.55194805e-02 1.35714286e-01 1.25844156e+00 1.39415584e+00\n",
      "  1.08509740e+01 3.69512987e+00 3.57175325e+00 6.60681818e+00\n",
      "  1.51136364e+00 1.90000000e+00 2.60201299e+01]\n",
      " [9.25324675e-02 2.26190476e-01 2.09740260e+00 2.32359307e+00\n",
      "  1.80849567e+01 6.15854978e+00 5.95292208e+00 1.10113636e+01\n",
      "  2.51893939e+00 3.16666667e+00 4.33668831e+01]\n",
      " [1.90909091e-01 4.66666667e-01 4.32727273e+00 4.79393939e+00\n",
      "  3.73121212e+01 1.27060606e+01 1.22818182e+01 2.27181818e+01\n",
      "  5.19696970e+00 6.53333333e+00 8.94727273e+01]\n",
      " [7.54870130e-01 1.84523810e+00 1.71103896e+01 1.89556277e+01\n",
      "  1.47535173e+02 5.02408009e+01 4.85633117e+01 8.98295455e+01\n",
      "  2.05492424e+01 2.58333333e+01 3.53782468e+02]\n",
      " [1.72500000e+00 4.21666667e+00 3.91000000e+01 4.33166667e+01\n",
      "  3.37141667e+02 1.14808333e+02 1.10975000e+02 2.05275000e+02\n",
      "  4.69583333e+01 5.90333333e+01 8.08450000e+02]\n",
      " [1.25941558e+00 3.07857143e+00 2.85467532e+01 3.16253247e+01\n",
      "  2.46145779e+02 8.38211039e+01 8.10224026e+01 1.49870455e+02\n",
      "  3.42840909e+01 4.31000000e+01 5.90246104e+02]\n",
      " [4.54870130e-01 1.11190476e+00 1.03103896e+01 1.14222944e+01\n",
      "  8.89018398e+01 3.02741342e+01 2.92633117e+01 5.41295455e+01\n",
      "  1.23825758e+01 1.55666667e+01 2.13182468e+02]\n",
      " [3.39935065e-01 8.30952381e-01 7.70519481e+00 8.53614719e+00\n",
      "  6.64384199e+01 2.26245671e+01 2.18691558e+01 4.04522727e+01\n",
      "  9.25378788e+00 1.16333333e+01 1.59316234e+02]\n",
      " [4.87012987e-03 1.19047619e-02 1.10389610e-01 1.22294372e-01\n",
      "  9.51839827e-01 3.24134199e-01 3.13311688e-01 5.79545455e-01\n",
      "  1.32575758e-01 1.66666667e-01 2.28246753e+00]\n",
      " [4.10844156e+00 1.00428571e+01 9.31246753e+01 1.03167532e+02\n",
      "  8.02972078e+02 2.73439610e+02 2.64309740e+02 4.88904545e+02\n",
      "  1.11840909e+02 1.40600000e+02 1.92548961e+03]]\n",
      "probability=0.950, critical=146.567, stat=10394.919\n",
      "Dependent (reject H0)\n",
      "significance=0.050, p=0.000\n",
      "Dependent (reject H0)\n"
     ]
    }
   ],
   "source": [
    "#Chi Square to see if Activity score and Profile score are signficantly different\n",
    "\n",
    "# contingency table\n",
    "\n",
    "leads_chi = pd.crosstab(leads['Asymmetrique Activity Score'], leads['Asymmetrique Profile Score'])\n",
    "\n",
    "stat, p, dof, expected = chi2_contingency(leads_chi)\n",
    "print('dof=%d' % dof)\n",
    "print(expected)\n",
    "# interpret test-statistic\n",
    "prob = 0.95\n",
    "critical = chi2.ppf(prob, dof)\n",
    "print('probability=%.3f, critical=%.3f, stat=%.3f' % (prob, critical, stat))\n",
    "if abs(stat) >= critical:\n",
    "    print('Dependent (reject H0)')\n",
    "else:\n",
    "    print('Independent (fail to reject H0)')\n",
    "# interpret p-value\n",
    "alpha = 1.0 - prob\n",
    "print('significance=%.3f, p=%.3f' % (alpha, p))\n",
    "if p <= alpha:\n",
    "    print('Dependent (reject H0)')\n",
    "else:\n",
    "    print('Independent (fail to reject H0)')"
   ]
  },
  {
   "cell_type": "markdown",
   "metadata": {},
   "source": [
    "Profile and Activity Score are signifcantly different"
   ]
  },
  {
   "cell_type": "code",
   "execution_count": 46,
   "metadata": {
    "scrolled": false
   },
   "outputs": [
    {
     "name": "stdout",
     "output_type": "stream",
     "text": [
      "dof=84\n",
      "[[1.54978355e+00 2.11515152e+00 3.10822511e-01 2.38095238e-02\n",
      "  4.32900433e-04]\n",
      " [9.85274892e+02 1.34470758e+03 1.97605411e+02 1.51369048e+01\n",
      "  2.75216450e-01]\n",
      " [2.13095238e+01 2.90833333e+01 4.27380952e+00 3.27380952e-01\n",
      "  5.95238095e-03]\n",
      " [1.11119481e+03 1.51656364e+03 2.22859740e+02 1.70714286e+01\n",
      "  3.10389610e-01]\n",
      " [7.74891775e-01 1.05757576e+00 1.55411255e-01 1.19047619e-02\n",
      "  2.16450216e-04]\n",
      " [3.87445887e-01 5.28787879e-01 7.77056277e-02 5.95238095e-03\n",
      "  1.08225108e-04]\n",
      " [1.39480519e+01 1.90363636e+01 2.79740260e+00 2.14285714e-01\n",
      "  3.89610390e-03]\n",
      " [6.79967532e+02 9.28022727e+02 1.36373377e+02 1.04464286e+01\n",
      "  1.89935065e-01]\n",
      " [4.47112554e+02 6.10221212e+02 8.96722944e+01 6.86904762e+00\n",
      "  1.24891775e-01]\n",
      " [3.87445887e-01 5.28787879e-01 7.77056277e-02 5.95238095e-03\n",
      "  1.08225108e-04]\n",
      " [7.74891775e-01 1.05757576e+00 1.55411255e-01 1.19047619e-02\n",
      "  2.16450216e-04]\n",
      " [2.06896104e+02 2.82372727e+02 4.14948052e+01 3.17857143e+00\n",
      "  5.77922078e-02]\n",
      " [4.84307359e+01 6.60984848e+01 9.71320346e+00 7.44047619e-01\n",
      "  1.35281385e-02]\n",
      " [7.74891775e-01 1.05757576e+00 1.55411255e-01 1.19047619e-02\n",
      "  2.16450216e-04]\n",
      " [3.87445887e-01 5.28787879e-01 7.77056277e-02 5.95238095e-03\n",
      "  1.08225108e-04]\n",
      " [5.50173160e+01 7.50878788e+01 1.10341991e+01 8.45238095e-01\n",
      "  1.53679654e-02]\n",
      " [2.32467532e+00 3.17272727e+00 4.66233766e-01 3.57142857e-02\n",
      "  6.49350649e-04]\n",
      " [3.87445887e-01 5.28787879e-01 7.77056277e-02 5.95238095e-03\n",
      "  1.08225108e-04]\n",
      " [1.93722944e+00 2.64393939e+00 3.88528139e-01 2.97619048e-02\n",
      "  5.41125541e-04]\n",
      " [3.87445887e-01 5.28787879e-01 7.77056277e-02 5.95238095e-03\n",
      "  1.08225108e-04]\n",
      " [3.87445887e-01 5.28787879e-01 7.77056277e-02 5.95238095e-03\n",
      "  1.08225108e-04]\n",
      " [3.87445887e-01 5.28787879e-01 7.77056277e-02 5.95238095e-03\n",
      "  1.08225108e-04]]\n",
      "probability=0.950, critical=106.395, stat=22670.492\n",
      "Dependent (reject H0)\n",
      "significance=0.050, p=0.000\n",
      "Dependent (reject H0)\n"
     ]
    }
   ],
   "source": [
    "#Chi Square to see if Lead source and Lead origin are signficantly different\n",
    "\n",
    "# contingency table\n",
    "\n",
    "leads_chi = pd.crosstab(leads['Lead Source'], leads['Lead Origin'])\n",
    "\n",
    "stat, p, dof, expected = chi2_contingency(leads_chi)\n",
    "print('dof=%d' % dof)\n",
    "print(expected)\n",
    "# interpret test-statistic\n",
    "prob = 0.95\n",
    "critical = chi2.ppf(prob, dof)\n",
    "print('probability=%.3f, critical=%.3f, stat=%.3f' % (prob, critical, stat))\n",
    "if abs(stat) >= critical:\n",
    "    print('Dependent (reject H0)')\n",
    "else:\n",
    "    print('Independent (fail to reject H0)')\n",
    "# interpret p-value\n",
    "alpha = 1.0 - prob\n",
    "print('significance=%.3f, p=%.3f' % (alpha, p))\n",
    "if p <= alpha:\n",
    "    print('Dependent (reject H0)')\n",
    "else:\n",
    "    print('Independent (fail to reject H0)')"
   ]
  },
  {
   "cell_type": "markdown",
   "metadata": {},
   "source": [
    "Looks like these two variables are independent"
   ]
  },
  {
   "cell_type": "markdown",
   "metadata": {},
   "source": [
    "# EDA"
   ]
  },
  {
   "cell_type": "code",
   "execution_count": 47,
   "metadata": {},
   "outputs": [
    {
     "data": {
      "image/png": "[encoded data removed]",
      "text/plain": [
       "<Figure size 504x504 with 2 Axes>"
      ]
     },
     "metadata": {
      "needs_background": "light"
     },
     "output_type": "display_data"
    }
   ],
   "source": [
    "#quantitive data heatmap\n",
    "plt.figure(figsize=(7, 7))\n",
    "sns.heatmap(leads.corr())\n",
    "plt.title(\"Heatmap for Quantitative Variables\", fontsize = 25, pad = 20)\n",
    "plt.show()"
   ]
  },
  {
   "cell_type": "markdown",
   "metadata": {},
   "source": [
    "There is a modest relationship between TotalVisits and Page Views Per Visit"
   ]
  },
  {
   "cell_type": "code",
   "execution_count": 48,
   "metadata": {},
   "outputs": [
    {
     "data": {
      "text/plain": [
       "(array([   0.,  500., 1000., 1500., 2000., 2500., 3000., 3500., 4000.,\n",
       "        4500.]), <a list of 10 Text yticklabel objects>)"
      ]
     },
     "execution_count": 48,
     "metadata": {},
     "output_type": "execute_result"
    },
    {
     "data": {
      "image/png": "[encoded data removed]",
      "text/plain": [
       "<Figure size 1080x504 with 1 Axes>"
      ]
     },
     "metadata": {
      "needs_background": "light"
     },
     "output_type": "display_data"
    }
   ],
   "source": [
    "#Most of their business is done in india\n",
    "plt.figure(figsize=(15,7))\n",
    "plt.title(\"Lead Conversion in India vs. Other Countries\", fontsize = 25)\n",
    "sns.countplot(x =\"Country\", hue =\"Converted\", data=leads)\n",
    "plt.xlabel(\"Country\", fontsize = 25)\n",
    "plt.ylabel(\"Users\", fontsize = 25)\n",
    "\n",
    "L=plt.legend(fontsize=15)\n",
    "L.get_texts()[0].set_text('No Conversion')\n",
    "L.get_texts()[1].set_text('Converted')\n",
    "\n",
    "plt.xticks(fontsize=20)\n",
    "plt.yticks(fontsize=20)"
   ]
  },
  {
   "cell_type": "code",
   "execution_count": 49,
   "metadata": {},
   "outputs": [
    {
     "data": {
      "text/plain": [
       "(array([   0.,  500., 1000., 1500., 2000., 2500., 3000.]),\n",
       " <a list of 7 Text yticklabel objects>)"
      ]
     },
     "execution_count": 49,
     "metadata": {},
     "output_type": "execute_result"
    },
    {
     "data": {
      "image/png": "[encoded data removed]",
      "text/plain": [
       "<Figure size 1512x504 with 1 Axes>"
      ]
     },
     "metadata": {
      "needs_background": "light"
     },
     "output_type": "display_data"
    }
   ],
   "source": [
    "#They seem to have similair proportions of success in each city within india\n",
    "plt.figure(figsize=(21,7))\n",
    "g=sns.countplot(x =\"City\", hue =\"Converted\", data=leads)\n",
    "plt.title(\"Lead Conversion by City\", fontsize = 25)\n",
    "plt.xlabel(\"City\", fontsize = 25)\n",
    "plt.ylabel(\"Users\", fontsize = 25)\n",
    "\n",
    "L=plt.legend(fontsize=20)\n",
    "L.get_texts()[0].set_text('No Conversion')\n",
    "L.get_texts()[1].set_text('Converted')\n",
    "\n",
    "plt.xticks(fontsize=15)\n",
    "plt.yticks(fontsize=20)"
   ]
  },
  {
   "cell_type": "code",
   "execution_count": 50,
   "metadata": {},
   "outputs": [
    {
     "data": {
      "text/plain": [
       "(array([   0.,  500., 1000., 1500., 2000., 2500., 3000., 3500.]),\n",
       " <a list of 8 Text yticklabel objects>)"
      ]
     },
     "execution_count": 50,
     "metadata": {},
     "output_type": "execute_result"
    },
    {
     "data": {
      "image/png": "[encoded data removed]",
      "text/plain": [
       "<Figure size 1800x720 with 1 Axes>"
      ]
     },
     "metadata": {
      "needs_background": "light"
     },
     "output_type": "display_data"
    }
   ],
   "source": [
    "#More unemployed than any other category, but current workers are more likely to convert \n",
    "plt.figure(figsize=(25,10))\n",
    "sns.countplot(x =\"What is your current occupation\", hue =\"Converted\", data=leads)\n",
    "\n",
    "plt.title(\"Lead Conversion by Profession\", fontsize = 25)\n",
    "plt.xlabel(\"Profession\", fontsize = 25)\n",
    "plt.ylabel(\"Users\", fontsize = 25)\n",
    "\n",
    "L=plt.legend(fontsize=20, loc =1)\n",
    "L.get_texts()[0].set_text('No Conversion')\n",
    "L.get_texts()[1].set_text('Converted')\n",
    "\n",
    "plt.xticks(fontsize=20)\n",
    "plt.yticks(fontsize=20)"
   ]
  },
  {
   "cell_type": "code",
   "execution_count": 51,
   "metadata": {
    "scrolled": true
   },
   "outputs": [
    {
     "data": {
      "text/plain": [
       "(array([   0.,  500., 1000., 1500., 2000., 2500., 3000., 3500., 4000.]),\n",
       " <a list of 9 Text yticklabel objects>)"
      ]
     },
     "execution_count": 51,
     "metadata": {},
     "output_type": "execute_result"
    },
    {
     "data": {
      "image/png": "[encoded data removed]",
      "text/plain": [
       "<Figure size 1440x720 with 1 Axes>"
      ]
     },
     "metadata": {
      "needs_background": "light"
     },
     "output_type": "display_data"
    }
   ],
   "source": [
    "#their subjective opinons do no seem to be accurate except for high in relevance and worst. \n",
    "#Essentially they can tell if the leads are really bad or really good, but can't tell if they are in the middle. \n",
    "#Also they are missing lots of tags\n",
    "plt.figure(figsize=(20,10))\n",
    "sns.countplot(x =\"Lead Quality\", hue =\"Converted\", data=leads)\n",
    "\n",
    "plt.title(\"Lead Conversion by Subjective Lead Quality\", fontsize = 25)\n",
    "plt.xlabel(\"Subjective Lead Quality\", fontsize = 25)\n",
    "plt.ylabel(\"Users\", fontsize = 25)\n",
    "\n",
    "L=plt.legend(fontsize=20, loc =1)\n",
    "L.get_texts()[0].set_text('No Conversion')\n",
    "L.get_texts()[1].set_text('Converted')\n",
    "\n",
    "plt.xticks(fontsize=20)\n",
    "plt.yticks(fontsize=20)"
   ]
  },
  {
   "cell_type": "markdown",
   "metadata": {},
   "source": [
    "# Prepare data for model building"
   ]
  },
  {
   "cell_type": "code",
   "execution_count": 52,
   "metadata": {},
   "outputs": [],
   "source": [
    "# encode yes and no to 1 and 0\n",
    "def mapper(x):\n",
    "    return x.map({'Yes':1, 'No':0})"
   ]
  },
  {
   "cell_type": "code",
   "execution_count": 53,
   "metadata": {},
   "outputs": [],
   "source": [
    "recode_col = ['Search', 'Do Not Email', 'Do Not Call', 'Newspaper Article', 'X Education Forums','Newspaper',\n",
    "             'Digital Advertisement', 'Through Recommendations', 'A free copy of Mastering The Interview']"
   ]
  },
  {
   "cell_type": "code",
   "execution_count": 54,
   "metadata": {},
   "outputs": [],
   "source": [
    "leads[recode_col] = leads[recode_col].apply(mapper)"
   ]
  },
  {
   "cell_type": "code",
   "execution_count": 55,
   "metadata": {},
   "outputs": [
    {
     "name": "stdout",
     "output_type": "stream",
     "text": [
      "<class 'pandas.core.frame.DataFrame'>\n",
      "Int64Index: 9240 entries, 660737 to 579533\n",
      "Data columns (total 25 columns):\n",
      "Lead Origin                               9240 non-null object\n",
      "Lead Source                               9240 non-null object\n",
      "Do Not Email                              9240 non-null int64\n",
      "Do Not Call                               9240 non-null int64\n",
      "Converted                                 9240 non-null int64\n",
      "TotalVisits                               9240 non-null float64\n",
      "Total Time Spent on Website               9240 non-null int64\n",
      "Page Views Per Visit                      9240 non-null float64\n",
      "Country                                   9240 non-null object\n",
      "Specialization                            9240 non-null object\n",
      "What is your current occupation           9240 non-null object\n",
      "Search                                    9240 non-null int64\n",
      "Newspaper Article                         9240 non-null int64\n",
      "X Education Forums                        9240 non-null int64\n",
      "Newspaper                                 9240 non-null int64\n",
      "Digital Advertisement                     9240 non-null int64\n",
      "Through Recommendations                   9240 non-null int64\n",
      "Tags                                      9240 non-null object\n",
      "Lead Quality                              9240 non-null object\n",
      "Lead Profile                              9240 non-null object\n",
      "City                                      9240 non-null object\n",
      "Asymmetrique Activity Score               9240 non-null object\n",
      "Asymmetrique Profile Score                9240 non-null object\n",
      "A free copy of Mastering The Interview    9240 non-null int64\n",
      "Last Notable Activity                     9240 non-null object\n",
      "dtypes: float64(2), int64(11), object(12)\n",
      "memory usage: 2.1+ MB\n"
     ]
    }
   ],
   "source": [
    "leads.info()"
   ]
  },
  {
   "cell_type": "code",
   "execution_count": 56,
   "metadata": {},
   "outputs": [],
   "source": [
    "# creating dummy variables for some of the other categorical columns \n",
    "leads = pd.get_dummies(leads, columns=['Lead Origin', 'Lead Source', 'Country', 'Last Notable Activity'], drop_first=True)"
   ]
  },
  {
   "cell_type": "code",
   "execution_count": 57,
   "metadata": {},
   "outputs": [],
   "source": [
    "# Creating dummmy variables for the rest of the columns and dropping the level called 'Unknown'\n",
    "\n",
    "# Creating dummy variables for the variable 'City'\n",
    "dummy = pd.get_dummies(leads['Asymmetrique Activity Score'], prefix='Asymmetrique Activity Score')\n",
    "dummy = dummy.drop(['Asymmetrique Activity Score_NaN'], 1)\n",
    "leads = pd.concat([leads,dummy], axis=1)\n",
    "\n",
    "# Creating dummy variables for the variable 'City'\n",
    "dummy = pd.get_dummies(leads['Asymmetrique Profile Score'], prefix='Asymmetrique Profile Score')\n",
    "dummy = dummy.drop(['Asymmetrique Profile Score_NaN'], 1)\n",
    "leads = pd.concat([leads,dummy], axis=1)\n",
    "\n",
    "# Creating dummy variables for the variable 'What is your current occupation'\n",
    "dummy = pd.get_dummies(leads['What is your current occupation'], prefix='What is your current occupation')\n",
    "dummy = dummy.drop(['What is your current occupation_NaN'], 1)\n",
    "leads = pd.concat([leads,dummy], axis=1)\n",
    "\n",
    "# Creating dummy variables for the variable 'Lead Profile'\n",
    "dummy = pd.get_dummies(leads['Lead Profile'], prefix='Lead Profile')\n",
    "dummy = dummy.drop(['Lead Profile_NaN'], 1)\n",
    "leads = pd.concat([leads,dummy], axis=1)\n",
    "\n",
    "# Creating dummy variables for the variable 'Specialization'\n",
    "dummy = pd.get_dummies(leads['Specialization'], prefix='Specialization')\n",
    "dummy = dummy.drop(['Specialization_NaN'], 1)\n",
    "leads = pd.concat([leads,dummy], axis=1)\n",
    "\n",
    "# Creating dummy variables for the variable 'City'\n",
    "dummy = pd.get_dummies(leads['City'], prefix='City')\n",
    "dummy = dummy.drop(['City_NaN'], 1)\n",
    "leads = pd.concat([leads,dummy], axis=1)\n",
    "\n",
    "# Creating dummy variables for the variable 'City'\n",
    "dummy = pd.get_dummies(leads['Lead Quality'], prefix='Lead Quality')\n",
    "dummy = dummy.drop(['Lead Quality_NaN'], 1)\n",
    "leads = pd.concat([leads,dummy], axis=1)\n",
    "\n",
    "# Creating dummy variables for the variable 'City'\n",
    "dummy = pd.get_dummies(leads['Tags'], prefix='Tags')\n",
    "dummy = dummy.drop(['Tags_NaN'], 1)\n",
    "leads = pd.concat([leads,dummy], axis=1)"
   ]
  },
  {
   "cell_type": "code",
   "execution_count": 58,
   "metadata": {},
   "outputs": [],
   "source": [
    "leads = leads.drop(['Asymmetrique Activity Score','Asymmetrique Profile Score','What is your current occupation',\n",
    "                   'Lead Profile','Specialization','City','Lead Quality','Tags'], axis = 1)"
   ]
  },
  {
   "cell_type": "code",
   "execution_count": 59,
   "metadata": {},
   "outputs": [
    {
     "data": {
      "text/plain": [
       "(9240, 142)"
      ]
     },
     "execution_count": 59,
     "metadata": {},
     "output_type": "execute_result"
    }
   ],
   "source": [
    "leads.shape"
   ]
  },
  {
   "cell_type": "code",
   "execution_count": 60,
   "metadata": {
    "scrolled": true
   },
   "outputs": [
    {
     "data": {
      "text/html": [
       "<div>\n",
       "<style scoped>\n",
       "    .dataframe tbody tr th:only-of-type {\n",
       "        vertical-align: middle;\n",
       "    }\n",
       "\n",
       "    .dataframe tbody tr th {\n",
       "        vertical-align: top;\n",
       "    }\n",
       "\n",
       "    .dataframe thead th {\n",
       "        text-align: right;\n",
       "    }\n",
       "</style>\n",
       "<table border=\"1\" class=\"dataframe\">\n",
       "  <thead>\n",
       "    <tr style=\"text-align: right;\">\n",
       "      <th></th>\n",
       "      <th>Do Not Email</th>\n",
       "      <th>Do Not Call</th>\n",
       "      <th>Converted</th>\n",
       "      <th>TotalVisits</th>\n",
       "      <th>Total Time Spent on Website</th>\n",
       "      <th>Page Views Per Visit</th>\n",
       "      <th>Search</th>\n",
       "      <th>Newspaper Article</th>\n",
       "      <th>X Education Forums</th>\n",
       "      <th>Newspaper</th>\n",
       "      <th>...</th>\n",
       "      <th>Tags_Still Thinking</th>\n",
       "      <th>Tags_University not recognized</th>\n",
       "      <th>Tags_Want to take admission but has financial problems</th>\n",
       "      <th>Tags_Will revert after reading the email</th>\n",
       "      <th>Tags_in touch with EINS</th>\n",
       "      <th>Tags_invalid number</th>\n",
       "      <th>Tags_number not provided</th>\n",
       "      <th>Tags_opp hangup</th>\n",
       "      <th>Tags_switched off</th>\n",
       "      <th>Tags_wrong number given</th>\n",
       "    </tr>\n",
       "  </thead>\n",
       "  <tbody>\n",
       "    <tr>\n",
       "      <td>count</td>\n",
       "      <td>9240.000000</td>\n",
       "      <td>9240.000000</td>\n",
       "      <td>9240.000000</td>\n",
       "      <td>9240.000000</td>\n",
       "      <td>9240.000000</td>\n",
       "      <td>9240.000000</td>\n",
       "      <td>9240.000000</td>\n",
       "      <td>9240.000000</td>\n",
       "      <td>9240.000000</td>\n",
       "      <td>9240.000000</td>\n",
       "      <td>...</td>\n",
       "      <td>9240.000000</td>\n",
       "      <td>9240.000000</td>\n",
       "      <td>9240.000000</td>\n",
       "      <td>9240.000000</td>\n",
       "      <td>9240.000000</td>\n",
       "      <td>9240.000000</td>\n",
       "      <td>9240.000000</td>\n",
       "      <td>9240.000000</td>\n",
       "      <td>9240.000000</td>\n",
       "      <td>9240.000000</td>\n",
       "    </tr>\n",
       "    <tr>\n",
       "      <td>mean</td>\n",
       "      <td>0.079437</td>\n",
       "      <td>0.000216</td>\n",
       "      <td>0.385390</td>\n",
       "      <td>3.438636</td>\n",
       "      <td>487.698268</td>\n",
       "      <td>2.357440</td>\n",
       "      <td>0.001515</td>\n",
       "      <td>0.000216</td>\n",
       "      <td>0.000108</td>\n",
       "      <td>0.000108</td>\n",
       "      <td>...</td>\n",
       "      <td>0.000649</td>\n",
       "      <td>0.000216</td>\n",
       "      <td>0.000649</td>\n",
       "      <td>0.224242</td>\n",
       "      <td>0.001299</td>\n",
       "      <td>0.008983</td>\n",
       "      <td>0.002922</td>\n",
       "      <td>0.003571</td>\n",
       "      <td>0.025974</td>\n",
       "      <td>0.005087</td>\n",
       "    </tr>\n",
       "    <tr>\n",
       "      <td>std</td>\n",
       "      <td>0.270435</td>\n",
       "      <td>0.014711</td>\n",
       "      <td>0.486714</td>\n",
       "      <td>4.819024</td>\n",
       "      <td>548.021466</td>\n",
       "      <td>2.145781</td>\n",
       "      <td>0.038898</td>\n",
       "      <td>0.014711</td>\n",
       "      <td>0.010403</td>\n",
       "      <td>0.010403</td>\n",
       "      <td>...</td>\n",
       "      <td>0.025475</td>\n",
       "      <td>0.014711</td>\n",
       "      <td>0.025475</td>\n",
       "      <td>0.417105</td>\n",
       "      <td>0.036016</td>\n",
       "      <td>0.094355</td>\n",
       "      <td>0.053980</td>\n",
       "      <td>0.059658</td>\n",
       "      <td>0.159066</td>\n",
       "      <td>0.071142</td>\n",
       "    </tr>\n",
       "    <tr>\n",
       "      <td>min</td>\n",
       "      <td>0.000000</td>\n",
       "      <td>0.000000</td>\n",
       "      <td>0.000000</td>\n",
       "      <td>0.000000</td>\n",
       "      <td>0.000000</td>\n",
       "      <td>0.000000</td>\n",
       "      <td>0.000000</td>\n",
       "      <td>0.000000</td>\n",
       "      <td>0.000000</td>\n",
       "      <td>0.000000</td>\n",
       "      <td>...</td>\n",
       "      <td>0.000000</td>\n",
       "      <td>0.000000</td>\n",
       "      <td>0.000000</td>\n",
       "      <td>0.000000</td>\n",
       "      <td>0.000000</td>\n",
       "      <td>0.000000</td>\n",
       "      <td>0.000000</td>\n",
       "      <td>0.000000</td>\n",
       "      <td>0.000000</td>\n",
       "      <td>0.000000</td>\n",
       "    </tr>\n",
       "    <tr>\n",
       "      <td>25%</td>\n",
       "      <td>0.000000</td>\n",
       "      <td>0.000000</td>\n",
       "      <td>0.000000</td>\n",
       "      <td>1.000000</td>\n",
       "      <td>12.000000</td>\n",
       "      <td>1.000000</td>\n",
       "      <td>0.000000</td>\n",
       "      <td>0.000000</td>\n",
       "      <td>0.000000</td>\n",
       "      <td>0.000000</td>\n",
       "      <td>...</td>\n",
       "      <td>0.000000</td>\n",
       "      <td>0.000000</td>\n",
       "      <td>0.000000</td>\n",
       "      <td>0.000000</td>\n",
       "      <td>0.000000</td>\n",
       "      <td>0.000000</td>\n",
       "      <td>0.000000</td>\n",
       "      <td>0.000000</td>\n",
       "      <td>0.000000</td>\n",
       "      <td>0.000000</td>\n",
       "    </tr>\n",
       "    <tr>\n",
       "      <td>50%</td>\n",
       "      <td>0.000000</td>\n",
       "      <td>0.000000</td>\n",
       "      <td>0.000000</td>\n",
       "      <td>3.000000</td>\n",
       "      <td>248.000000</td>\n",
       "      <td>2.000000</td>\n",
       "      <td>0.000000</td>\n",
       "      <td>0.000000</td>\n",
       "      <td>0.000000</td>\n",
       "      <td>0.000000</td>\n",
       "      <td>...</td>\n",
       "      <td>0.000000</td>\n",
       "      <td>0.000000</td>\n",
       "      <td>0.000000</td>\n",
       "      <td>0.000000</td>\n",
       "      <td>0.000000</td>\n",
       "      <td>0.000000</td>\n",
       "      <td>0.000000</td>\n",
       "      <td>0.000000</td>\n",
       "      <td>0.000000</td>\n",
       "      <td>0.000000</td>\n",
       "    </tr>\n",
       "    <tr>\n",
       "      <td>75%</td>\n",
       "      <td>0.000000</td>\n",
       "      <td>0.000000</td>\n",
       "      <td>1.000000</td>\n",
       "      <td>5.000000</td>\n",
       "      <td>936.000000</td>\n",
       "      <td>3.000000</td>\n",
       "      <td>0.000000</td>\n",
       "      <td>0.000000</td>\n",
       "      <td>0.000000</td>\n",
       "      <td>0.000000</td>\n",
       "      <td>...</td>\n",
       "      <td>0.000000</td>\n",
       "      <td>0.000000</td>\n",
       "      <td>0.000000</td>\n",
       "      <td>0.000000</td>\n",
       "      <td>0.000000</td>\n",
       "      <td>0.000000</td>\n",
       "      <td>0.000000</td>\n",
       "      <td>0.000000</td>\n",
       "      <td>0.000000</td>\n",
       "      <td>0.000000</td>\n",
       "    </tr>\n",
       "    <tr>\n",
       "      <td>max</td>\n",
       "      <td>1.000000</td>\n",
       "      <td>1.000000</td>\n",
       "      <td>1.000000</td>\n",
       "      <td>251.000000</td>\n",
       "      <td>2272.000000</td>\n",
       "      <td>55.000000</td>\n",
       "      <td>1.000000</td>\n",
       "      <td>1.000000</td>\n",
       "      <td>1.000000</td>\n",
       "      <td>1.000000</td>\n",
       "      <td>...</td>\n",
       "      <td>1.000000</td>\n",
       "      <td>1.000000</td>\n",
       "      <td>1.000000</td>\n",
       "      <td>1.000000</td>\n",
       "      <td>1.000000</td>\n",
       "      <td>1.000000</td>\n",
       "      <td>1.000000</td>\n",
       "      <td>1.000000</td>\n",
       "      <td>1.000000</td>\n",
       "      <td>1.000000</td>\n",
       "    </tr>\n",
       "  </tbody>\n",
       "</table>\n",
       "<p>8 rows × 142 columns</p>\n",
       "</div>"
      ],
      "text/plain": [
       "       Do Not Email  Do Not Call    Converted  TotalVisits  \\\n",
       "count   9240.000000  9240.000000  9240.000000  9240.000000   \n",
       "mean       0.079437     0.000216     0.385390     3.438636   \n",
       "std        0.270435     0.014711     0.486714     4.819024   \n",
       "min        0.000000     0.000000     0.000000     0.000000   \n",
       "25%        0.000000     0.000000     0.000000     1.000000   \n",
       "50%        0.000000     0.000000     0.000000     3.000000   \n",
       "75%        0.000000     0.000000     1.000000     5.000000   \n",
       "max        1.000000     1.000000     1.000000   251.000000   \n",
       "\n",
       "       Total Time Spent on Website  Page Views Per Visit       Search  \\\n",
       "count                  9240.000000           9240.000000  9240.000000   \n",
       "mean                    487.698268              2.357440     0.001515   \n",
       "std                     548.021466              2.145781     0.038898   \n",
       "min                       0.000000              0.000000     0.000000   \n",
       "25%                      12.000000              1.000000     0.000000   \n",
       "50%                     248.000000              2.000000     0.000000   \n",
       "75%                     936.000000              3.000000     0.000000   \n",
       "max                    2272.000000             55.000000     1.000000   \n",
       "\n",
       "       Newspaper Article  X Education Forums    Newspaper  ...  \\\n",
       "count        9240.000000         9240.000000  9240.000000  ...   \n",
       "mean            0.000216            0.000108     0.000108  ...   \n",
       "std             0.014711            0.010403     0.010403  ...   \n",
       "min             0.000000            0.000000     0.000000  ...   \n",
       "25%             0.000000            0.000000     0.000000  ...   \n",
       "50%             0.000000            0.000000     0.000000  ...   \n",
       "75%             0.000000            0.000000     0.000000  ...   \n",
       "max             1.000000            1.000000     1.000000  ...   \n",
       "\n",
       "       Tags_Still Thinking  Tags_University not recognized  \\\n",
       "count          9240.000000                     9240.000000   \n",
       "mean              0.000649                        0.000216   \n",
       "std               0.025475                        0.014711   \n",
       "min               0.000000                        0.000000   \n",
       "25%               0.000000                        0.000000   \n",
       "50%               0.000000                        0.000000   \n",
       "75%               0.000000                        0.000000   \n",
       "max               1.000000                        1.000000   \n",
       "\n",
       "       Tags_Want to take admission but has financial problems  \\\n",
       "count                                        9240.000000        \n",
       "mean                                            0.000649        \n",
       "std                                             0.025475        \n",
       "min                                             0.000000        \n",
       "25%                                             0.000000        \n",
       "50%                                             0.000000        \n",
       "75%                                             0.000000        \n",
       "max                                             1.000000        \n",
       "\n",
       "       Tags_Will revert after reading the email  Tags_in touch with EINS  \\\n",
       "count                               9240.000000              9240.000000   \n",
       "mean                                   0.224242                 0.001299   \n",
       "std                                    0.417105                 0.036016   \n",
       "min                                    0.000000                 0.000000   \n",
       "25%                                    0.000000                 0.000000   \n",
       "50%                                    0.000000                 0.000000   \n",
       "75%                                    0.000000                 0.000000   \n",
       "max                                    1.000000                 1.000000   \n",
       "\n",
       "       Tags_invalid number  Tags_number not provided  Tags_opp hangup  \\\n",
       "count          9240.000000               9240.000000      9240.000000   \n",
       "mean              0.008983                  0.002922         0.003571   \n",
       "std               0.094355                  0.053980         0.059658   \n",
       "min               0.000000                  0.000000         0.000000   \n",
       "25%               0.000000                  0.000000         0.000000   \n",
       "50%               0.000000                  0.000000         0.000000   \n",
       "75%               0.000000                  0.000000         0.000000   \n",
       "max               1.000000                  1.000000         1.000000   \n",
       "\n",
       "       Tags_switched off  Tags_wrong number given  \n",
       "count        9240.000000              9240.000000  \n",
       "mean            0.025974                 0.005087  \n",
       "std             0.159066                 0.071142  \n",
       "min             0.000000                 0.000000  \n",
       "25%             0.000000                 0.000000  \n",
       "50%             0.000000                 0.000000  \n",
       "75%             0.000000                 0.000000  \n",
       "max             1.000000                 1.000000  \n",
       "\n",
       "[8 rows x 142 columns]"
      ]
     },
     "execution_count": 60,
     "metadata": {},
     "output_type": "execute_result"
    }
   ],
   "source": [
    "leads.describe()"
   ]
  },
  {
   "cell_type": "markdown",
   "metadata": {},
   "source": [
    "Find and clean outliers"
   ]
  },
  {
   "cell_type": "code",
   "execution_count": 61,
   "metadata": {},
   "outputs": [
    {
     "data": {
      "text/plain": [
       "<matplotlib.axes._subplots.AxesSubplot at 0x19c344533c8>"
      ]
     },
     "execution_count": 61,
     "metadata": {},
     "output_type": "execute_result"
    },
    {
     "data": {
      "image/png": "[encoded data removed]",
      "text/plain": [
       "<Figure size 1440x720 with 3 Axes>"
      ]
     },
     "metadata": {
      "needs_background": "light"
     },
     "output_type": "display_data"
    }
   ],
   "source": [
    "plt.figure(figsize=(20,10))\n",
    "plt.subplot(2,2,1)\n",
    "sns.boxplot(leads['TotalVisits'])\n",
    "\n",
    "plt.subplot(2,2,2)\n",
    "sns.boxplot(leads['Total Time Spent on Website'])\n",
    "\n",
    "plt.subplot(2,2,3)\n",
    "sns.boxplot(leads['Page Views Per Visit'])"
   ]
  },
  {
   "cell_type": "code",
   "execution_count": 62,
   "metadata": {},
   "outputs": [],
   "source": [
    "#create IQR for Total Visits\n",
    "Q1 = leads['TotalVisits'].quantile(0.25)\n",
    "Q3 = leads['TotalVisits'].quantile(0.75)\n",
    "IQR = Q3 - Q1\n",
    "leads = leads.loc[(leads['TotalVisits'] >= Q1 - 1.5*IQR) & (leads['TotalVisits'] <= Q3 + 1.5*IQR)]"
   ]
  },
  {
   "cell_type": "code",
   "execution_count": 63,
   "metadata": {},
   "outputs": [],
   "source": [
    "Q1 = leads['Page Views Per Visit'].quantile(0.25)\n",
    "Q3 - leads['Page Views Per Visit'].quantile(0.75)\n",
    "IQR = Q3 - Q1\n",
    "leads = leads.loc[(leads['Page Views Per Visit'] >= Q1 - 1.5*IQR) & (leads['TotalVisits'] <= Q3 + 1.5*IQR)]"
   ]
  },
  {
   "cell_type": "code",
   "execution_count": 64,
   "metadata": {},
   "outputs": [
    {
     "data": {
      "text/plain": [
       "<matplotlib.axes._subplots.AxesSubplot at 0x19c34c2fd08>"
      ]
     },
     "execution_count": 64,
     "metadata": {},
     "output_type": "execute_result"
    },
    {
     "data": {
      "image/png": "[encoded data removed]",
      "text/plain": [
       "<Figure size 1440x720 with 3 Axes>"
      ]
     },
     "metadata": {
      "needs_background": "light"
     },
     "output_type": "display_data"
    }
   ],
   "source": [
    "plt.figure(figsize=(20,10))\n",
    "plt.subplot(2,2,1)\n",
    "sns.boxplot(leads['TotalVisits'])\n",
    "\n",
    "plt.subplot(2,2,2)\n",
    "sns.boxplot(leads['Total Time Spent on Website'])\n",
    "\n",
    "plt.subplot(2,2,3)\n",
    "sns.boxplot(leads['Page Views Per Visit'])"
   ]
  },
  {
   "cell_type": "code",
   "execution_count": 65,
   "metadata": {},
   "outputs": [
    {
     "data": {
      "text/plain": [
       "(8973, 142)"
      ]
     },
     "execution_count": 65,
     "metadata": {},
     "output_type": "execute_result"
    }
   ],
   "source": [
    "leads.shape"
   ]
  },
  {
   "cell_type": "code",
   "execution_count": 66,
   "metadata": {
    "scrolled": true
   },
   "outputs": [
    {
     "data": {
      "text/plain": [
       "Tags_wrong number given                   Tags_wrong number given                     1.000000\n",
       "Lead Source_Facebook                      Lead Origin_Lead Import                     0.981706\n",
       "Lead Origin_Lead Add Form                 Lead Source_Reference                       0.853834\n",
       "Page Views Per Visit                      TotalVisits                                 0.788361\n",
       "Country_Other                             Lead Source_Olark Chat                      0.690460\n",
       "Tags_Already a student                    Lead Profile_Student of SomeSchool          0.666758\n",
       "Tags_Will revert after reading the email  Converted                                   0.647025\n",
       "Lead Source_Direct Traffic                A free copy of Mastering The Interview      0.616079\n",
       "Country_Other                             Page Views Per Visit                        0.605356\n",
       "TotalVisits                               Country_Other                               0.598309\n",
       "Lead Profile_Student of SomeSchool        Lead Quality_Worst                          0.591635\n",
       "A free copy of Mastering The Interview    Lead Origin_Landing Page Submission         0.569323\n",
       "Country_Other                             Lead Origin_Landing Page Submission         0.567851\n",
       "Asymmetrique Profile Score_13.0           Lead Source_Referral Sites                  0.551450\n",
       "Page Views Per Visit                      Lead Source_Olark Chat                      0.539078\n",
       "Lead Source_Direct Traffic                Lead Origin_Landing Page Submission         0.537581\n",
       "Lead Quality_Might be                     Tags_Will revert after reading the email    0.532689\n",
       "Lead Quality_Worst                        Tags_Already a student                      0.531177\n",
       "Page Views Per Visit                      Lead Origin_Landing Page Submission         0.523773\n",
       "TotalVisits                               Lead Source_Olark Chat                      0.517139\n",
       "dtype: float64"
      ]
     },
     "execution_count": 66,
     "metadata": {},
     "output_type": "execute_result"
    }
   ],
   "source": [
    "leads.corr().abs().unstack().sort_values(ascending=False).drop_duplicates().head(20)"
   ]
  },
  {
   "cell_type": "code",
   "execution_count": 67,
   "metadata": {},
   "outputs": [],
   "source": [
    "leads = leads.drop(['Lead Origin_Lead Import','Lead Origin_Lead Add Form'], axis = 1)"
   ]
  },
  {
   "cell_type": "code",
   "execution_count": 68,
   "metadata": {},
   "outputs": [
    {
     "data": {
      "text/plain": [
       "Tags_wrong number given                   Tags_wrong number given                     1.000000\n",
       "Page Views Per Visit                      TotalVisits                                 0.788361\n",
       "Lead Source_Olark Chat                    Country_Other                               0.690460\n",
       "Lead Profile_Student of SomeSchool        Tags_Already a student                      0.666758\n",
       "Tags_Will revert after reading the email  Converted                                   0.647025\n",
       "A free copy of Mastering The Interview    Lead Source_Direct Traffic                  0.616079\n",
       "Page Views Per Visit                      Country_Other                               0.605356\n",
       "TotalVisits                               Country_Other                               0.598309\n",
       "Lead Profile_Student of SomeSchool        Lead Quality_Worst                          0.591635\n",
       "A free copy of Mastering The Interview    Lead Origin_Landing Page Submission         0.569323\n",
       "Country_Other                             Lead Origin_Landing Page Submission         0.567851\n",
       "Asymmetrique Profile Score_13.0           Lead Source_Referral Sites                  0.551450\n",
       "Lead Source_Olark Chat                    Page Views Per Visit                        0.539078\n",
       "Lead Source_Direct Traffic                Lead Origin_Landing Page Submission         0.537581\n",
       "Lead Quality_Might be                     Tags_Will revert after reading the email    0.532689\n",
       "Tags_Already a student                    Lead Quality_Worst                          0.531177\n",
       "Lead Origin_Landing Page Submission       Page Views Per Visit                        0.523773\n",
       "Lead Source_Olark Chat                    TotalVisits                                 0.517139\n",
       "                                          Lead Origin_Landing Page Submission         0.514137\n",
       "Last Notable Activity_Email Opened        Last Notable Activity_Modified              0.511626\n",
       "dtype: float64"
      ]
     },
     "execution_count": 68,
     "metadata": {},
     "output_type": "execute_result"
    }
   ],
   "source": [
    "leads.corr().abs().unstack().sort_values(ascending=False).drop_duplicates().head(20)"
   ]
  },
  {
   "cell_type": "code",
   "execution_count": 69,
   "metadata": {},
   "outputs": [],
   "source": [
    "leads.to_csv(r'C:/Users/PaulB/OneDrive/Desktop/First Capstone/clean_leads.csv')"
   ]
  },
  {
   "cell_type": "markdown",
   "metadata": {},
   "source": [
    "# Logisitc Regression Model"
   ]
  },
  {
   "cell_type": "code",
   "execution_count": 70,
   "metadata": {},
   "outputs": [],
   "source": [
    "import statsmodels.api as sm\n",
    "from sklearn.linear_model import LogisticRegression\n",
    "from sklearn.model_selection import train_test_split\n",
    "from sklearn import metrics\n",
    "from sklearn.metrics import accuracy_score\n",
    "from sklearn.preprocessing import StandardScaler\n",
    "\n",
    "import warnings\n",
    "warnings.filterwarnings('ignore')"
   ]
  },
  {
   "cell_type": "code",
   "execution_count": 71,
   "metadata": {},
   "outputs": [],
   "source": [
    "#Splitting training and testing data\n",
    "X= leads.drop('Converted', axis = 1)\n",
    "y = leads['Converted']\n",
    "X_train, X_test, y_train, y_test = train_test_split(X, y, stratify=y, test_size = 0.8, random_state = 42)"
   ]
  },
  {
   "cell_type": "code",
   "execution_count": 72,
   "metadata": {
    "scrolled": false
   },
   "outputs": [
    {
     "data": {
      "text/html": [
       "<table class=\"simpletable\">\n",
       "<caption>Generalized Linear Model Regression Results</caption>\n",
       "<tr>\n",
       "  <th>Dep. Variable:</th>       <td>Converted</td>    <th>  No. Observations:  </th>  <td>  1794</td> \n",
       "</tr>\n",
       "<tr>\n",
       "  <th>Model:</th>                  <td>GLM</td>       <th>  Df Residuals:      </th>  <td>  1684</td> \n",
       "</tr>\n",
       "<tr>\n",
       "  <th>Model Family:</th>        <td>Binomial</td>     <th>  Df Model:          </th>  <td>   109</td> \n",
       "</tr>\n",
       "<tr>\n",
       "  <th>Link Function:</th>         <td>logit</td>      <th>  Scale:             </th> <td>  1.0000</td>\n",
       "</tr>\n",
       "<tr>\n",
       "  <th>Method:</th>                <td>IRLS</td>       <th>  Log-Likelihood:    </th> <td>     nan</td>\n",
       "</tr>\n",
       "<tr>\n",
       "  <th>Date:</th>            <td>Sat, 13 Jun 2020</td> <th>  Deviance:          </th> <td>     nan</td>\n",
       "</tr>\n",
       "<tr>\n",
       "  <th>Time:</th>                <td>16:09:09</td>     <th>  Pearson chi2:      </th> <td>5.99e+17</td>\n",
       "</tr>\n",
       "<tr>\n",
       "  <th>No. Iterations:</th>         <td>100</td>       <th>                     </th>     <td> </td>   \n",
       "</tr>\n",
       "<tr>\n",
       "  <th>Covariance Type:</th>     <td>nonrobust</td>    <th>                     </th>     <td> </td>   \n",
       "</tr>\n",
       "</table>\n",
       "<table class=\"simpletable\">\n",
       "<tr>\n",
       "                             <td></td>                               <th>coef</th>     <th>std err</th>      <th>z</th>      <th>P>|z|</th>  <th>[0.025</th>    <th>0.975]</th>  \n",
       "</tr>\n",
       "<tr>\n",
       "  <th>const</th>                                                  <td>-2.474e+14</td> <td> 1.33e+07</td> <td>-1.86e+07</td> <td> 0.000</td> <td>-2.47e+14</td> <td>-2.47e+14</td>\n",
       "</tr>\n",
       "<tr>\n",
       "  <th>Do Not Email</th>                                           <td>-3.073e+14</td> <td> 6.98e+06</td> <td> -4.4e+07</td> <td> 0.000</td> <td>-3.07e+14</td> <td>-3.07e+14</td>\n",
       "</tr>\n",
       "<tr>\n",
       "  <th>Do Not Call</th>                                            <td>    8.1455</td> <td> 1.84e-06</td> <td> 4.43e+06</td> <td> 0.000</td> <td>    8.145</td> <td>    8.145</td>\n",
       "</tr>\n",
       "<tr>\n",
       "  <th>TotalVisits</th>                                            <td> 4.064e+13</td> <td> 1.18e+06</td> <td> 3.45e+07</td> <td> 0.000</td> <td> 4.06e+13</td> <td> 4.06e+13</td>\n",
       "</tr>\n",
       "<tr>\n",
       "  <th>Total Time Spent on Website</th>                            <td> 8.514e+11</td> <td> 3547.827</td> <td>  2.4e+08</td> <td> 0.000</td> <td> 8.51e+11</td> <td> 8.51e+11</td>\n",
       "</tr>\n",
       "<tr>\n",
       "  <th>Page Views Per Visit</th>                                   <td>-6.131e+13</td> <td> 1.53e+06</td> <td>   -4e+07</td> <td> 0.000</td> <td>-6.13e+13</td> <td>-6.13e+13</td>\n",
       "</tr>\n",
       "<tr>\n",
       "  <th>Search</th>                                                 <td>-1.335e+15</td> <td> 4.92e+07</td> <td>-2.72e+07</td> <td> 0.000</td> <td>-1.34e+15</td> <td>-1.34e+15</td>\n",
       "</tr>\n",
       "<tr>\n",
       "  <th>Newspaper Article</th>                                      <td>    9.8167</td> <td> 1.66e-07</td> <td> 5.93e+07</td> <td> 0.000</td> <td>    9.817</td> <td>    9.817</td>\n",
       "</tr>\n",
       "<tr>\n",
       "  <th>X Education Forums</th>                                     <td>   -8.1393</td> <td> 1.23e-07</td> <td>-6.62e+07</td> <td> 0.000</td> <td>   -8.139</td> <td>   -8.139</td>\n",
       "</tr>\n",
       "<tr>\n",
       "  <th>Newspaper</th>                                              <td>   -1.5630</td> <td>  7.9e-08</td> <td>-1.98e+07</td> <td> 0.000</td> <td>   -1.563</td> <td>   -1.563</td>\n",
       "</tr>\n",
       "<tr>\n",
       "  <th>Digital Advertisement</th>                                  <td>    4.3895</td> <td> 1.89e-07</td> <td> 2.33e+07</td> <td> 0.000</td> <td>    4.389</td> <td>    4.389</td>\n",
       "</tr>\n",
       "<tr>\n",
       "  <th>Through Recommendations</th>                                <td> 1.052e+15</td> <td> 6.86e+07</td> <td> 1.53e+07</td> <td> 0.000</td> <td> 1.05e+15</td> <td> 1.05e+15</td>\n",
       "</tr>\n",
       "<tr>\n",
       "  <th>A free copy of Mastering The Interview</th>                 <td>-3.267e+14</td> <td>  5.5e+06</td> <td>-5.94e+07</td> <td> 0.000</td> <td>-3.27e+14</td> <td>-3.27e+14</td>\n",
       "</tr>\n",
       "<tr>\n",
       "  <th>Lead Origin_Landing Page Submission</th>                    <td> 6.952e+13</td> <td> 8.07e+06</td> <td> 8.62e+06</td> <td> 0.000</td> <td> 6.95e+13</td> <td> 6.95e+13</td>\n",
       "</tr>\n",
       "<tr>\n",
       "  <th>Lead Origin_Quick Add Form</th>                             <td>   -1.4102</td> <td> 2.43e-07</td> <td> -5.8e+06</td> <td> 0.000</td> <td>   -1.410</td> <td>   -1.410</td>\n",
       "</tr>\n",
       "<tr>\n",
       "  <th>Lead Source_Direct Traffic</th>                             <td> 3.228e+14</td> <td>  1.2e+07</td> <td> 2.69e+07</td> <td> 0.000</td> <td> 3.23e+14</td> <td> 3.23e+14</td>\n",
       "</tr>\n",
       "<tr>\n",
       "  <th>Lead Source_Facebook</th>                                   <td>-3.193e+14</td> <td> 2.24e+07</td> <td>-1.43e+07</td> <td> 0.000</td> <td>-3.19e+14</td> <td>-3.19e+14</td>\n",
       "</tr>\n",
       "<tr>\n",
       "  <th>Lead Source_Google</th>                                     <td> 1.597e+14</td> <td> 1.16e+07</td> <td> 1.37e+07</td> <td> 0.000</td> <td>  1.6e+14</td> <td>  1.6e+14</td>\n",
       "</tr>\n",
       "<tr>\n",
       "  <th>Lead Source_Live Chat</th>                                  <td>  -20.0234</td> <td> 1.87e-07</td> <td>-1.07e+08</td> <td> 0.000</td> <td>  -20.023</td> <td>  -20.023</td>\n",
       "</tr>\n",
       "<tr>\n",
       "  <th>Lead Source_NC_EDM</th>                                     <td> 3.822e+15</td> <td> 6.46e+07</td> <td> 5.91e+07</td> <td> 0.000</td> <td> 3.82e+15</td> <td> 3.82e+15</td>\n",
       "</tr>\n",
       "<tr>\n",
       "  <th>Lead Source_NaN</th>                                        <td> 3.962e+14</td> <td> 2.69e+07</td> <td> 1.48e+07</td> <td> 0.000</td> <td> 3.96e+14</td> <td> 3.96e+14</td>\n",
       "</tr>\n",
       "<tr>\n",
       "  <th>Lead Source_Olark Chat</th>                                 <td> 3.274e+14</td> <td> 1.25e+07</td> <td> 2.61e+07</td> <td> 0.000</td> <td> 3.27e+14</td> <td> 3.27e+14</td>\n",
       "</tr>\n",
       "<tr>\n",
       "  <th>Lead Source_Organic Search</th>                             <td> 5.221e+13</td> <td> 1.25e+07</td> <td> 4.18e+06</td> <td> 0.000</td> <td> 5.22e+13</td> <td> 5.22e+13</td>\n",
       "</tr>\n",
       "<tr>\n",
       "  <th>Lead Source_Pay per Click Ads</th>                          <td>   -9.8319</td> <td> 1.28e-07</td> <td> -7.7e+07</td> <td> 0.000</td> <td>   -9.832</td> <td>   -9.832</td>\n",
       "</tr>\n",
       "<tr>\n",
       "  <th>Lead Source_Press_Release</th>                              <td>   -2.1859</td> <td> 1.18e-07</td> <td>-1.85e+07</td> <td> 0.000</td> <td>   -2.186</td> <td>   -2.186</td>\n",
       "</tr>\n",
       "<tr>\n",
       "  <th>Lead Source_Reference</th>                                  <td> 8.132e+14</td> <td> 1.48e+07</td> <td> 5.49e+07</td> <td> 0.000</td> <td> 8.13e+14</td> <td> 8.13e+14</td>\n",
       "</tr>\n",
       "<tr>\n",
       "  <th>Lead Source_Referral Sites</th>                             <td> 5.092e+14</td> <td> 1.92e+07</td> <td> 2.66e+07</td> <td> 0.000</td> <td> 5.09e+14</td> <td> 5.09e+14</td>\n",
       "</tr>\n",
       "<tr>\n",
       "  <th>Lead Source_Social Media</th>                               <td>    1.6749</td> <td> 1.21e-07</td> <td> 1.39e+07</td> <td> 0.000</td> <td>    1.675</td> <td>    1.675</td>\n",
       "</tr>\n",
       "<tr>\n",
       "  <th>Lead Source_WeLearn</th>                                    <td>-1.733e+15</td> <td> 6.46e+07</td> <td>-2.68e+07</td> <td> 0.000</td> <td>-1.73e+15</td> <td>-1.73e+15</td>\n",
       "</tr>\n",
       "<tr>\n",
       "  <th>Lead Source_Welingak Website</th>                           <td> 4.613e+15</td> <td> 1.85e+07</td> <td> 2.49e+08</td> <td> 0.000</td> <td> 4.61e+15</td> <td> 4.61e+15</td>\n",
       "</tr>\n",
       "<tr>\n",
       "  <th>Lead Source_bing</th>                                       <td>    1.8966</td> <td> 1.04e-07</td> <td> 1.83e+07</td> <td> 0.000</td> <td>    1.897</td> <td>    1.897</td>\n",
       "</tr>\n",
       "<tr>\n",
       "  <th>Lead Source_blog</th>                                       <td>-4.043e+15</td> <td> 6.46e+07</td> <td>-6.25e+07</td> <td> 0.000</td> <td>-4.04e+15</td> <td>-4.04e+15</td>\n",
       "</tr>\n",
       "<tr>\n",
       "  <th>Lead Source_google</th>                                     <td>   14.2305</td> <td> 1.21e-07</td> <td> 1.18e+08</td> <td> 0.000</td> <td>   14.230</td> <td>   14.230</td>\n",
       "</tr>\n",
       "<tr>\n",
       "  <th>Lead Source_testone</th>                                    <td>-1.641e+14</td> <td> 6.64e+07</td> <td>-2.47e+06</td> <td> 0.000</td> <td>-1.64e+14</td> <td>-1.64e+14</td>\n",
       "</tr>\n",
       "<tr>\n",
       "  <th>Lead Source_welearnblog_Home</th>                           <td>   -0.5389</td> <td> 1.12e-07</td> <td>-4.79e+06</td> <td> 0.000</td> <td>   -0.539</td> <td>   -0.539</td>\n",
       "</tr>\n",
       "<tr>\n",
       "  <th>Lead Source_youtubechannel</th>                             <td>-5.004e+15</td> <td> 6.79e+07</td> <td>-7.38e+07</td> <td> 0.000</td> <td>   -5e+15</td> <td>   -5e+15</td>\n",
       "</tr>\n",
       "<tr>\n",
       "  <th>Country_Other</th>                                          <td> 1.035e+14</td> <td>  7.8e+06</td> <td> 1.33e+07</td> <td> 0.000</td> <td> 1.04e+14</td> <td> 1.04e+14</td>\n",
       "</tr>\n",
       "<tr>\n",
       "  <th>Last Notable Activity_Email Bounced</th>                    <td>-8.706e+14</td> <td> 2.21e+07</td> <td>-3.95e+07</td> <td> 0.000</td> <td>-8.71e+14</td> <td>-8.71e+14</td>\n",
       "</tr>\n",
       "<tr>\n",
       "  <th>Last Notable Activity_Email Link Clicked</th>               <td>-6.412e+14</td> <td> 1.29e+07</td> <td>-4.97e+07</td> <td> 0.000</td> <td>-6.41e+14</td> <td>-6.41e+14</td>\n",
       "</tr>\n",
       "<tr>\n",
       "  <th>Last Notable Activity_Email Marked Spam</th>                <td>    6.8237</td> <td> 7.82e-08</td> <td> 8.72e+07</td> <td> 0.000</td> <td>    6.824</td> <td>    6.824</td>\n",
       "</tr>\n",
       "<tr>\n",
       "  <th>Last Notable Activity_Email Opened</th>                     <td>-3.413e+14</td> <td> 8.48e+06</td> <td>-4.03e+07</td> <td> 0.000</td> <td>-3.41e+14</td> <td>-3.41e+14</td>\n",
       "</tr>\n",
       "<tr>\n",
       "  <th>Last Notable Activity_Email Received</th>                   <td>   -6.8372</td> <td> 1.17e-07</td> <td>-5.84e+07</td> <td> 0.000</td> <td>   -6.837</td> <td>   -6.837</td>\n",
       "</tr>\n",
       "<tr>\n",
       "  <th>Last Notable Activity_Form Submitted on Website</th>        <td>    7.7096</td> <td> 1.33e-07</td> <td>  5.8e+07</td> <td> 0.000</td> <td>    7.710</td> <td>    7.710</td>\n",
       "</tr>\n",
       "<tr>\n",
       "  <th>Last Notable Activity_Had a Phone Conversation</th>         <td> 2.582e+15</td> <td> 6.25e+07</td> <td> 4.13e+07</td> <td> 0.000</td> <td> 2.58e+15</td> <td> 2.58e+15</td>\n",
       "</tr>\n",
       "<tr>\n",
       "  <th>Last Notable Activity_Modified</th>                         <td>-8.261e+14</td> <td> 8.38e+06</td> <td>-9.86e+07</td> <td> 0.000</td> <td>-8.26e+14</td> <td>-8.26e+14</td>\n",
       "</tr>\n",
       "<tr>\n",
       "  <th>Last Notable Activity_Olark Chat Conversation</th>          <td> -6.87e+14</td> <td> 1.38e+07</td> <td>-4.99e+07</td> <td> 0.000</td> <td>-6.87e+14</td> <td>-6.87e+14</td>\n",
       "</tr>\n",
       "<tr>\n",
       "  <th>Last Notable Activity_Page Visited on Website</th>          <td>-2.652e+14</td> <td> 1.25e+07</td> <td>-2.13e+07</td> <td> 0.000</td> <td>-2.65e+14</td> <td>-2.65e+14</td>\n",
       "</tr>\n",
       "<tr>\n",
       "  <th>Last Notable Activity_Resubscribed to emails</th>           <td>   -2.1646</td> <td> 1.13e-07</td> <td>-1.92e+07</td> <td> 0.000</td> <td>   -2.165</td> <td>   -2.165</td>\n",
       "</tr>\n",
       "<tr>\n",
       "  <th>Last Notable Activity_SMS Sent</th>                         <td> 2.642e+14</td> <td> 8.78e+06</td> <td> 3.01e+07</td> <td> 0.000</td> <td> 2.64e+14</td> <td> 2.64e+14</td>\n",
       "</tr>\n",
       "<tr>\n",
       "  <th>Last Notable Activity_Unreachable</th>                      <td> 3.086e+14</td> <td> 3.18e+07</td> <td>  9.7e+06</td> <td> 0.000</td> <td> 3.09e+14</td> <td> 3.09e+14</td>\n",
       "</tr>\n",
       "<tr>\n",
       "  <th>Last Notable Activity_Unsubscribed</th>                     <td> 2.293e+14</td> <td> 2.28e+07</td> <td> 1.01e+07</td> <td> 0.000</td> <td> 2.29e+14</td> <td> 2.29e+14</td>\n",
       "</tr>\n",
       "<tr>\n",
       "  <th>Last Notable Activity_View in browser link Clicked</th>     <td>   -4.9733</td> <td> 1.24e-07</td> <td>-4.02e+07</td> <td> 0.000</td> <td>   -4.973</td> <td>   -4.973</td>\n",
       "</tr>\n",
       "<tr>\n",
       "  <th>Asymmetrique Activity Score_7.0</th>                        <td>   -4.9105</td> <td> 8.58e-08</td> <td>-5.72e+07</td> <td> 0.000</td> <td>   -4.911</td> <td>   -4.911</td>\n",
       "</tr>\n",
       "<tr>\n",
       "  <th>Asymmetrique Activity Score_8.0</th>                        <td>-1.002e+15</td> <td>  4.8e+07</td> <td>-2.09e+07</td> <td> 0.000</td> <td>   -1e+15</td> <td>   -1e+15</td>\n",
       "</tr>\n",
       "<tr>\n",
       "  <th>Asymmetrique Activity Score_9.0</th>                        <td>-2.197e+15</td> <td> 6.84e+07</td> <td>-3.21e+07</td> <td> 0.000</td> <td> -2.2e+15</td> <td> -2.2e+15</td>\n",
       "</tr>\n",
       "<tr>\n",
       "  <th>Asymmetrique Activity Score_10.0</th>                       <td>-1.371e+15</td> <td> 2.06e+07</td> <td>-6.65e+07</td> <td> 0.000</td> <td>-1.37e+15</td> <td>-1.37e+15</td>\n",
       "</tr>\n",
       "<tr>\n",
       "  <th>Asymmetrique Activity Score_11.0</th>                       <td>-3.848e+14</td> <td> 1.72e+07</td> <td>-2.24e+07</td> <td> 0.000</td> <td>-3.85e+14</td> <td>-3.85e+14</td>\n",
       "</tr>\n",
       "<tr>\n",
       "  <th>Asymmetrique Activity Score_12.0</th>                       <td> 7.766e+14</td> <td> 1.43e+07</td> <td> 5.44e+07</td> <td> 0.000</td> <td> 7.77e+14</td> <td> 7.77e+14</td>\n",
       "</tr>\n",
       "<tr>\n",
       "  <th>Asymmetrique Activity Score_13.0</th>                       <td> 2.219e+13</td> <td> 8.44e+06</td> <td> 2.63e+06</td> <td> 0.000</td> <td> 2.22e+13</td> <td> 2.22e+13</td>\n",
       "</tr>\n",
       "<tr>\n",
       "  <th>Asymmetrique Activity Score_14.0</th>                       <td> 4.259e+14</td> <td> 7.27e+06</td> <td> 5.86e+07</td> <td> 0.000</td> <td> 4.26e+14</td> <td> 4.26e+14</td>\n",
       "</tr>\n",
       "<tr>\n",
       "  <th>Asymmetrique Activity Score_15.0</th>                       <td> 9.922e+14</td> <td> 7.75e+06</td> <td> 1.28e+08</td> <td> 0.000</td> <td> 9.92e+14</td> <td> 9.92e+14</td>\n",
       "</tr>\n",
       "<tr>\n",
       "  <th>Asymmetrique Activity Score_16.0</th>                       <td>  4.94e+14</td> <td>  9.6e+06</td> <td> 5.15e+07</td> <td> 0.000</td> <td> 4.94e+14</td> <td> 4.94e+14</td>\n",
       "</tr>\n",
       "<tr>\n",
       "  <th>Asymmetrique Activity Score_17.0</th>                       <td>-7.506e+14</td> <td> 1.06e+07</td> <td>-7.05e+07</td> <td> 0.000</td> <td>-7.51e+14</td> <td>-7.51e+14</td>\n",
       "</tr>\n",
       "<tr>\n",
       "  <th>Asymmetrique Activity Score_18.0</th>                       <td>-2.651e+15</td> <td> 6.67e+07</td> <td>-3.97e+07</td> <td> 0.000</td> <td>-2.65e+15</td> <td>-2.65e+15</td>\n",
       "</tr>\n",
       "<tr>\n",
       "  <th>Asymmetrique Profile Score_11.0</th>                        <td> 8.527e+14</td> <td> 4.01e+07</td> <td> 2.13e+07</td> <td> 0.000</td> <td> 8.53e+14</td> <td> 8.53e+14</td>\n",
       "</tr>\n",
       "<tr>\n",
       "  <th>Asymmetrique Profile Score_12.0</th>                        <td>-7.783e+14</td> <td> 3.13e+07</td> <td>-2.49e+07</td> <td> 0.000</td> <td>-7.78e+14</td> <td>-7.78e+14</td>\n",
       "</tr>\n",
       "<tr>\n",
       "  <th>Asymmetrique Profile Score_13.0</th>                        <td>-1.166e+15</td> <td> 1.49e+07</td> <td>-7.82e+07</td> <td> 0.000</td> <td>-1.17e+15</td> <td>-1.17e+15</td>\n",
       "</tr>\n",
       "<tr>\n",
       "  <th>Asymmetrique Profile Score_14.0</th>                        <td>-5.761e+14</td> <td>  1.2e+07</td> <td>-4.79e+07</td> <td> 0.000</td> <td>-5.76e+14</td> <td>-5.76e+14</td>\n",
       "</tr>\n",
       "<tr>\n",
       "  <th>Asymmetrique Profile Score_15.0</th>                        <td>-5.703e+14</td> <td> 7.52e+06</td> <td>-7.58e+07</td> <td> 0.000</td> <td> -5.7e+14</td> <td> -5.7e+14</td>\n",
       "</tr>\n",
       "<tr>\n",
       "  <th>Asymmetrique Profile Score_16.0</th>                        <td>-2.972e+14</td> <td> 8.86e+06</td> <td>-3.35e+07</td> <td> 0.000</td> <td>-2.97e+14</td> <td>-2.97e+14</td>\n",
       "</tr>\n",
       "<tr>\n",
       "  <th>Asymmetrique Profile Score_17.0</th>                        <td>-3.257e+14</td> <td> 9.35e+06</td> <td>-3.48e+07</td> <td> 0.000</td> <td>-3.26e+14</td> <td>-3.26e+14</td>\n",
       "</tr>\n",
       "<tr>\n",
       "  <th>Asymmetrique Profile Score_18.0</th>                        <td>-8.095e+14</td> <td> 8.78e+06</td> <td>-9.22e+07</td> <td> 0.000</td> <td> -8.1e+14</td> <td> -8.1e+14</td>\n",
       "</tr>\n",
       "<tr>\n",
       "  <th>Asymmetrique Profile Score_19.0</th>                        <td>-1.102e+15</td> <td> 1.28e+07</td> <td> -8.6e+07</td> <td> 0.000</td> <td> -1.1e+15</td> <td> -1.1e+15</td>\n",
       "</tr>\n",
       "<tr>\n",
       "  <th>Asymmetrique Profile Score_20.0</th>                        <td>-8.728e+14</td> <td>  1.3e+07</td> <td> -6.7e+07</td> <td> 0.000</td> <td>-8.73e+14</td> <td>-8.73e+14</td>\n",
       "</tr>\n",
       "<tr>\n",
       "  <th>What is your current occupation_Businessman</th>            <td>  8.01e+14</td> <td> 3.51e+07</td> <td> 2.28e+07</td> <td> 0.000</td> <td> 8.01e+14</td> <td> 8.01e+14</td>\n",
       "</tr>\n",
       "<tr>\n",
       "  <th>What is your current occupation_Housewife</th>              <td> 3.573e+15</td> <td> 5.03e+07</td> <td> 7.11e+07</td> <td> 0.000</td> <td> 3.57e+15</td> <td> 3.57e+15</td>\n",
       "</tr>\n",
       "<tr>\n",
       "  <th>What is your current occupation_Other</th>                  <td>-4.179e+14</td> <td> 4.14e+07</td> <td>-1.01e+07</td> <td> 0.000</td> <td>-4.18e+14</td> <td>-4.18e+14</td>\n",
       "</tr>\n",
       "<tr>\n",
       "  <th>What is your current occupation_Student</th>                <td>-1.152e+15</td> <td>  1.2e+07</td> <td>-9.58e+07</td> <td> 0.000</td> <td>-1.15e+15</td> <td>-1.15e+15</td>\n",
       "</tr>\n",
       "<tr>\n",
       "  <th>What is your current occupation_Unemployed</th>             <td>-2.281e+14</td> <td> 7.09e+06</td> <td>-3.22e+07</td> <td> 0.000</td> <td>-2.28e+14</td> <td>-2.28e+14</td>\n",
       "</tr>\n",
       "<tr>\n",
       "  <th>What is your current occupation_Working Professional</th>   <td> 2.537e+14</td> <td> 1.03e+07</td> <td> 2.46e+07</td> <td> 0.000</td> <td> 2.54e+14</td> <td> 2.54e+14</td>\n",
       "</tr>\n",
       "<tr>\n",
       "  <th>Lead Profile_Dual Specialization Student</th>               <td> 3.384e+15</td> <td> 4.03e+07</td> <td> 8.39e+07</td> <td> 0.000</td> <td> 3.38e+15</td> <td> 3.38e+15</td>\n",
       "</tr>\n",
       "<tr>\n",
       "  <th>Lead Profile_Lateral Student</th>                           <td> 3.101e+15</td> <td> 3.99e+07</td> <td> 7.78e+07</td> <td> 0.000</td> <td>  3.1e+15</td> <td>  3.1e+15</td>\n",
       "</tr>\n",
       "<tr>\n",
       "  <th>Lead Profile_Other Leads</th>                               <td>-2.307e+14</td> <td>  8.8e+06</td> <td>-2.62e+07</td> <td> 0.000</td> <td>-2.31e+14</td> <td>-2.31e+14</td>\n",
       "</tr>\n",
       "<tr>\n",
       "  <th>Lead Profile_Potential Lead</th>                            <td> 4.034e+14</td> <td> 6.83e+06</td> <td> 5.91e+07</td> <td> 0.000</td> <td> 4.03e+14</td> <td> 4.03e+14</td>\n",
       "</tr>\n",
       "<tr>\n",
       "  <th>Lead Profile_Student of SomeSchool</th>                     <td> 3.671e+14</td> <td> 1.64e+07</td> <td> 2.24e+07</td> <td> 0.000</td> <td> 3.67e+14</td> <td> 3.67e+14</td>\n",
       "</tr>\n",
       "<tr>\n",
       "  <th>Specialization_Banking, Investment And Insurance</th>       <td>-5.041e+14</td> <td> 1.16e+07</td> <td>-4.34e+07</td> <td> 0.000</td> <td>-5.04e+14</td> <td>-5.04e+14</td>\n",
       "</tr>\n",
       "<tr>\n",
       "  <th>Specialization_Business Administration</th>                 <td>-5.159e+14</td> <td> 1.09e+07</td> <td>-4.75e+07</td> <td> 0.000</td> <td>-5.16e+14</td> <td>-5.16e+14</td>\n",
       "</tr>\n",
       "<tr>\n",
       "  <th>Specialization_E-Business</th>                              <td>  9.63e+14</td> <td> 2.88e+07</td> <td> 3.35e+07</td> <td> 0.000</td> <td> 9.63e+14</td> <td> 9.63e+14</td>\n",
       "</tr>\n",
       "<tr>\n",
       "  <th>Specialization_E-COMMERCE</th>                              <td>-5.944e+14</td> <td> 1.59e+07</td> <td>-3.73e+07</td> <td> 0.000</td> <td>-5.94e+14</td> <td>-5.94e+14</td>\n",
       "</tr>\n",
       "<tr>\n",
       "  <th>Specialization_Finance Management</th>                      <td>-6.234e+14</td> <td> 9.16e+06</td> <td> -6.8e+07</td> <td> 0.000</td> <td>-6.23e+14</td> <td>-6.23e+14</td>\n",
       "</tr>\n",
       "<tr>\n",
       "  <th>Specialization_Healthcare Management</th>                   <td>-6.918e+14</td> <td> 1.42e+07</td> <td>-4.88e+07</td> <td> 0.000</td> <td>-6.92e+14</td> <td>-6.92e+14</td>\n",
       "</tr>\n",
       "<tr>\n",
       "  <th>Specialization_Hospitality Management</th>                  <td>  -3.3e+14</td> <td> 1.68e+07</td> <td>-1.96e+07</td> <td> 0.000</td> <td> -3.3e+14</td> <td> -3.3e+14</td>\n",
       "</tr>\n",
       "<tr>\n",
       "  <th>Specialization_Human Resource Management</th>               <td>-3.134e+14</td> <td> 9.16e+06</td> <td>-3.42e+07</td> <td> 0.000</td> <td>-3.13e+14</td> <td>-3.13e+14</td>\n",
       "</tr>\n",
       "<tr>\n",
       "  <th>Specialization_IT Projects Management</th>                  <td>-6.675e+14</td> <td> 1.15e+07</td> <td> -5.8e+07</td> <td> 0.000</td> <td>-6.67e+14</td> <td>-6.67e+14</td>\n",
       "</tr>\n",
       "<tr>\n",
       "  <th>Specialization_International Business</th>                  <td>-1.023e+15</td> <td> 1.52e+07</td> <td>-6.74e+07</td> <td> 0.000</td> <td>-1.02e+15</td> <td>-1.02e+15</td>\n",
       "</tr>\n",
       "<tr>\n",
       "  <th>Specialization_Marketing Management</th>                    <td>-2.752e+14</td> <td> 8.81e+06</td> <td>-3.13e+07</td> <td> 0.000</td> <td>-2.75e+14</td> <td>-2.75e+14</td>\n",
       "</tr>\n",
       "<tr>\n",
       "  <th>Specialization_Media and Advertising</th>                   <td>-8.993e+14</td> <td> 1.42e+07</td> <td>-6.33e+07</td> <td> 0.000</td> <td>-8.99e+14</td> <td>-8.99e+14</td>\n",
       "</tr>\n",
       "<tr>\n",
       "  <th>Specialization_Operations Management</th>                   <td>-3.751e+14</td> <td> 1.04e+07</td> <td> -3.6e+07</td> <td> 0.000</td> <td>-3.75e+14</td> <td>-3.75e+14</td>\n",
       "</tr>\n",
       "<tr>\n",
       "  <th>Specialization_Retail Management</th>                       <td>-1.577e+14</td> <td> 1.68e+07</td> <td>-9.39e+06</td> <td> 0.000</td> <td>-1.58e+14</td> <td>-1.58e+14</td>\n",
       "</tr>\n",
       "<tr>\n",
       "  <th>Specialization_Rural and Agribusiness</th>                  <td>-8.514e+14</td> <td> 2.33e+07</td> <td>-3.65e+07</td> <td> 0.000</td> <td>-8.51e+14</td> <td>-8.51e+14</td>\n",
       "</tr>\n",
       "<tr>\n",
       "  <th>Specialization_Services Excellence</th>                     <td>-2.147e+15</td> <td> 2.92e+07</td> <td>-7.34e+07</td> <td> 0.000</td> <td>-2.15e+15</td> <td>-2.15e+15</td>\n",
       "</tr>\n",
       "<tr>\n",
       "  <th>Specialization_Supply Chain Management</th>                 <td>-6.199e+14</td> <td> 1.11e+07</td> <td>-5.61e+07</td> <td> 0.000</td> <td> -6.2e+14</td> <td> -6.2e+14</td>\n",
       "</tr>\n",
       "<tr>\n",
       "  <th>Specialization_Travel and Tourism</th>                      <td>-5.096e+14</td> <td>  1.4e+07</td> <td>-3.64e+07</td> <td> 0.000</td> <td> -5.1e+14</td> <td> -5.1e+14</td>\n",
       "</tr>\n",
       "<tr>\n",
       "  <th>City_Mumbai</th>                                            <td> 4.678e+14</td> <td> 8.81e+06</td> <td> 5.31e+07</td> <td> 0.000</td> <td> 4.68e+14</td> <td> 4.68e+14</td>\n",
       "</tr>\n",
       "<tr>\n",
       "  <th>City_Other Cities</th>                                      <td>  2.46e+14</td> <td> 1.02e+07</td> <td>  2.4e+07</td> <td> 0.000</td> <td> 2.46e+14</td> <td> 2.46e+14</td>\n",
       "</tr>\n",
       "<tr>\n",
       "  <th>City_Other Cities of Maharashtra</th>                       <td>  5.23e+14</td> <td>  1.1e+07</td> <td> 4.76e+07</td> <td> 0.000</td> <td> 5.23e+14</td> <td> 5.23e+14</td>\n",
       "</tr>\n",
       "<tr>\n",
       "  <th>City_Other Metro Cities</th>                                <td> 2.682e+14</td> <td> 1.18e+07</td> <td> 2.26e+07</td> <td> 0.000</td> <td> 2.68e+14</td> <td> 2.68e+14</td>\n",
       "</tr>\n",
       "<tr>\n",
       "  <th>City_Thane & Outskirts</th>                                 <td> 2.205e+14</td> <td> 9.92e+06</td> <td> 2.22e+07</td> <td> 0.000</td> <td> 2.21e+14</td> <td> 2.21e+14</td>\n",
       "</tr>\n",
       "<tr>\n",
       "  <th>City_Tier II Cities</th>                                    <td> 5.797e+14</td> <td> 1.94e+07</td> <td> 2.98e+07</td> <td> 0.000</td> <td>  5.8e+14</td> <td>  5.8e+14</td>\n",
       "</tr>\n",
       "<tr>\n",
       "  <th>Lead Quality_High in Relevance</th>                         <td> 4.217e+14</td> <td> 1.01e+07</td> <td> 4.17e+07</td> <td> 0.000</td> <td> 4.22e+14</td> <td> 4.22e+14</td>\n",
       "</tr>\n",
       "<tr>\n",
       "  <th>Lead Quality_Low in Relevance</th>                          <td> 5.599e+14</td> <td> 9.76e+06</td> <td> 5.74e+07</td> <td> 0.000</td> <td>  5.6e+14</td> <td>  5.6e+14</td>\n",
       "</tr>\n",
       "<tr>\n",
       "  <th>Lead Quality_Might be</th>                                  <td> 2.632e+14</td> <td> 7.34e+06</td> <td> 3.59e+07</td> <td> 0.000</td> <td> 2.63e+14</td> <td> 2.63e+14</td>\n",
       "</tr>\n",
       "<tr>\n",
       "  <th>Lead Quality_Not Sure</th>                                  <td>   6.1e+14</td> <td> 6.99e+06</td> <td> 8.73e+07</td> <td> 0.000</td> <td>  6.1e+14</td> <td>  6.1e+14</td>\n",
       "</tr>\n",
       "<tr>\n",
       "  <th>Lead Quality_Worst</th>                                     <td> 3.186e+14</td> <td> 1.11e+07</td> <td> 2.87e+07</td> <td> 0.000</td> <td> 3.19e+14</td> <td> 3.19e+14</td>\n",
       "</tr>\n",
       "<tr>\n",
       "  <th>Tags_Already a student</th>                                 <td>-1.113e+15</td> <td> 1.19e+07</td> <td>-9.35e+07</td> <td> 0.000</td> <td>-1.11e+15</td> <td>-1.11e+15</td>\n",
       "</tr>\n",
       "<tr>\n",
       "  <th>Tags_Busy</th>                                              <td>-5.669e+14</td> <td> 1.45e+07</td> <td> -3.9e+07</td> <td> 0.000</td> <td>-5.67e+14</td> <td>-5.67e+14</td>\n",
       "</tr>\n",
       "<tr>\n",
       "  <th>Tags_Closed by Horizzon</th>                                <td>  7.65e+14</td> <td> 1.28e+07</td> <td> 5.98e+07</td> <td> 0.000</td> <td> 7.65e+14</td> <td> 7.65e+14</td>\n",
       "</tr>\n",
       "<tr>\n",
       "  <th>Tags_Diploma holder (Not Eligible)</th>                     <td>-9.857e+14</td> <td> 2.27e+07</td> <td>-4.33e+07</td> <td> 0.000</td> <td>-9.86e+14</td> <td>-9.86e+14</td>\n",
       "</tr>\n",
       "<tr>\n",
       "  <th>Tags_Graduation in progress</th>                            <td> 2.034e+13</td> <td> 1.75e+07</td> <td> 1.16e+06</td> <td> 0.000</td> <td> 2.03e+13</td> <td> 2.03e+13</td>\n",
       "</tr>\n",
       "<tr>\n",
       "  <th>Tags_In confusion whether part time or DLP</th>             <td>         0</td> <td>        0</td> <td>      nan</td> <td>   nan</td> <td>        0</td> <td>        0</td>\n",
       "</tr>\n",
       "<tr>\n",
       "  <th>Tags_Interested  in full time MBA</th>                      <td>-1.507e+15</td> <td> 1.82e+07</td> <td>-8.26e+07</td> <td> 0.000</td> <td>-1.51e+15</td> <td>-1.51e+15</td>\n",
       "</tr>\n",
       "<tr>\n",
       "  <th>Tags_Interested in Next batch</th>                          <td>         0</td> <td>        0</td> <td>      nan</td> <td>   nan</td> <td>        0</td> <td>        0</td>\n",
       "</tr>\n",
       "<tr>\n",
       "  <th>Tags_Interested in other courses</th>                       <td>-9.654e+14</td> <td> 9.76e+06</td> <td>-9.89e+07</td> <td> 0.000</td> <td>-9.65e+14</td> <td>-9.65e+14</td>\n",
       "</tr>\n",
       "<tr>\n",
       "  <th>Tags_Lateral student</th>                                   <td>         0</td> <td>        0</td> <td>      nan</td> <td>   nan</td> <td>        0</td> <td>        0</td>\n",
       "</tr>\n",
       "<tr>\n",
       "  <th>Tags_Lost to EINS</th>                                      <td> 1.285e+15</td> <td> 1.33e+07</td> <td> 9.66e+07</td> <td> 0.000</td> <td> 1.29e+15</td> <td> 1.29e+15</td>\n",
       "</tr>\n",
       "<tr>\n",
       "  <th>Tags_Lost to Others</th>                                    <td>         0</td> <td>        0</td> <td>      nan</td> <td>   nan</td> <td>        0</td> <td>        0</td>\n",
       "</tr>\n",
       "<tr>\n",
       "  <th>Tags_Not doing further education</th>                       <td>-3.883e+15</td> <td> 1.83e+07</td> <td>-2.13e+08</td> <td> 0.000</td> <td>-3.88e+15</td> <td>-3.88e+15</td>\n",
       "</tr>\n",
       "<tr>\n",
       "  <th>Tags_Recognition issue (DEC approval)</th>                  <td>         0</td> <td>        0</td> <td>      nan</td> <td>   nan</td> <td>        0</td> <td>        0</td>\n",
       "</tr>\n",
       "<tr>\n",
       "  <th>Tags_Ringing</th>                                           <td>-9.284e+14</td> <td> 8.28e+06</td> <td>-1.12e+08</td> <td> 0.000</td> <td>-9.28e+14</td> <td>-9.28e+14</td>\n",
       "</tr>\n",
       "<tr>\n",
       "  <th>Tags_Shall take in the next coming month</th>               <td>         0</td> <td>        0</td> <td>      nan</td> <td>   nan</td> <td>        0</td> <td>        0</td>\n",
       "</tr>\n",
       "<tr>\n",
       "  <th>Tags_Still Thinking</th>                                    <td>         0</td> <td>        0</td> <td>      nan</td> <td>   nan</td> <td>        0</td> <td>        0</td>\n",
       "</tr>\n",
       "<tr>\n",
       "  <th>Tags_University not recognized</th>                         <td>-1.213e+15</td> <td> 9.89e+07</td> <td>-1.23e+07</td> <td> 0.000</td> <td>-1.21e+15</td> <td>-1.21e+15</td>\n",
       "</tr>\n",
       "<tr>\n",
       "  <th>Tags_Want to take admission but has financial problems</th> <td>         0</td> <td>        0</td> <td>      nan</td> <td>   nan</td> <td>        0</td> <td>        0</td>\n",
       "</tr>\n",
       "<tr>\n",
       "  <th>Tags_Will revert after reading the email</th>               <td> 5.199e+14</td> <td> 9.57e+06</td> <td> 5.43e+07</td> <td> 0.000</td> <td>  5.2e+14</td> <td>  5.2e+14</td>\n",
       "</tr>\n",
       "<tr>\n",
       "  <th>Tags_in touch with EINS</th>                                <td> 7.992e+14</td> <td> 4.13e+07</td> <td> 1.94e+07</td> <td> 0.000</td> <td> 7.99e+14</td> <td> 7.99e+14</td>\n",
       "</tr>\n",
       "<tr>\n",
       "  <th>Tags_invalid number</th>                                    <td>-2.616e+14</td> <td> 1.82e+07</td> <td>-1.44e+07</td> <td> 0.000</td> <td>-2.62e+14</td> <td>-2.62e+14</td>\n",
       "</tr>\n",
       "<tr>\n",
       "  <th>Tags_number not provided</th>                               <td>-4.321e+15</td> <td> 3.21e+07</td> <td>-1.34e+08</td> <td> 0.000</td> <td>-4.32e+15</td> <td>-4.32e+15</td>\n",
       "</tr>\n",
       "<tr>\n",
       "  <th>Tags_opp hangup</th>                                        <td>-4.185e+15</td> <td> 4.02e+07</td> <td>-1.04e+08</td> <td> 0.000</td> <td>-4.19e+15</td> <td>-4.19e+15</td>\n",
       "</tr>\n",
       "<tr>\n",
       "  <th>Tags_switched off</th>                                      <td>-1.174e+15</td> <td> 1.28e+07</td> <td>-9.15e+07</td> <td> 0.000</td> <td>-1.17e+15</td> <td>-1.17e+15</td>\n",
       "</tr>\n",
       "<tr>\n",
       "  <th>Tags_wrong number given</th>                                <td>-3.819e+15</td> <td> 2.68e+07</td> <td>-1.43e+08</td> <td> 0.000</td> <td>-3.82e+15</td> <td>-3.82e+15</td>\n",
       "</tr>\n",
       "</table>"
      ],
      "text/plain": [
       "<class 'statsmodels.iolib.summary.Summary'>\n",
       "\"\"\"\n",
       "                 Generalized Linear Model Regression Results                  \n",
       "==============================================================================\n",
       "Dep. Variable:              Converted   No. Observations:                 1794\n",
       "Model:                            GLM   Df Residuals:                     1684\n",
       "Model Family:                Binomial   Df Model:                          109\n",
       "Link Function:                  logit   Scale:                          1.0000\n",
       "Method:                          IRLS   Log-Likelihood:                    nan\n",
       "Date:                Sat, 13 Jun 2020   Deviance:                          nan\n",
       "Time:                        16:09:09   Pearson chi2:                 5.99e+17\n",
       "No. Iterations:                   100                                         \n",
       "Covariance Type:            nonrobust                                         \n",
       "==========================================================================================================================\n",
       "                                                             coef    std err          z      P>|z|      [0.025      0.975]\n",
       "--------------------------------------------------------------------------------------------------------------------------\n",
       "const                                                  -2.474e+14   1.33e+07  -1.86e+07      0.000   -2.47e+14   -2.47e+14\n",
       "Do Not Email                                           -3.073e+14   6.98e+06   -4.4e+07      0.000   -3.07e+14   -3.07e+14\n",
       "Do Not Call                                                8.1455   1.84e-06   4.43e+06      0.000       8.145       8.145\n",
       "TotalVisits                                             4.064e+13   1.18e+06   3.45e+07      0.000    4.06e+13    4.06e+13\n",
       "Total Time Spent on Website                             8.514e+11   3547.827    2.4e+08      0.000    8.51e+11    8.51e+11\n",
       "Page Views Per Visit                                   -6.131e+13   1.53e+06     -4e+07      0.000   -6.13e+13   -6.13e+13\n",
       "Search                                                 -1.335e+15   4.92e+07  -2.72e+07      0.000   -1.34e+15   -1.34e+15\n",
       "Newspaper Article                                          9.8167   1.66e-07   5.93e+07      0.000       9.817       9.817\n",
       "X Education Forums                                        -8.1393   1.23e-07  -6.62e+07      0.000      -8.139      -8.139\n",
       "Newspaper                                                 -1.5630    7.9e-08  -1.98e+07      0.000      -1.563      -1.563\n",
       "Digital Advertisement                                      4.3895   1.89e-07   2.33e+07      0.000       4.389       4.389\n",
       "Through Recommendations                                 1.052e+15   6.86e+07   1.53e+07      0.000    1.05e+15    1.05e+15\n",
       "A free copy of Mastering The Interview                 -3.267e+14    5.5e+06  -5.94e+07      0.000   -3.27e+14   -3.27e+14\n",
       "Lead Origin_Landing Page Submission                     6.952e+13   8.07e+06   8.62e+06      0.000    6.95e+13    6.95e+13\n",
       "Lead Origin_Quick Add Form                                -1.4102   2.43e-07   -5.8e+06      0.000      -1.410      -1.410\n",
       "Lead Source_Direct Traffic                              3.228e+14    1.2e+07   2.69e+07      0.000    3.23e+14    3.23e+14\n",
       "Lead Source_Facebook                                   -3.193e+14   2.24e+07  -1.43e+07      0.000   -3.19e+14   -3.19e+14\n",
       "Lead Source_Google                                      1.597e+14   1.16e+07   1.37e+07      0.000     1.6e+14     1.6e+14\n",
       "Lead Source_Live Chat                                    -20.0234   1.87e-07  -1.07e+08      0.000     -20.023     -20.023\n",
       "Lead Source_NC_EDM                                      3.822e+15   6.46e+07   5.91e+07      0.000    3.82e+15    3.82e+15\n",
       "Lead Source_NaN                                         3.962e+14   2.69e+07   1.48e+07      0.000    3.96e+14    3.96e+14\n",
       "Lead Source_Olark Chat                                  3.274e+14   1.25e+07   2.61e+07      0.000    3.27e+14    3.27e+14\n",
       "Lead Source_Organic Search                              5.221e+13   1.25e+07   4.18e+06      0.000    5.22e+13    5.22e+13\n",
       "Lead Source_Pay per Click Ads                             -9.8319   1.28e-07   -7.7e+07      0.000      -9.832      -9.832\n",
       "Lead Source_Press_Release                                 -2.1859   1.18e-07  -1.85e+07      0.000      -2.186      -2.186\n",
       "Lead Source_Reference                                   8.132e+14   1.48e+07   5.49e+07      0.000    8.13e+14    8.13e+14\n",
       "Lead Source_Referral Sites                              5.092e+14   1.92e+07   2.66e+07      0.000    5.09e+14    5.09e+14\n",
       "Lead Source_Social Media                                   1.6749   1.21e-07   1.39e+07      0.000       1.675       1.675\n",
       "Lead Source_WeLearn                                    -1.733e+15   6.46e+07  -2.68e+07      0.000   -1.73e+15   -1.73e+15\n",
       "Lead Source_Welingak Website                            4.613e+15   1.85e+07   2.49e+08      0.000    4.61e+15    4.61e+15\n",
       "Lead Source_bing                                           1.8966   1.04e-07   1.83e+07      0.000       1.897       1.897\n",
       "Lead Source_blog                                       -4.043e+15   6.46e+07  -6.25e+07      0.000   -4.04e+15   -4.04e+15\n",
       "Lead Source_google                                        14.2305   1.21e-07   1.18e+08      0.000      14.230      14.230\n",
       "Lead Source_testone                                    -1.641e+14   6.64e+07  -2.47e+06      0.000   -1.64e+14   -1.64e+14\n",
       "Lead Source_welearnblog_Home                              -0.5389   1.12e-07  -4.79e+06      0.000      -0.539      -0.539\n",
       "Lead Source_youtubechannel                             -5.004e+15   6.79e+07  -7.38e+07      0.000      -5e+15      -5e+15\n",
       "Country_Other                                           1.035e+14    7.8e+06   1.33e+07      0.000    1.04e+14    1.04e+14\n",
       "Last Notable Activity_Email Bounced                    -8.706e+14   2.21e+07  -3.95e+07      0.000   -8.71e+14   -8.71e+14\n",
       "Last Notable Activity_Email Link Clicked               -6.412e+14   1.29e+07  -4.97e+07      0.000   -6.41e+14   -6.41e+14\n",
       "Last Notable Activity_Email Marked Spam                    6.8237   7.82e-08   8.72e+07      0.000       6.824       6.824\n",
       "Last Notable Activity_Email Opened                     -3.413e+14   8.48e+06  -4.03e+07      0.000   -3.41e+14   -3.41e+14\n",
       "Last Notable Activity_Email Received                      -6.8372   1.17e-07  -5.84e+07      0.000      -6.837      -6.837\n",
       "Last Notable Activity_Form Submitted on Website            7.7096   1.33e-07    5.8e+07      0.000       7.710       7.710\n",
       "Last Notable Activity_Had a Phone Conversation          2.582e+15   6.25e+07   4.13e+07      0.000    2.58e+15    2.58e+15\n",
       "Last Notable Activity_Modified                         -8.261e+14   8.38e+06  -9.86e+07      0.000   -8.26e+14   -8.26e+14\n",
       "Last Notable Activity_Olark Chat Conversation           -6.87e+14   1.38e+07  -4.99e+07      0.000   -6.87e+14   -6.87e+14\n",
       "Last Notable Activity_Page Visited on Website          -2.652e+14   1.25e+07  -2.13e+07      0.000   -2.65e+14   -2.65e+14\n",
       "Last Notable Activity_Resubscribed to emails              -2.1646   1.13e-07  -1.92e+07      0.000      -2.165      -2.165\n",
       "Last Notable Activity_SMS Sent                          2.642e+14   8.78e+06   3.01e+07      0.000    2.64e+14    2.64e+14\n",
       "Last Notable Activity_Unreachable                       3.086e+14   3.18e+07    9.7e+06      0.000    3.09e+14    3.09e+14\n",
       "Last Notable Activity_Unsubscribed                      2.293e+14   2.28e+07   1.01e+07      0.000    2.29e+14    2.29e+14\n",
       "Last Notable Activity_View in browser link Clicked        -4.9733   1.24e-07  -4.02e+07      0.000      -4.973      -4.973\n",
       "Asymmetrique Activity Score_7.0                           -4.9105   8.58e-08  -5.72e+07      0.000      -4.911      -4.911\n",
       "Asymmetrique Activity Score_8.0                        -1.002e+15    4.8e+07  -2.09e+07      0.000      -1e+15      -1e+15\n",
       "Asymmetrique Activity Score_9.0                        -2.197e+15   6.84e+07  -3.21e+07      0.000    -2.2e+15    -2.2e+15\n",
       "Asymmetrique Activity Score_10.0                       -1.371e+15   2.06e+07  -6.65e+07      0.000   -1.37e+15   -1.37e+15\n",
       "Asymmetrique Activity Score_11.0                       -3.848e+14   1.72e+07  -2.24e+07      0.000   -3.85e+14   -3.85e+14\n",
       "Asymmetrique Activity Score_12.0                        7.766e+14   1.43e+07   5.44e+07      0.000    7.77e+14    7.77e+14\n",
       "Asymmetrique Activity Score_13.0                        2.219e+13   8.44e+06   2.63e+06      0.000    2.22e+13    2.22e+13\n",
       "Asymmetrique Activity Score_14.0                        4.259e+14   7.27e+06   5.86e+07      0.000    4.26e+14    4.26e+14\n",
       "Asymmetrique Activity Score_15.0                        9.922e+14   7.75e+06   1.28e+08      0.000    9.92e+14    9.92e+14\n",
       "Asymmetrique Activity Score_16.0                         4.94e+14    9.6e+06   5.15e+07      0.000    4.94e+14    4.94e+14\n",
       "Asymmetrique Activity Score_17.0                       -7.506e+14   1.06e+07  -7.05e+07      0.000   -7.51e+14   -7.51e+14\n",
       "Asymmetrique Activity Score_18.0                       -2.651e+15   6.67e+07  -3.97e+07      0.000   -2.65e+15   -2.65e+15\n",
       "Asymmetrique Profile Score_11.0                         8.527e+14   4.01e+07   2.13e+07      0.000    8.53e+14    8.53e+14\n",
       "Asymmetrique Profile Score_12.0                        -7.783e+14   3.13e+07  -2.49e+07      0.000   -7.78e+14   -7.78e+14\n",
       "Asymmetrique Profile Score_13.0                        -1.166e+15   1.49e+07  -7.82e+07      0.000   -1.17e+15   -1.17e+15\n",
       "Asymmetrique Profile Score_14.0                        -5.761e+14    1.2e+07  -4.79e+07      0.000   -5.76e+14   -5.76e+14\n",
       "Asymmetrique Profile Score_15.0                        -5.703e+14   7.52e+06  -7.58e+07      0.000    -5.7e+14    -5.7e+14\n",
       "Asymmetrique Profile Score_16.0                        -2.972e+14   8.86e+06  -3.35e+07      0.000   -2.97e+14   -2.97e+14\n",
       "Asymmetrique Profile Score_17.0                        -3.257e+14   9.35e+06  -3.48e+07      0.000   -3.26e+14   -3.26e+14\n",
       "Asymmetrique Profile Score_18.0                        -8.095e+14   8.78e+06  -9.22e+07      0.000    -8.1e+14    -8.1e+14\n",
       "Asymmetrique Profile Score_19.0                        -1.102e+15   1.28e+07   -8.6e+07      0.000    -1.1e+15    -1.1e+15\n",
       "Asymmetrique Profile Score_20.0                        -8.728e+14    1.3e+07   -6.7e+07      0.000   -8.73e+14   -8.73e+14\n",
       "What is your current occupation_Businessman              8.01e+14   3.51e+07   2.28e+07      0.000    8.01e+14    8.01e+14\n",
       "What is your current occupation_Housewife               3.573e+15   5.03e+07   7.11e+07      0.000    3.57e+15    3.57e+15\n",
       "What is your current occupation_Other                  -4.179e+14   4.14e+07  -1.01e+07      0.000   -4.18e+14   -4.18e+14\n",
       "What is your current occupation_Student                -1.152e+15    1.2e+07  -9.58e+07      0.000   -1.15e+15   -1.15e+15\n",
       "What is your current occupation_Unemployed             -2.281e+14   7.09e+06  -3.22e+07      0.000   -2.28e+14   -2.28e+14\n",
       "What is your current occupation_Working Professional    2.537e+14   1.03e+07   2.46e+07      0.000    2.54e+14    2.54e+14\n",
       "Lead Profile_Dual Specialization Student                3.384e+15   4.03e+07   8.39e+07      0.000    3.38e+15    3.38e+15\n",
       "Lead Profile_Lateral Student                            3.101e+15   3.99e+07   7.78e+07      0.000     3.1e+15     3.1e+15\n",
       "Lead Profile_Other Leads                               -2.307e+14    8.8e+06  -2.62e+07      0.000   -2.31e+14   -2.31e+14\n",
       "Lead Profile_Potential Lead                             4.034e+14   6.83e+06   5.91e+07      0.000    4.03e+14    4.03e+14\n",
       "Lead Profile_Student of SomeSchool                      3.671e+14   1.64e+07   2.24e+07      0.000    3.67e+14    3.67e+14\n",
       "Specialization_Banking, Investment And Insurance       -5.041e+14   1.16e+07  -4.34e+07      0.000   -5.04e+14   -5.04e+14\n",
       "Specialization_Business Administration                 -5.159e+14   1.09e+07  -4.75e+07      0.000   -5.16e+14   -5.16e+14\n",
       "Specialization_E-Business                                9.63e+14   2.88e+07   3.35e+07      0.000    9.63e+14    9.63e+14\n",
       "Specialization_E-COMMERCE                              -5.944e+14   1.59e+07  -3.73e+07      0.000   -5.94e+14   -5.94e+14\n",
       "Specialization_Finance Management                      -6.234e+14   9.16e+06   -6.8e+07      0.000   -6.23e+14   -6.23e+14\n",
       "Specialization_Healthcare Management                   -6.918e+14   1.42e+07  -4.88e+07      0.000   -6.92e+14   -6.92e+14\n",
       "Specialization_Hospitality Management                    -3.3e+14   1.68e+07  -1.96e+07      0.000    -3.3e+14    -3.3e+14\n",
       "Specialization_Human Resource Management               -3.134e+14   9.16e+06  -3.42e+07      0.000   -3.13e+14   -3.13e+14\n",
       "Specialization_IT Projects Management                  -6.675e+14   1.15e+07   -5.8e+07      0.000   -6.67e+14   -6.67e+14\n",
       "Specialization_International Business                  -1.023e+15   1.52e+07  -6.74e+07      0.000   -1.02e+15   -1.02e+15\n",
       "Specialization_Marketing Management                    -2.752e+14   8.81e+06  -3.13e+07      0.000   -2.75e+14   -2.75e+14\n",
       "Specialization_Media and Advertising                   -8.993e+14   1.42e+07  -6.33e+07      0.000   -8.99e+14   -8.99e+14\n",
       "Specialization_Operations Management                   -3.751e+14   1.04e+07   -3.6e+07      0.000   -3.75e+14   -3.75e+14\n",
       "Specialization_Retail Management                       -1.577e+14   1.68e+07  -9.39e+06      0.000   -1.58e+14   -1.58e+14\n",
       "Specialization_Rural and Agribusiness                  -8.514e+14   2.33e+07  -3.65e+07      0.000   -8.51e+14   -8.51e+14\n",
       "Specialization_Services Excellence                     -2.147e+15   2.92e+07  -7.34e+07      0.000   -2.15e+15   -2.15e+15\n",
       "Specialization_Supply Chain Management                 -6.199e+14   1.11e+07  -5.61e+07      0.000    -6.2e+14    -6.2e+14\n",
       "Specialization_Travel and Tourism                      -5.096e+14    1.4e+07  -3.64e+07      0.000    -5.1e+14    -5.1e+14\n",
       "City_Mumbai                                             4.678e+14   8.81e+06   5.31e+07      0.000    4.68e+14    4.68e+14\n",
       "City_Other Cities                                        2.46e+14   1.02e+07    2.4e+07      0.000    2.46e+14    2.46e+14\n",
       "City_Other Cities of Maharashtra                         5.23e+14    1.1e+07   4.76e+07      0.000    5.23e+14    5.23e+14\n",
       "City_Other Metro Cities                                 2.682e+14   1.18e+07   2.26e+07      0.000    2.68e+14    2.68e+14\n",
       "City_Thane & Outskirts                                  2.205e+14   9.92e+06   2.22e+07      0.000    2.21e+14    2.21e+14\n",
       "City_Tier II Cities                                     5.797e+14   1.94e+07   2.98e+07      0.000     5.8e+14     5.8e+14\n",
       "Lead Quality_High in Relevance                          4.217e+14   1.01e+07   4.17e+07      0.000    4.22e+14    4.22e+14\n",
       "Lead Quality_Low in Relevance                           5.599e+14   9.76e+06   5.74e+07      0.000     5.6e+14     5.6e+14\n",
       "Lead Quality_Might be                                   2.632e+14   7.34e+06   3.59e+07      0.000    2.63e+14    2.63e+14\n",
       "Lead Quality_Not Sure                                     6.1e+14   6.99e+06   8.73e+07      0.000     6.1e+14     6.1e+14\n",
       "Lead Quality_Worst                                      3.186e+14   1.11e+07   2.87e+07      0.000    3.19e+14    3.19e+14\n",
       "Tags_Already a student                                 -1.113e+15   1.19e+07  -9.35e+07      0.000   -1.11e+15   -1.11e+15\n",
       "Tags_Busy                                              -5.669e+14   1.45e+07   -3.9e+07      0.000   -5.67e+14   -5.67e+14\n",
       "Tags_Closed by Horizzon                                  7.65e+14   1.28e+07   5.98e+07      0.000    7.65e+14    7.65e+14\n",
       "Tags_Diploma holder (Not Eligible)                     -9.857e+14   2.27e+07  -4.33e+07      0.000   -9.86e+14   -9.86e+14\n",
       "Tags_Graduation in progress                             2.034e+13   1.75e+07   1.16e+06      0.000    2.03e+13    2.03e+13\n",
       "Tags_In confusion whether part time or DLP                      0          0        nan        nan           0           0\n",
       "Tags_Interested  in full time MBA                      -1.507e+15   1.82e+07  -8.26e+07      0.000   -1.51e+15   -1.51e+15\n",
       "Tags_Interested in Next batch                                   0          0        nan        nan           0           0\n",
       "Tags_Interested in other courses                       -9.654e+14   9.76e+06  -9.89e+07      0.000   -9.65e+14   -9.65e+14\n",
       "Tags_Lateral student                                            0          0        nan        nan           0           0\n",
       "Tags_Lost to EINS                                       1.285e+15   1.33e+07   9.66e+07      0.000    1.29e+15    1.29e+15\n",
       "Tags_Lost to Others                                             0          0        nan        nan           0           0\n",
       "Tags_Not doing further education                       -3.883e+15   1.83e+07  -2.13e+08      0.000   -3.88e+15   -3.88e+15\n",
       "Tags_Recognition issue (DEC approval)                           0          0        nan        nan           0           0\n",
       "Tags_Ringing                                           -9.284e+14   8.28e+06  -1.12e+08      0.000   -9.28e+14   -9.28e+14\n",
       "Tags_Shall take in the next coming month                        0          0        nan        nan           0           0\n",
       "Tags_Still Thinking                                             0          0        nan        nan           0           0\n",
       "Tags_University not recognized                         -1.213e+15   9.89e+07  -1.23e+07      0.000   -1.21e+15   -1.21e+15\n",
       "Tags_Want to take admission but has financial problems          0          0        nan        nan           0           0\n",
       "Tags_Will revert after reading the email                5.199e+14   9.57e+06   5.43e+07      0.000     5.2e+14     5.2e+14\n",
       "Tags_in touch with EINS                                 7.992e+14   4.13e+07   1.94e+07      0.000    7.99e+14    7.99e+14\n",
       "Tags_invalid number                                    -2.616e+14   1.82e+07  -1.44e+07      0.000   -2.62e+14   -2.62e+14\n",
       "Tags_number not provided                               -4.321e+15   3.21e+07  -1.34e+08      0.000   -4.32e+15   -4.32e+15\n",
       "Tags_opp hangup                                        -4.185e+15   4.02e+07  -1.04e+08      0.000   -4.19e+15   -4.19e+15\n",
       "Tags_switched off                                      -1.174e+15   1.28e+07  -9.15e+07      0.000   -1.17e+15   -1.17e+15\n",
       "Tags_wrong number given                                -3.819e+15   2.68e+07  -1.43e+08      0.000   -3.82e+15   -3.82e+15\n",
       "==========================================================================================================================\n",
       "\"\"\""
      ]
     },
     "execution_count": 72,
     "metadata": {},
     "output_type": "execute_result"
    }
   ],
   "source": [
    "logm1 = sm.GLM(y_train,(sm.add_constant(X_train)), family=sm.families.Binomial())\n",
    "logm1.fit().summary()"
   ]
  },
  {
   "cell_type": "markdown",
   "metadata": {},
   "source": [
    "Too many features are not contributing, we will implement RFE"
   ]
  },
  {
   "cell_type": "code",
   "execution_count": 73,
   "metadata": {},
   "outputs": [],
   "source": [
    "#Implement RFE\n",
    "logreg = LogisticRegression()\n",
    "\n",
    "from sklearn.feature_selection import RFE\n",
    "rfe = RFE(logreg, 20)\n",
    "rfe = rfe.fit(X_train,y_train)"
   ]
  },
  {
   "cell_type": "code",
   "execution_count": 74,
   "metadata": {},
   "outputs": [
    {
     "data": {
      "text/plain": [
       "[('Do Not Email', False, 8),\n",
       " ('Do Not Call', False, 103),\n",
       " ('TotalVisits', False, 68),\n",
       " ('Total Time Spent on Website', False, 90),\n",
       " ('Page Views Per Visit', False, 67),\n",
       " ('Search', False, 70),\n",
       " ('Newspaper Article', False, 97),\n",
       " ('X Education Forums', False, 96),\n",
       " ('Newspaper', False, 95),\n",
       " ('Digital Advertisement', False, 94),\n",
       " ('Through Recommendations', False, 93),\n",
       " ('A free copy of Mastering The Interview', False, 42),\n",
       " ('Lead Origin_Landing Page Submission', False, 21),\n",
       " ('Lead Origin_Quick Add Form', False, 106),\n",
       " ('Lead Source_Direct Traffic', False, 44),\n",
       " ('Lead Source_Facebook', False, 32),\n",
       " ('Lead Source_Google', False, 43),\n",
       " ('Lead Source_Live Chat', False, 112),\n",
       " ('Lead Source_NC_EDM', False, 13),\n",
       " ('Lead Source_NaN', False, 55),\n",
       " ('Lead Source_Olark Chat', False, 20),\n",
       " ('Lead Source_Organic Search', False, 29),\n",
       " ('Lead Source_Pay per Click Ads', False, 99),\n",
       " ('Lead Source_Press_Release', False, 101),\n",
       " ('Lead Source_Reference', False, 2),\n",
       " ('Lead Source_Referral Sites', False, 58),\n",
       " ('Lead Source_Social Media', False, 107),\n",
       " ('Lead Source_WeLearn', False, 89),\n",
       " ('Lead Source_Welingak Website', True, 1),\n",
       " ('Lead Source_bing', False, 105),\n",
       " ('Lead Source_blog', False, 59),\n",
       " ('Lead Source_google', False, 102),\n",
       " ('Lead Source_testone', False, 75),\n",
       " ('Lead Source_welearnblog_Home', False, 116),\n",
       " ('Lead Source_youtubechannel', False, 65),\n",
       " ('Country_Other', False, 45),\n",
       " ('Last Notable Activity_Email Bounced', False, 39),\n",
       " ('Last Notable Activity_Email Link Clicked', False, 9),\n",
       " ('Last Notable Activity_Email Marked Spam', False, 111),\n",
       " ('Last Notable Activity_Email Opened', False, 80),\n",
       " ('Last Notable Activity_Email Received', False, 114),\n",
       " ('Last Notable Activity_Form Submitted on Website', False, 110),\n",
       " ('Last Notable Activity_Had a Phone Conversation', False, 87),\n",
       " ('Last Notable Activity_Modified', False, 3),\n",
       " ('Last Notable Activity_Olark Chat Conversation', False, 11),\n",
       " ('Last Notable Activity_Page Visited on Website', False, 64),\n",
       " ('Last Notable Activity_Resubscribed to emails', False, 104),\n",
       " ('Last Notable Activity_SMS Sent', True, 1),\n",
       " ('Last Notable Activity_Unreachable', False, 34),\n",
       " ('Last Notable Activity_Unsubscribed', False, 26),\n",
       " ('Last Notable Activity_View in browser link Clicked', False, 100),\n",
       " ('Asymmetrique Activity Score_7.0', False, 109),\n",
       " ('Asymmetrique Activity Score_8.0', False, 62),\n",
       " ('Asymmetrique Activity Score_9.0', False, 49),\n",
       " ('Asymmetrique Activity Score_10.0', True, 1),\n",
       " ('Asymmetrique Activity Score_11.0', False, 12),\n",
       " ('Asymmetrique Activity Score_12.0', False, 38),\n",
       " ('Asymmetrique Activity Score_13.0', False, 4),\n",
       " ('Asymmetrique Activity Score_14.0', False, 66),\n",
       " ('Asymmetrique Activity Score_15.0', True, 1),\n",
       " ('Asymmetrique Activity Score_16.0', False, 25),\n",
       " ('Asymmetrique Activity Score_17.0', True, 1),\n",
       " ('Asymmetrique Activity Score_18.0', False, 91),\n",
       " ('Asymmetrique Profile Score_11.0', False, 15),\n",
       " ('Asymmetrique Profile Score_12.0', False, 60),\n",
       " ('Asymmetrique Profile Score_13.0', False, 16),\n",
       " ('Asymmetrique Profile Score_14.0', False, 47),\n",
       " ('Asymmetrique Profile Score_15.0', False, 48),\n",
       " ('Asymmetrique Profile Score_16.0', False, 73),\n",
       " ('Asymmetrique Profile Score_17.0', False, 83),\n",
       " ('Asymmetrique Profile Score_18.0', False, 23),\n",
       " ('Asymmetrique Profile Score_19.0', False, 37),\n",
       " ('Asymmetrique Profile Score_20.0', False, 52),\n",
       " ('What is your current occupation_Businessman', False, 50),\n",
       " ('What is your current occupation_Housewife', False, 61),\n",
       " ('What is your current occupation_Other', False, 56),\n",
       " ('What is your current occupation_Student', False, 71),\n",
       " ('What is your current occupation_Unemployed', True, 1),\n",
       " ('What is your current occupation_Working Professional', True, 1),\n",
       " ('Lead Profile_Dual Specialization Student', False, 78),\n",
       " ('Lead Profile_Lateral Student', False, 72),\n",
       " ('Lead Profile_Other Leads', False, 84),\n",
       " ('Lead Profile_Potential Lead', False, 7),\n",
       " ('Lead Profile_Student of SomeSchool', False, 57),\n",
       " ('Specialization_Banking, Investment And Insurance', False, 22),\n",
       " ('Specialization_Business Administration', False, 31),\n",
       " ('Specialization_E-Business', False, 14),\n",
       " ('Specialization_E-COMMERCE', False, 92),\n",
       " ('Specialization_Finance Management', False, 54),\n",
       " ('Specialization_Healthcare Management', False, 85),\n",
       " ('Specialization_Hospitality Management', False, 82),\n",
       " ('Specialization_Human Resource Management', False, 19),\n",
       " ('Specialization_IT Projects Management', False, 36),\n",
       " ('Specialization_International Business', False, 33),\n",
       " ('Specialization_Marketing Management', False, 17),\n",
       " ('Specialization_Media and Advertising', False, 35),\n",
       " ('Specialization_Operations Management', False, 18),\n",
       " ('Specialization_Retail Management', False, 86),\n",
       " ('Specialization_Rural and Agribusiness', False, 53),\n",
       " ('Specialization_Services Excellence', False, 51),\n",
       " ('Specialization_Supply Chain Management', False, 41),\n",
       " ('Specialization_Travel and Tourism', False, 77),\n",
       " ('City_Mumbai', False, 24),\n",
       " ('City_Other Cities', False, 69),\n",
       " ('City_Other Cities of Maharashtra', False, 40),\n",
       " ('City_Other Metro Cities', False, 81),\n",
       " ('City_Thane & Outskirts', False, 88),\n",
       " ('City_Tier II Cities', False, 74),\n",
       " ('Lead Quality_High in Relevance', False, 27),\n",
       " ('Lead Quality_Low in Relevance', False, 46),\n",
       " ('Lead Quality_Might be', False, 76),\n",
       " ('Lead Quality_Not Sure', False, 79),\n",
       " ('Lead Quality_Worst', True, 1),\n",
       " ('Tags_Already a student', True, 1),\n",
       " ('Tags_Busy', False, 30),\n",
       " ('Tags_Closed by Horizzon', True, 1),\n",
       " ('Tags_Diploma holder (Not Eligible)', False, 5),\n",
       " ('Tags_Graduation in progress', False, 6),\n",
       " ('Tags_In confusion whether part time or DLP', False, 113),\n",
       " ('Tags_Interested  in full time MBA', True, 1),\n",
       " ('Tags_Interested in Next batch', False, 115),\n",
       " ('Tags_Interested in other courses', True, 1),\n",
       " ('Tags_Lateral student', False, 117),\n",
       " ('Tags_Lost to EINS', True, 1),\n",
       " ('Tags_Lost to Others', False, 119),\n",
       " ('Tags_Not doing further education', True, 1),\n",
       " ('Tags_Recognition issue (DEC approval)', False, 120),\n",
       " ('Tags_Ringing', True, 1),\n",
       " ('Tags_Shall take in the next coming month', False, 118),\n",
       " ('Tags_Still Thinking', False, 108),\n",
       " ('Tags_University not recognized', False, 63),\n",
       " ('Tags_Want to take admission but has financial problems', False, 98),\n",
       " ('Tags_Will revert after reading the email', True, 1),\n",
       " ('Tags_in touch with EINS', False, 28),\n",
       " ('Tags_invalid number', True, 1),\n",
       " ('Tags_number not provided', True, 1),\n",
       " ('Tags_opp hangup', False, 10),\n",
       " ('Tags_switched off', True, 1),\n",
       " ('Tags_wrong number given', True, 1)]"
      ]
     },
     "execution_count": 74,
     "metadata": {},
     "output_type": "execute_result"
    }
   ],
   "source": [
    "#Create list of which columns are selected in RFE\n",
    "list(zip(X_train.columns, rfe.support_, rfe.ranking_))"
   ]
  },
  {
   "cell_type": "code",
   "execution_count": 75,
   "metadata": {},
   "outputs": [
    {
     "data": {
      "text/plain": [
       "Index(['Do Not Email', 'Do Not Call', 'TotalVisits',\n",
       "       'Total Time Spent on Website', 'Page Views Per Visit', 'Search',\n",
       "       'Newspaper Article', 'X Education Forums', 'Newspaper',\n",
       "       'Digital Advertisement',\n",
       "       ...\n",
       "       'Tags_Interested in Next batch', 'Tags_Lateral student',\n",
       "       'Tags_Lost to Others', 'Tags_Recognition issue (DEC approval)',\n",
       "       'Tags_Shall take in the next coming month', 'Tags_Still Thinking',\n",
       "       'Tags_University not recognized',\n",
       "       'Tags_Want to take admission but has financial problems',\n",
       "       'Tags_in touch with EINS', 'Tags_opp hangup'],\n",
       "      dtype='object', length=119)"
      ]
     },
     "execution_count": 75,
     "metadata": {},
     "output_type": "execute_result"
    }
   ],
   "source": [
    "#Get columns of selected features\n",
    "col = X_train.columns[rfe.support_]\n",
    "\n",
    "X_train.columns[~rfe.support_] "
   ]
  },
  {
   "cell_type": "code",
   "execution_count": 76,
   "metadata": {},
   "outputs": [
    {
     "data": {
      "text/html": [
       "<table class=\"simpletable\">\n",
       "<caption>Generalized Linear Model Regression Results</caption>\n",
       "<tr>\n",
       "  <th>Dep. Variable:</th>       <td>Converted</td>    <th>  No. Observations:  </th>  <td>  1794</td> \n",
       "</tr>\n",
       "<tr>\n",
       "  <th>Model:</th>                  <td>GLM</td>       <th>  Df Residuals:      </th>  <td>  1773</td> \n",
       "</tr>\n",
       "<tr>\n",
       "  <th>Model Family:</th>        <td>Binomial</td>     <th>  Df Model:          </th>  <td>    20</td> \n",
       "</tr>\n",
       "<tr>\n",
       "  <th>Link Function:</th>         <td>logit</td>      <th>  Scale:             </th> <td>  1.0000</td>\n",
       "</tr>\n",
       "<tr>\n",
       "  <th>Method:</th>                <td>IRLS</td>       <th>  Log-Likelihood:    </th> <td> -331.52</td>\n",
       "</tr>\n",
       "<tr>\n",
       "  <th>Date:</th>            <td>Sat, 13 Jun 2020</td> <th>  Deviance:          </th> <td>  663.05</td>\n",
       "</tr>\n",
       "<tr>\n",
       "  <th>Time:</th>                <td>16:09:12</td>     <th>  Pearson chi2:      </th> <td>2.87e+03</td>\n",
       "</tr>\n",
       "<tr>\n",
       "  <th>No. Iterations:</th>         <td>23</td>        <th>                     </th>     <td> </td>   \n",
       "</tr>\n",
       "<tr>\n",
       "  <th>Covariance Type:</th>     <td>nonrobust</td>    <th>                     </th>     <td> </td>   \n",
       "</tr>\n",
       "</table>\n",
       "<table class=\"simpletable\">\n",
       "<tr>\n",
       "                            <td></td>                              <th>coef</th>     <th>std err</th>      <th>z</th>      <th>P>|z|</th>  <th>[0.025</th>    <th>0.975]</th>  \n",
       "</tr>\n",
       "<tr>\n",
       "  <th>const</th>                                                <td>   -2.5585</td> <td>    0.173</td> <td>  -14.818</td> <td> 0.000</td> <td>   -2.897</td> <td>   -2.220</td>\n",
       "</tr>\n",
       "<tr>\n",
       "  <th>Lead Source_Welingak Website</th>                         <td>   23.1448</td> <td> 2.33e+04</td> <td>    0.001</td> <td> 0.999</td> <td>-4.57e+04</td> <td> 4.57e+04</td>\n",
       "</tr>\n",
       "<tr>\n",
       "  <th>Last Notable Activity_SMS Sent</th>                       <td>    2.6711</td> <td>    0.279</td> <td>    9.585</td> <td> 0.000</td> <td>    2.125</td> <td>    3.217</td>\n",
       "</tr>\n",
       "<tr>\n",
       "  <th>Asymmetrique Activity Score_10.0</th>                     <td>   -4.5981</td> <td>    1.730</td> <td>   -2.657</td> <td> 0.008</td> <td>   -7.989</td> <td>   -1.207</td>\n",
       "</tr>\n",
       "<tr>\n",
       "  <th>Asymmetrique Activity Score_15.0</th>                     <td>    1.4834</td> <td>    0.290</td> <td>    5.119</td> <td> 0.000</td> <td>    0.915</td> <td>    2.051</td>\n",
       "</tr>\n",
       "<tr>\n",
       "  <th>Asymmetrique Activity Score_17.0</th>                     <td>   -1.9574</td> <td>    1.064</td> <td>   -1.840</td> <td> 0.066</td> <td>   -4.043</td> <td>    0.128</td>\n",
       "</tr>\n",
       "<tr>\n",
       "  <th>What is your current occupation_Unemployed</th>           <td>    2.2488</td> <td>    0.231</td> <td>    9.741</td> <td> 0.000</td> <td>    1.796</td> <td>    2.701</td>\n",
       "</tr>\n",
       "<tr>\n",
       "  <th>What is your current occupation_Working Professional</th> <td>    3.5188</td> <td>    1.066</td> <td>    3.300</td> <td> 0.001</td> <td>    1.429</td> <td>    5.609</td>\n",
       "</tr>\n",
       "<tr>\n",
       "  <th>Lead Quality_Worst</th>                                   <td>   -1.6964</td> <td>    0.844</td> <td>   -2.010</td> <td> 0.044</td> <td>   -3.351</td> <td>   -0.042</td>\n",
       "</tr>\n",
       "<tr>\n",
       "  <th>Tags_Already a student</th>                               <td>   -3.9790</td> <td>    1.067</td> <td>   -3.729</td> <td> 0.000</td> <td>   -6.070</td> <td>   -1.888</td>\n",
       "</tr>\n",
       "<tr>\n",
       "  <th>Tags_Closed by Horizzon</th>                              <td>    4.4051</td> <td>    1.037</td> <td>    4.247</td> <td> 0.000</td> <td>    2.372</td> <td>    6.438</td>\n",
       "</tr>\n",
       "<tr>\n",
       "  <th>Tags_Interested  in full time MBA</th>                    <td>  -24.0221</td> <td> 3.11e+04</td> <td>   -0.001</td> <td> 0.999</td> <td> -6.1e+04</td> <td>  6.1e+04</td>\n",
       "</tr>\n",
       "<tr>\n",
       "  <th>Tags_Interested in other courses</th>                     <td>   -4.6928</td> <td>    1.037</td> <td>   -4.525</td> <td> 0.000</td> <td>   -6.725</td> <td>   -2.660</td>\n",
       "</tr>\n",
       "<tr>\n",
       "  <th>Tags_Lost to EINS</th>                                    <td>    4.8317</td> <td>    1.134</td> <td>    4.260</td> <td> 0.000</td> <td>    2.609</td> <td>    7.055</td>\n",
       "</tr>\n",
       "<tr>\n",
       "  <th>Tags_Not doing further education</th>                     <td>  -23.5262</td> <td> 2.48e+04</td> <td>   -0.001</td> <td> 0.999</td> <td>-4.87e+04</td> <td> 4.87e+04</td>\n",
       "</tr>\n",
       "<tr>\n",
       "  <th>Tags_Ringing</th>                                         <td>   -4.9262</td> <td>    0.476</td> <td>  -10.356</td> <td> 0.000</td> <td>   -5.859</td> <td>   -3.994</td>\n",
       "</tr>\n",
       "<tr>\n",
       "  <th>Tags_Will revert after reading the email</th>             <td>    3.5638</td> <td>    0.414</td> <td>    8.614</td> <td> 0.000</td> <td>    2.753</td> <td>    4.375</td>\n",
       "</tr>\n",
       "<tr>\n",
       "  <th>Tags_invalid number</th>                                  <td>   -3.9289</td> <td>    1.102</td> <td>   -3.565</td> <td> 0.000</td> <td>   -6.089</td> <td>   -1.769</td>\n",
       "</tr>\n",
       "<tr>\n",
       "  <th>Tags_number not provided</th>                             <td>  -25.9261</td> <td> 5.34e+04</td> <td>   -0.000</td> <td> 1.000</td> <td>-1.05e+05</td> <td> 1.05e+05</td>\n",
       "</tr>\n",
       "<tr>\n",
       "  <th>Tags_switched off</th>                                    <td>   -4.7561</td> <td>    0.813</td> <td>   -5.848</td> <td> 0.000</td> <td>   -6.350</td> <td>   -3.162</td>\n",
       "</tr>\n",
       "<tr>\n",
       "  <th>Tags_wrong number given</th>                              <td>  -25.1587</td> <td> 4.55e+04</td> <td>   -0.001</td> <td> 1.000</td> <td>-8.92e+04</td> <td> 8.91e+04</td>\n",
       "</tr>\n",
       "</table>"
      ],
      "text/plain": [
       "<class 'statsmodels.iolib.summary.Summary'>\n",
       "\"\"\"\n",
       "                 Generalized Linear Model Regression Results                  \n",
       "==============================================================================\n",
       "Dep. Variable:              Converted   No. Observations:                 1794\n",
       "Model:                            GLM   Df Residuals:                     1773\n",
       "Model Family:                Binomial   Df Model:                           20\n",
       "Link Function:                  logit   Scale:                          1.0000\n",
       "Method:                          IRLS   Log-Likelihood:                -331.52\n",
       "Date:                Sat, 13 Jun 2020   Deviance:                       663.05\n",
       "Time:                        16:09:12   Pearson chi2:                 2.87e+03\n",
       "No. Iterations:                    23                                         \n",
       "Covariance Type:            nonrobust                                         \n",
       "========================================================================================================================\n",
       "                                                           coef    std err          z      P>|z|      [0.025      0.975]\n",
       "------------------------------------------------------------------------------------------------------------------------\n",
       "const                                                   -2.5585      0.173    -14.818      0.000      -2.897      -2.220\n",
       "Lead Source_Welingak Website                            23.1448   2.33e+04      0.001      0.999   -4.57e+04    4.57e+04\n",
       "Last Notable Activity_SMS Sent                           2.6711      0.279      9.585      0.000       2.125       3.217\n",
       "Asymmetrique Activity Score_10.0                        -4.5981      1.730     -2.657      0.008      -7.989      -1.207\n",
       "Asymmetrique Activity Score_15.0                         1.4834      0.290      5.119      0.000       0.915       2.051\n",
       "Asymmetrique Activity Score_17.0                        -1.9574      1.064     -1.840      0.066      -4.043       0.128\n",
       "What is your current occupation_Unemployed               2.2488      0.231      9.741      0.000       1.796       2.701\n",
       "What is your current occupation_Working Professional     3.5188      1.066      3.300      0.001       1.429       5.609\n",
       "Lead Quality_Worst                                      -1.6964      0.844     -2.010      0.044      -3.351      -0.042\n",
       "Tags_Already a student                                  -3.9790      1.067     -3.729      0.000      -6.070      -1.888\n",
       "Tags_Closed by Horizzon                                  4.4051      1.037      4.247      0.000       2.372       6.438\n",
       "Tags_Interested  in full time MBA                      -24.0221   3.11e+04     -0.001      0.999    -6.1e+04     6.1e+04\n",
       "Tags_Interested in other courses                        -4.6928      1.037     -4.525      0.000      -6.725      -2.660\n",
       "Tags_Lost to EINS                                        4.8317      1.134      4.260      0.000       2.609       7.055\n",
       "Tags_Not doing further education                       -23.5262   2.48e+04     -0.001      0.999   -4.87e+04    4.87e+04\n",
       "Tags_Ringing                                            -4.9262      0.476    -10.356      0.000      -5.859      -3.994\n",
       "Tags_Will revert after reading the email                 3.5638      0.414      8.614      0.000       2.753       4.375\n",
       "Tags_invalid number                                     -3.9289      1.102     -3.565      0.000      -6.089      -1.769\n",
       "Tags_number not provided                               -25.9261   5.34e+04     -0.000      1.000   -1.05e+05    1.05e+05\n",
       "Tags_switched off                                       -4.7561      0.813     -5.848      0.000      -6.350      -3.162\n",
       "Tags_wrong number given                                -25.1587   4.55e+04     -0.001      1.000   -8.92e+04    8.91e+04\n",
       "========================================================================================================================\n",
       "\"\"\""
      ]
     },
     "execution_count": 76,
     "metadata": {},
     "output_type": "execute_result"
    }
   ],
   "source": [
    "X_train_sm = sm.add_constant(X_train[col])\n",
    "logm2 = sm.GLM(y_train,X_train_sm, family = sm.families.Binomial())\n",
    "res = logm2.fit()\n",
    "res.summary()"
   ]
  },
  {
   "cell_type": "markdown",
   "metadata": {},
   "source": [
    "We will drop highly nonsignficant features,but leave cases that might be able to be kept in the model for another round."
   ]
  },
  {
   "cell_type": "code",
   "execution_count": 77,
   "metadata": {},
   "outputs": [],
   "source": [
    "col = col.drop(['Tags_number not provided', 'Tags_Not doing further education','Tags_switched off', \n",
    "               'Tags_Interested  in full time MBA', 'Tags_wrong number given','Lead Source_Welingak Website'], 1)"
   ]
  },
  {
   "cell_type": "code",
   "execution_count": 78,
   "metadata": {},
   "outputs": [
    {
     "data": {
      "text/html": [
       "<table class=\"simpletable\">\n",
       "<caption>Generalized Linear Model Regression Results</caption>\n",
       "<tr>\n",
       "  <th>Dep. Variable:</th>       <td>Converted</td>    <th>  No. Observations:  </th>  <td>  1794</td> \n",
       "</tr>\n",
       "<tr>\n",
       "  <th>Model:</th>                  <td>GLM</td>       <th>  Df Residuals:      </th>  <td>  1779</td> \n",
       "</tr>\n",
       "<tr>\n",
       "  <th>Model Family:</th>        <td>Binomial</td>     <th>  Df Model:          </th>  <td>    14</td> \n",
       "</tr>\n",
       "<tr>\n",
       "  <th>Link Function:</th>         <td>logit</td>      <th>  Scale:             </th> <td>  1.0000</td>\n",
       "</tr>\n",
       "<tr>\n",
       "  <th>Method:</th>                <td>IRLS</td>       <th>  Log-Likelihood:    </th> <td> -393.75</td>\n",
       "</tr>\n",
       "<tr>\n",
       "  <th>Date:</th>            <td>Sat, 13 Jun 2020</td> <th>  Deviance:          </th> <td>  787.50</td>\n",
       "</tr>\n",
       "<tr>\n",
       "  <th>Time:</th>                <td>16:09:12</td>     <th>  Pearson chi2:      </th> <td>2.18e+03</td>\n",
       "</tr>\n",
       "<tr>\n",
       "  <th>No. Iterations:</th>          <td>8</td>        <th>                     </th>     <td> </td>   \n",
       "</tr>\n",
       "<tr>\n",
       "  <th>Covariance Type:</th>     <td>nonrobust</td>    <th>                     </th>     <td> </td>   \n",
       "</tr>\n",
       "</table>\n",
       "<table class=\"simpletable\">\n",
       "<tr>\n",
       "                            <td></td>                              <th>coef</th>     <th>std err</th>      <th>z</th>      <th>P>|z|</th>  <th>[0.025</th>    <th>0.975]</th>  \n",
       "</tr>\n",
       "<tr>\n",
       "  <th>const</th>                                                <td>   -2.4766</td> <td>    0.162</td> <td>  -15.246</td> <td> 0.000</td> <td>   -2.795</td> <td>   -2.158</td>\n",
       "</tr>\n",
       "<tr>\n",
       "  <th>Last Notable Activity_SMS Sent</th>                       <td>    2.1633</td> <td>    0.226</td> <td>    9.575</td> <td> 0.000</td> <td>    1.720</td> <td>    2.606</td>\n",
       "</tr>\n",
       "<tr>\n",
       "  <th>Asymmetrique Activity Score_10.0</th>                     <td>   -4.4241</td> <td>    1.688</td> <td>   -2.621</td> <td> 0.009</td> <td>   -7.733</td> <td>   -1.116</td>\n",
       "</tr>\n",
       "<tr>\n",
       "  <th>Asymmetrique Activity Score_15.0</th>                     <td>    1.5292</td> <td>    0.259</td> <td>    5.906</td> <td> 0.000</td> <td>    1.022</td> <td>    2.037</td>\n",
       "</tr>\n",
       "<tr>\n",
       "  <th>Asymmetrique Activity Score_17.0</th>                     <td>   -2.1212</td> <td>    1.095</td> <td>   -1.937</td> <td> 0.053</td> <td>   -4.268</td> <td>    0.025</td>\n",
       "</tr>\n",
       "<tr>\n",
       "  <th>What is your current occupation_Unemployed</th>           <td>    1.5222</td> <td>    0.200</td> <td>    7.621</td> <td> 0.000</td> <td>    1.131</td> <td>    1.914</td>\n",
       "</tr>\n",
       "<tr>\n",
       "  <th>What is your current occupation_Working Professional</th> <td>    2.9448</td> <td>    1.013</td> <td>    2.907</td> <td> 0.004</td> <td>    0.960</td> <td>    4.930</td>\n",
       "</tr>\n",
       "<tr>\n",
       "  <th>Lead Quality_Worst</th>                                   <td>   -2.2365</td> <td>    0.809</td> <td>   -2.765</td> <td> 0.006</td> <td>   -3.822</td> <td>   -0.651</td>\n",
       "</tr>\n",
       "<tr>\n",
       "  <th>Tags_Already a student</th>                               <td>   -3.3401</td> <td>    1.067</td> <td>   -3.129</td> <td> 0.002</td> <td>   -5.432</td> <td>   -1.248</td>\n",
       "</tr>\n",
       "<tr>\n",
       "  <th>Tags_Closed by Horizzon</th>                              <td>    4.9109</td> <td>    1.024</td> <td>    4.794</td> <td> 0.000</td> <td>    2.903</td> <td>    6.919</td>\n",
       "</tr>\n",
       "<tr>\n",
       "  <th>Tags_Interested in other courses</th>                     <td>   -4.0486</td> <td>    1.032</td> <td>   -3.925</td> <td> 0.000</td> <td>   -6.070</td> <td>   -2.027</td>\n",
       "</tr>\n",
       "<tr>\n",
       "  <th>Tags_Lost to EINS</th>                                    <td>    5.2552</td> <td>    1.147</td> <td>    4.582</td> <td> 0.000</td> <td>    3.007</td> <td>    7.503</td>\n",
       "</tr>\n",
       "<tr>\n",
       "  <th>Tags_Ringing</th>                                         <td>   -3.8918</td> <td>    0.432</td> <td>   -9.016</td> <td> 0.000</td> <td>   -4.738</td> <td>   -3.046</td>\n",
       "</tr>\n",
       "<tr>\n",
       "  <th>Tags_Will revert after reading the email</th>             <td>    4.0599</td> <td>    0.399</td> <td>   10.172</td> <td> 0.000</td> <td>    3.278</td> <td>    4.842</td>\n",
       "</tr>\n",
       "<tr>\n",
       "  <th>Tags_invalid number</th>                                  <td>   -2.9085</td> <td>    1.076</td> <td>   -2.702</td> <td> 0.007</td> <td>   -5.018</td> <td>   -0.799</td>\n",
       "</tr>\n",
       "</table>"
      ],
      "text/plain": [
       "<class 'statsmodels.iolib.summary.Summary'>\n",
       "\"\"\"\n",
       "                 Generalized Linear Model Regression Results                  \n",
       "==============================================================================\n",
       "Dep. Variable:              Converted   No. Observations:                 1794\n",
       "Model:                            GLM   Df Residuals:                     1779\n",
       "Model Family:                Binomial   Df Model:                           14\n",
       "Link Function:                  logit   Scale:                          1.0000\n",
       "Method:                          IRLS   Log-Likelihood:                -393.75\n",
       "Date:                Sat, 13 Jun 2020   Deviance:                       787.50\n",
       "Time:                        16:09:12   Pearson chi2:                 2.18e+03\n",
       "No. Iterations:                     8                                         \n",
       "Covariance Type:            nonrobust                                         \n",
       "========================================================================================================================\n",
       "                                                           coef    std err          z      P>|z|      [0.025      0.975]\n",
       "------------------------------------------------------------------------------------------------------------------------\n",
       "const                                                   -2.4766      0.162    -15.246      0.000      -2.795      -2.158\n",
       "Last Notable Activity_SMS Sent                           2.1633      0.226      9.575      0.000       1.720       2.606\n",
       "Asymmetrique Activity Score_10.0                        -4.4241      1.688     -2.621      0.009      -7.733      -1.116\n",
       "Asymmetrique Activity Score_15.0                         1.5292      0.259      5.906      0.000       1.022       2.037\n",
       "Asymmetrique Activity Score_17.0                        -2.1212      1.095     -1.937      0.053      -4.268       0.025\n",
       "What is your current occupation_Unemployed               1.5222      0.200      7.621      0.000       1.131       1.914\n",
       "What is your current occupation_Working Professional     2.9448      1.013      2.907      0.004       0.960       4.930\n",
       "Lead Quality_Worst                                      -2.2365      0.809     -2.765      0.006      -3.822      -0.651\n",
       "Tags_Already a student                                  -3.3401      1.067     -3.129      0.002      -5.432      -1.248\n",
       "Tags_Closed by Horizzon                                  4.9109      1.024      4.794      0.000       2.903       6.919\n",
       "Tags_Interested in other courses                        -4.0486      1.032     -3.925      0.000      -6.070      -2.027\n",
       "Tags_Lost to EINS                                        5.2552      1.147      4.582      0.000       3.007       7.503\n",
       "Tags_Ringing                                            -3.8918      0.432     -9.016      0.000      -4.738      -3.046\n",
       "Tags_Will revert after reading the email                 4.0599      0.399     10.172      0.000       3.278       4.842\n",
       "Tags_invalid number                                     -2.9085      1.076     -2.702      0.007      -5.018      -0.799\n",
       "========================================================================================================================\n",
       "\"\"\""
      ]
     },
     "execution_count": 78,
     "metadata": {},
     "output_type": "execute_result"
    }
   ],
   "source": [
    "X_train_sm = sm.add_constant(X_train[col])\n",
    "logm3 = sm.GLM(y_train,X_train_sm, family = sm.families.Binomial())\n",
    "res = logm3.fit()\n",
    "res.summary()"
   ]
  },
  {
   "cell_type": "markdown",
   "metadata": {},
   "source": [
    "Drop remaining features that remain nonsignficant after experimentation"
   ]
  },
  {
   "cell_type": "code",
   "execution_count": 79,
   "metadata": {},
   "outputs": [],
   "source": [
    "col = col.drop(['Asymmetrique Activity Score_10.0','Asymmetrique Activity Score_17.0', 'Tags_invalid number'], 1)"
   ]
  },
  {
   "cell_type": "code",
   "execution_count": 80,
   "metadata": {
    "scrolled": true
   },
   "outputs": [
    {
     "data": {
      "text/html": [
       "<table class=\"simpletable\">\n",
       "<caption>Generalized Linear Model Regression Results</caption>\n",
       "<tr>\n",
       "  <th>Dep. Variable:</th>       <td>Converted</td>    <th>  No. Observations:  </th>  <td>  1794</td> \n",
       "</tr>\n",
       "<tr>\n",
       "  <th>Model:</th>                  <td>GLM</td>       <th>  Df Residuals:      </th>  <td>  1782</td> \n",
       "</tr>\n",
       "<tr>\n",
       "  <th>Model Family:</th>        <td>Binomial</td>     <th>  Df Model:          </th>  <td>    11</td> \n",
       "</tr>\n",
       "<tr>\n",
       "  <th>Link Function:</th>         <td>logit</td>      <th>  Scale:             </th> <td>  1.0000</td>\n",
       "</tr>\n",
       "<tr>\n",
       "  <th>Method:</th>                <td>IRLS</td>       <th>  Log-Likelihood:    </th> <td> -409.18</td>\n",
       "</tr>\n",
       "<tr>\n",
       "  <th>Date:</th>            <td>Sat, 13 Jun 2020</td> <th>  Deviance:          </th> <td>  818.36</td>\n",
       "</tr>\n",
       "<tr>\n",
       "  <th>Time:</th>                <td>16:09:12</td>     <th>  Pearson chi2:      </th> <td>2.13e+03</td>\n",
       "</tr>\n",
       "<tr>\n",
       "  <th>No. Iterations:</th>          <td>8</td>        <th>                     </th>     <td> </td>   \n",
       "</tr>\n",
       "<tr>\n",
       "  <th>Covariance Type:</th>     <td>nonrobust</td>    <th>                     </th>     <td> </td>   \n",
       "</tr>\n",
       "</table>\n",
       "<table class=\"simpletable\">\n",
       "<tr>\n",
       "                            <td></td>                              <th>coef</th>     <th>std err</th>      <th>z</th>      <th>P>|z|</th>  <th>[0.025</th>    <th>0.975]</th>  \n",
       "</tr>\n",
       "<tr>\n",
       "  <th>const</th>                                                <td>   -2.5636</td> <td>    0.158</td> <td>  -16.239</td> <td> 0.000</td> <td>   -2.873</td> <td>   -2.254</td>\n",
       "</tr>\n",
       "<tr>\n",
       "  <th>Last Notable Activity_SMS Sent</th>                       <td>    2.1505</td> <td>    0.219</td> <td>    9.819</td> <td> 0.000</td> <td>    1.721</td> <td>    2.580</td>\n",
       "</tr>\n",
       "<tr>\n",
       "  <th>Asymmetrique Activity Score_15.0</th>                     <td>    1.5885</td> <td>    0.255</td> <td>    6.240</td> <td> 0.000</td> <td>    1.090</td> <td>    2.087</td>\n",
       "</tr>\n",
       "<tr>\n",
       "  <th>What is your current occupation_Unemployed</th>           <td>    1.4446</td> <td>    0.195</td> <td>    7.419</td> <td> 0.000</td> <td>    1.063</td> <td>    1.826</td>\n",
       "</tr>\n",
       "<tr>\n",
       "  <th>What is your current occupation_Working Professional</th> <td>    2.8423</td> <td>    0.938</td> <td>    3.030</td> <td> 0.002</td> <td>    1.004</td> <td>    4.681</td>\n",
       "</tr>\n",
       "<tr>\n",
       "  <th>Lead Quality_Worst</th>                                   <td>   -2.3113</td> <td>    0.721</td> <td>   -3.204</td> <td> 0.001</td> <td>   -3.725</td> <td>   -0.897</td>\n",
       "</tr>\n",
       "<tr>\n",
       "  <th>Tags_Already a student</th>                               <td>   -3.2659</td> <td>    1.060</td> <td>   -3.082</td> <td> 0.002</td> <td>   -5.343</td> <td>   -1.189</td>\n",
       "</tr>\n",
       "<tr>\n",
       "  <th>Tags_Closed by Horizzon</th>                              <td>    5.0557</td> <td>    1.024</td> <td>    4.939</td> <td> 0.000</td> <td>    3.049</td> <td>    7.062</td>\n",
       "</tr>\n",
       "<tr>\n",
       "  <th>Tags_Interested in other courses</th>                     <td>   -3.9045</td> <td>    1.030</td> <td>   -3.793</td> <td> 0.000</td> <td>   -5.922</td> <td>   -1.887</td>\n",
       "</tr>\n",
       "<tr>\n",
       "  <th>Tags_Lost to EINS</th>                                    <td>    4.4834</td> <td>    0.847</td> <td>    5.296</td> <td> 0.000</td> <td>    2.824</td> <td>    6.143</td>\n",
       "</tr>\n",
       "<tr>\n",
       "  <th>Tags_Ringing</th>                                         <td>   -3.7259</td> <td>    0.428</td> <td>   -8.714</td> <td> 0.000</td> <td>   -4.564</td> <td>   -2.888</td>\n",
       "</tr>\n",
       "<tr>\n",
       "  <th>Tags_Will revert after reading the email</th>             <td>    4.1441</td> <td>    0.390</td> <td>   10.639</td> <td> 0.000</td> <td>    3.381</td> <td>    4.908</td>\n",
       "</tr>\n",
       "</table>"
      ],
      "text/plain": [
       "<class 'statsmodels.iolib.summary.Summary'>\n",
       "\"\"\"\n",
       "                 Generalized Linear Model Regression Results                  \n",
       "==============================================================================\n",
       "Dep. Variable:              Converted   No. Observations:                 1794\n",
       "Model:                            GLM   Df Residuals:                     1782\n",
       "Model Family:                Binomial   Df Model:                           11\n",
       "Link Function:                  logit   Scale:                          1.0000\n",
       "Method:                          IRLS   Log-Likelihood:                -409.18\n",
       "Date:                Sat, 13 Jun 2020   Deviance:                       818.36\n",
       "Time:                        16:09:12   Pearson chi2:                 2.13e+03\n",
       "No. Iterations:                     8                                         \n",
       "Covariance Type:            nonrobust                                         \n",
       "========================================================================================================================\n",
       "                                                           coef    std err          z      P>|z|      [0.025      0.975]\n",
       "------------------------------------------------------------------------------------------------------------------------\n",
       "const                                                   -2.5636      0.158    -16.239      0.000      -2.873      -2.254\n",
       "Last Notable Activity_SMS Sent                           2.1505      0.219      9.819      0.000       1.721       2.580\n",
       "Asymmetrique Activity Score_15.0                         1.5885      0.255      6.240      0.000       1.090       2.087\n",
       "What is your current occupation_Unemployed               1.4446      0.195      7.419      0.000       1.063       1.826\n",
       "What is your current occupation_Working Professional     2.8423      0.938      3.030      0.002       1.004       4.681\n",
       "Lead Quality_Worst                                      -2.3113      0.721     -3.204      0.001      -3.725      -0.897\n",
       "Tags_Already a student                                  -3.2659      1.060     -3.082      0.002      -5.343      -1.189\n",
       "Tags_Closed by Horizzon                                  5.0557      1.024      4.939      0.000       3.049       7.062\n",
       "Tags_Interested in other courses                        -3.9045      1.030     -3.793      0.000      -5.922      -1.887\n",
       "Tags_Lost to EINS                                        4.4834      0.847      5.296      0.000       2.824       6.143\n",
       "Tags_Ringing                                            -3.7259      0.428     -8.714      0.000      -4.564      -2.888\n",
       "Tags_Will revert after reading the email                 4.1441      0.390     10.639      0.000       3.381       4.908\n",
       "========================================================================================================================\n",
       "\"\"\""
      ]
     },
     "execution_count": 80,
     "metadata": {},
     "output_type": "execute_result"
    }
   ],
   "source": [
    "X_train_sm = sm.add_constant(X_train[col])\n",
    "logm4 = sm.GLM(y_train,X_train_sm, family = sm.families.Binomial())\n",
    "res = logm4.fit()\n",
    "res.summary()"
   ]
  },
  {
   "cell_type": "code",
   "execution_count": 81,
   "metadata": {},
   "outputs": [],
   "source": [
    "from statsmodels.stats.outliers_influence import variance_inflation_factor"
   ]
  },
  {
   "cell_type": "code",
   "execution_count": 82,
   "metadata": {},
   "outputs": [
    {
     "data": {
      "text/html": [
       "<div>\n",
       "<style scoped>\n",
       "    .dataframe tbody tr th:only-of-type {\n",
       "        vertical-align: middle;\n",
       "    }\n",
       "\n",
       "    .dataframe tbody tr th {\n",
       "        vertical-align: top;\n",
       "    }\n",
       "\n",
       "    .dataframe thead th {\n",
       "        text-align: right;\n",
       "    }\n",
       "</style>\n",
       "<table border=\"1\" class=\"dataframe\">\n",
       "  <thead>\n",
       "    <tr style=\"text-align: right;\">\n",
       "      <th></th>\n",
       "      <th>Columns</th>\n",
       "      <th>VIF</th>\n",
       "    </tr>\n",
       "  </thead>\n",
       "  <tbody>\n",
       "    <tr>\n",
       "      <td>3</td>\n",
       "      <td>What is your current occupation_Working Profes...</td>\n",
       "      <td>1.70</td>\n",
       "    </tr>\n",
       "    <tr>\n",
       "      <td>9</td>\n",
       "      <td>Tags_Ringing</td>\n",
       "      <td>1.70</td>\n",
       "    </tr>\n",
       "    <tr>\n",
       "      <td>5</td>\n",
       "      <td>Tags_Already a student</td>\n",
       "      <td>1.55</td>\n",
       "    </tr>\n",
       "    <tr>\n",
       "      <td>4</td>\n",
       "      <td>Lead Quality_Worst</td>\n",
       "      <td>1.53</td>\n",
       "    </tr>\n",
       "    <tr>\n",
       "      <td>7</td>\n",
       "      <td>Tags_Interested in other courses</td>\n",
       "      <td>1.28</td>\n",
       "    </tr>\n",
       "    <tr>\n",
       "      <td>6</td>\n",
       "      <td>Tags_Closed by Horizzon</td>\n",
       "      <td>1.22</td>\n",
       "    </tr>\n",
       "    <tr>\n",
       "      <td>1</td>\n",
       "      <td>Asymmetrique Activity Score_15.0</td>\n",
       "      <td>1.16</td>\n",
       "    </tr>\n",
       "    <tr>\n",
       "      <td>8</td>\n",
       "      <td>Tags_Lost to EINS</td>\n",
       "      <td>1.08</td>\n",
       "    </tr>\n",
       "    <tr>\n",
       "      <td>10</td>\n",
       "      <td>Tags_Will revert after reading the email</td>\n",
       "      <td>0.85</td>\n",
       "    </tr>\n",
       "    <tr>\n",
       "      <td>0</td>\n",
       "      <td>Last Notable Activity_SMS Sent</td>\n",
       "      <td>0.57</td>\n",
       "    </tr>\n",
       "    <tr>\n",
       "      <td>2</td>\n",
       "      <td>What is your current occupation_Unemployed</td>\n",
       "      <td>0.06</td>\n",
       "    </tr>\n",
       "  </tbody>\n",
       "</table>\n",
       "</div>"
      ],
      "text/plain": [
       "                                              Columns   VIF\n",
       "3   What is your current occupation_Working Profes...  1.70\n",
       "9                                        Tags_Ringing  1.70\n",
       "5                              Tags_Already a student  1.55\n",
       "4                                  Lead Quality_Worst  1.53\n",
       "7                    Tags_Interested in other courses  1.28\n",
       "6                             Tags_Closed by Horizzon  1.22\n",
       "1                    Asymmetrique Activity Score_15.0  1.16\n",
       "8                                   Tags_Lost to EINS  1.08\n",
       "10           Tags_Will revert after reading the email  0.85\n",
       "0                      Last Notable Activity_SMS Sent  0.57\n",
       "2          What is your current occupation_Unemployed  0.06"
      ]
     },
     "execution_count": 82,
     "metadata": {},
     "output_type": "execute_result"
    }
   ],
   "source": [
    "#VIF looks ok\n",
    "vif = pd.DataFrame()\n",
    "vif['Columns'] = X_train[col].columns\n",
    "vif['VIF'] = [variance_inflation_factor(X_train[col].values, i) for i in range(X_train[col].shape[1])]\n",
    "vif['VIF'] = round(vif['VIF'], 2)\n",
    "vif = vif.sort_values(by = \"VIF\", ascending = False)\n",
    "vif"
   ]
  },
  {
   "cell_type": "code",
   "execution_count": 83,
   "metadata": {},
   "outputs": [
    {
     "data": {
      "text/plain": [
       "LogisticRegression(C=1.0, class_weight=None, dual=False, fit_intercept=True,\n",
       "                   intercept_scaling=1, l1_ratio=None, max_iter=100,\n",
       "                   multi_class='warn', n_jobs=None, penalty='l2',\n",
       "                   random_state=None, solver='warn', tol=0.0001, verbose=0,\n",
       "                   warm_start=False)"
      ]
     },
     "execution_count": 83,
     "metadata": {},
     "output_type": "execute_result"
    }
   ],
   "source": [
    "model2 = LogisticRegression()\n",
    "model2.fit(X_train[col], y_train)"
   ]
  },
  {
   "cell_type": "code",
   "execution_count": 84,
   "metadata": {},
   "outputs": [],
   "source": [
    "predicted_train = model2.predict(X_train[col])"
   ]
  },
  {
   "cell_type": "code",
   "execution_count": 85,
   "metadata": {},
   "outputs": [
    {
     "name": "stdout",
     "output_type": "stream",
     "text": [
      "0.9136008918617614\n"
     ]
    }
   ],
   "source": [
    "#Check Training Accuracy\n",
    "print(metrics.accuracy_score(y_train, predicted_train))"
   ]
  },
  {
   "cell_type": "code",
   "execution_count": 86,
   "metadata": {},
   "outputs": [
    {
     "name": "stdout",
     "output_type": "stream",
     "text": [
      "[0 0 1 ... 0 0 0]\n"
     ]
    }
   ],
   "source": [
    "predicted = model2.predict(X_test[col])\n",
    "print(predicted)"
   ]
  },
  {
   "cell_type": "code",
   "execution_count": 87,
   "metadata": {},
   "outputs": [
    {
     "name": "stdout",
     "output_type": "stream",
     "text": [
      "[[0.90208989 0.09791011]\n",
      " [0.60190325 0.39809675]\n",
      " [0.01706932 0.98293068]\n",
      " ...\n",
      " [0.98571226 0.01428774]\n",
      " [0.74617559 0.25382441]\n",
      " [0.9121517  0.0878483 ]]\n"
     ]
    }
   ],
   "source": [
    "probs = model2.predict_proba(X_test[col])\n",
    "print(probs)"
   ]
  },
  {
   "cell_type": "code",
   "execution_count": 88,
   "metadata": {},
   "outputs": [
    {
     "name": "stdout",
     "output_type": "stream",
     "text": [
      "0.9054185819752054\n",
      "0.9565316061870084\n"
     ]
    }
   ],
   "source": [
    "print(metrics.accuracy_score(y_test, predicted))\n",
    "print(metrics.roc_auc_score(y_test, probs[:, 1]))"
   ]
  },
  {
   "cell_type": "code",
   "execution_count": 89,
   "metadata": {},
   "outputs": [
    {
     "name": "stdout",
     "output_type": "stream",
     "text": [
      "[[4168  256]\n",
      " [ 423 2332]]\n",
      "              precision    recall  f1-score   support\n",
      "\n",
      "           0       0.91      0.94      0.92      4424\n",
      "           1       0.90      0.85      0.87      2755\n",
      "\n",
      "    accuracy                           0.91      7179\n",
      "   macro avg       0.90      0.89      0.90      7179\n",
      "weighted avg       0.91      0.91      0.90      7179\n",
      "\n"
     ]
    }
   ],
   "source": [
    "#Confusion Matrix\n",
    "print(metrics.confusion_matrix(y_test, predicted))\n",
    "print(metrics.classification_report(y_test, predicted))"
   ]
  },
  {
   "cell_type": "code",
   "execution_count": 90,
   "metadata": {},
   "outputs": [
    {
     "name": "stdout",
     "output_type": "stream",
     "text": [
      "Cross-Validation Accuracy Scores [0.89444444 0.94444444 0.92777778 0.91111111 0.90555556 0.89385475\n",
      " 0.92178771 0.90502793 0.91620112 0.91573034]\n"
     ]
    },
    {
     "data": {
      "text/plain": [
       "(0.8938547486033519, 0.9135935178791872, 0.9444444444444444)"
      ]
     },
     "execution_count": 90,
     "metadata": {},
     "output_type": "execute_result"
    }
   ],
   "source": [
    "#check cross validation to assess accuracy\n",
    "from sklearn.model_selection import cross_val_score\n",
    "\n",
    "clf = LogisticRegression(solver='lbfgs')\n",
    "\n",
    "scores = cross_val_score(clf, X_train[col], y_train, cv=10)\n",
    "print('Cross-Validation Accuracy Scores', scores)\n",
    "\n",
    "scores = pd.Series(scores)\n",
    "scores.min(), scores.mean(), scores.max()"
   ]
  },
  {
   "cell_type": "code",
   "execution_count": 91,
   "metadata": {},
   "outputs": [
    {
     "data": {
      "text/html": [
       "<div>\n",
       "<style scoped>\n",
       "    .dataframe tbody tr th:only-of-type {\n",
       "        vertical-align: middle;\n",
       "    }\n",
       "\n",
       "    .dataframe tbody tr th {\n",
       "        vertical-align: top;\n",
       "    }\n",
       "\n",
       "    .dataframe thead th {\n",
       "        text-align: right;\n",
       "    }\n",
       "</style>\n",
       "<table border=\"1\" class=\"dataframe\">\n",
       "  <thead>\n",
       "    <tr style=\"text-align: right;\">\n",
       "      <th></th>\n",
       "      <th>Lead Score</th>\n",
       "      <th>Predicted Outcome</th>\n",
       "      <th>Actual Outcome</th>\n",
       "    </tr>\n",
       "    <tr>\n",
       "      <th>Lead Number</th>\n",
       "      <th></th>\n",
       "      <th></th>\n",
       "      <th></th>\n",
       "    </tr>\n",
       "  </thead>\n",
       "  <tbody>\n",
       "    <tr>\n",
       "      <td>641725</td>\n",
       "      <td>9</td>\n",
       "      <td>0</td>\n",
       "      <td>0</td>\n",
       "    </tr>\n",
       "    <tr>\n",
       "      <td>613102</td>\n",
       "      <td>39</td>\n",
       "      <td>0</td>\n",
       "      <td>0</td>\n",
       "    </tr>\n",
       "    <tr>\n",
       "      <td>598020</td>\n",
       "      <td>98</td>\n",
       "      <td>1</td>\n",
       "      <td>1</td>\n",
       "    </tr>\n",
       "    <tr>\n",
       "      <td>651611</td>\n",
       "      <td>97</td>\n",
       "      <td>1</td>\n",
       "      <td>1</td>\n",
       "    </tr>\n",
       "    <tr>\n",
       "      <td>595073</td>\n",
       "      <td>93</td>\n",
       "      <td>1</td>\n",
       "      <td>1</td>\n",
       "    </tr>\n",
       "    <tr>\n",
       "      <td>657686</td>\n",
       "      <td>97</td>\n",
       "      <td>1</td>\n",
       "      <td>1</td>\n",
       "    </tr>\n",
       "    <tr>\n",
       "      <td>593831</td>\n",
       "      <td>25</td>\n",
       "      <td>0</td>\n",
       "      <td>0</td>\n",
       "    </tr>\n",
       "    <tr>\n",
       "      <td>586770</td>\n",
       "      <td>1</td>\n",
       "      <td>0</td>\n",
       "      <td>0</td>\n",
       "    </tr>\n",
       "    <tr>\n",
       "      <td>624430</td>\n",
       "      <td>99</td>\n",
       "      <td>1</td>\n",
       "      <td>1</td>\n",
       "    </tr>\n",
       "    <tr>\n",
       "      <td>585273</td>\n",
       "      <td>70</td>\n",
       "      <td>1</td>\n",
       "      <td>0</td>\n",
       "    </tr>\n",
       "  </tbody>\n",
       "</table>\n",
       "</div>"
      ],
      "text/plain": [
       "             Lead Score  Predicted Outcome  Actual Outcome\n",
       "Lead Number                                               \n",
       "641725                9                  0               0\n",
       "613102               39                  0               0\n",
       "598020               98                  1               1\n",
       "651611               97                  1               1\n",
       "595073               93                  1               1\n",
       "657686               97                  1               1\n",
       "593831               25                  0               0\n",
       "586770                1                  0               0\n",
       "624430               99                  1               1\n",
       "585273               70                  1               0"
      ]
     },
     "execution_count": 91,
     "metadata": {},
     "output_type": "execute_result"
    }
   ],
   "source": [
    "#Final results with Lead Score\n",
    "results = pd.DataFrame({'Lead Score':(probs[:,1]*100).astype('int'), 'Predicted Outcome': predicted, \n",
    "                       'Actual Outcome':y_test})\n",
    "results.head(10)"
   ]
  },
  {
   "cell_type": "markdown",
   "metadata": {},
   "source": [
    "The final result is a model that can predict whether or not a lead will convert to a paying customer, using a small number of features from the overall data. Interestingly it seems the top features are based around if the lead is a working professional or unemployed, if they decided to go with another company, and whether or not they are continuing to communicate with the sales team. Additonaly it useful if the sales team has tagged them as being a bad prospect, but other tags don't seem to contribute much."
   ]
  },
  {
   "cell_type": "code",
   "execution_count": null,
   "metadata": {},
   "outputs": [],
   "source": []
  }
 ],
 "metadata": {
  "kernelspec": {
   "display_name": "Python 3",
   "language": "python",
   "name": "python3"
  },
  "language_info": {
   "codemirror_mode": {
    "name": "ipython",
    "version": 3
   },
   "file_extension": ".py",
   "mimetype": "text/x-python",
   "name": "python",
   "nbconvert_exporter": "python",
   "pygments_lexer": "ipython3",
   "version": "3.7.4"
  }
 },
 "nbformat": 4,
 "nbformat_minor": 2
}
